{
 "cells": [
  {
   "attachments": {},
   "cell_type": "markdown",
   "metadata": {},
   "source": [
    "# #Spaguetti Code for instruments"
   ]
  },
  {
   "attachments": {},
   "cell_type": "markdown",
   "metadata": {},
   "source": [
    "## NanoPZ stage"
   ]
  },
  {
   "cell_type": "code",
   "execution_count": 2,
   "metadata": {},
   "outputs": [
    {
     "name": "stdout",
     "output_type": "stream",
     "text": [
      "The autoreload extension is already loaded. To reload it, use:\n",
      "  %reload_ext autoreload\n"
     ]
    }
   ],
   "source": [
    "%load_ext autoreload\n",
    "%autoreload 2\n",
    "import nanopz\n",
    "import random"
   ]
  },
  {
   "cell_type": "code",
   "execution_count": 3,
   "metadata": {},
   "outputs": [
    {
     "name": "stdout",
     "output_type": "stream",
     "text": [
      "Serial connection established.\n",
      "Scanning switchbox for controllers...\n",
      "Turning on the motor...\n"
     ]
    }
   ],
   "source": [
    "nano = nanopz.NanoPZ()"
   ]
  },
  {
   "cell_type": "code",
   "execution_count": 6,
   "metadata": {},
   "outputs": [
    {
     "data": {
      "text/plain": [
       "{'x': -1216, 'y': 31392}"
      ]
     },
     "execution_count": 6,
     "metadata": {},
     "output_type": "execute_result"
    }
   ],
   "source": [
    "nano.read_position('xy')"
   ]
  },
  {
   "cell_type": "code",
   "execution_count": 8,
   "metadata": {},
   "outputs": [],
   "source": [
    "# go to origin\n",
    "xpos = nano.read_position('x')\n",
    "nano.relative_move('x',-xpos)\n",
    "xpos = nano.read_position('x')\n",
    "ypos = nano.read_position('y')\n",
    "nano.relative_move('y',-ypos)\n",
    "ypos = nano.read_position('y')"
   ]
  },
  {
   "cell_type": "code",
   "execution_count": 9,
   "metadata": {},
   "outputs": [
    {
     "name": "stdout",
     "output_type": "stream",
     "text": [
      "bye bye\n"
     ]
    }
   ],
   "source": [
    "# make a linear random move\n",
    "while True:\n",
    "    try:\n",
    "        chosenaxis = random.randint(0,1)\n",
    "        stepsize_in_um = random.uniform(-100,100)\n",
    "        axis = {0:'x', 1:'y'}[chosenaxis]\n",
    "        nano.relative_move(axis,stepsize_in_um, unit='um')\n",
    "    except KeyboardInterrupt:\n",
    "        print(\"bye bye\")\n",
    "        break"
   ]
  },
  {
   "attachments": {},
   "cell_type": "markdown",
   "metadata": {},
   "source": [
    "## ##Function Generator"
   ]
  },
  {
   "cell_type": "code",
   "execution_count": 62,
   "metadata": {},
   "outputs": [],
   "source": [
    "import serial\n",
    "import serial.tools.list_ports\n",
    "from time import sleep\n",
    "import sys\n",
    "import numpy as np\n",
    "\n",
    "class Agilent33120A():\n",
    "    def list_ports():\n",
    "        '''List the current computer's serial ports.'''\n",
    "        ports = list(serial.tools.list_ports.comports())\n",
    "        the_ports = []\n",
    "        for port, desc, hwid in sorted(ports):\n",
    "            the_ports.append((port,desc,hwid))\n",
    "            print(\"{}: {} [{}]\".format(port, desc, hwid))\n",
    "        return the_ports\n",
    "    def __init__(self, settings={}):\n",
    "        self.defaults = {'port':'COM5',\n",
    "            'baudrate':9600,\n",
    "            'lf':'\\r\\n',\n",
    "            'timeout': 0.5,\n",
    "            'mode':'DC'}\n",
    "        self.shortname = 'Function Generator'\n",
    "        self.fullname = 'HP - 33120A Function Generator'\n",
    "        # self.manual_fname = './zialab/man/'+self.fullname + '.pdf'\n",
    "        self.platform = sys.platform\n",
    "        self.notes = '''Source of all functions.'''\n",
    "        if settings: # if settings are given, then set it up like so\n",
    "            self.settings = settings\n",
    "        else: # else use defaults\n",
    "            print(\"Using default settings:\")\n",
    "            print(self.defaults)\n",
    "            self.settings = self.defaults\n",
    "        self.baudrate = self.settings['baudrate']\n",
    "        self.port = self.settings['port']\n",
    "        self.timeout = self.settings['timeout']\n",
    "        self.lf = self.settings['lf']\n",
    "        self.mode = self.settings['mode']\n",
    "        self.wavetypes = ['SIN', 'SQU', 'TRI']\n",
    "        self.max_freqs = {'SIN': 15e6, 'SQU': 15e6, 'TRI': 100e3}\n",
    "        self.min_freqs = {'SIN': 1e-4, 'SQU': 1e-4, 'TRI': 1e-4}\n",
    "        self.min_Vpp = 50e-3\n",
    "        self.Vmax_options = {'INF': 10, '50': 5.}\n",
    "        self.termination = '50'\n",
    "        try:\n",
    "            print(\"Setting up the serial connection.\")\n",
    "            self.serialconn = serial.Serial(port=self.port,\n",
    "                baudrate=self.baudrate,\n",
    "                timeout=self.timeout)\n",
    "            print(\"Setting up the system to remote mode...\")\n",
    "            self.sendtodev('SYST:REMOTE')\n",
    "        except:\n",
    "            print(\"There was a problem setting up the serial connection.\")\n",
    "        print(\"Setting output termination to 50 Ohm.\")\n",
    "        self.set_output_termination(self.termination)\n",
    "        self.max_Vpp = self.Vmax_options[self.termination]\n",
    "    \n",
    "    def makecmd(self,command):\n",
    "        '''\n",
    "        Composes command according to serial config.\n",
    "        '''\n",
    "        return command+self.lf\n",
    "\n",
    "    def sendtodev(self,command):\n",
    "        '''\n",
    "        Sends command to device through the serial connection and return the response.\n",
    "        '''\n",
    "        self.serialconn.write(self.makecmd(command).encode())\n",
    "        return '\\n'.join([s.decode()[:-2] for s in self.serialconn.readlines()])\n",
    "\n",
    "    def set_output_termination(self, termination):\n",
    "        '''\n",
    "        Parameters\n",
    "        ----------\n",
    "        termination : str\n",
    "            Termination. Options are 50 or 1k.\n",
    "        '''\n",
    "        termination = str(termination)\n",
    "        self.termination = termination\n",
    "        assert termination in ['50', 'INF'], \"Invalid termination,  has to be '50' or 'INF'.\"\n",
    "        cmd = 'OUTPUT:LOAD %s' % termination\n",
    "        try:\n",
    "            rep = self.sendtodev(cmd)\n",
    "            self.Vmax = self.Vmax_options[self.termination]\n",
    "            return rep\n",
    "        except:\n",
    "           print(\"Error setting output termination.\")\n",
    "    \n",
    "    def wave(self, wavetype, freq, ampl, offset):\n",
    "        '''\n",
    "        Sets the waveform, frequency, amplitude, and offset.\n",
    "        Parameters\n",
    "        ----------\n",
    "        wavetype : str\n",
    "            Type of waveform. Options are SIN, SQU, TRI.\n",
    "        freq : float\n",
    "            Frequency in Hz.\n",
    "        ampl : float\n",
    "            Amplitude in V.\n",
    "        offset: float\n",
    "            Offset in V.\n",
    "        '''\n",
    "        assert wavetype in self.wavetypes, \"Invalid wavetype.\"\n",
    "        assert freq >= self.min_freqs[wavetype], \"Frequency too low.\"\n",
    "        assert freq <= self.max_freqs[wavetype], \"Frequency too high.\"\n",
    "        assert ampl >= self.min_Vpp, \"Amplitude too low.\"\n",
    "        assert ampl <= self.max_Vpp, \"Amplitude too high.\"\n",
    "        cmd = \"APPL:%s %f, %f, %f\" % (wavetype, freq, ampl, offset)\n",
    "        return self.sendtodev(cmd)\n",
    "    \n",
    "    def set_wavetype(self, wavetype):\n",
    "        '''\n",
    "        Parameters\n",
    "        ----------\n",
    "        wavetype : str\n",
    "            Type of waveform. Options are SIN, SQU, TRI.\n",
    "        '''\n",
    "        assert wavetype in self.wavetypes, \"Invalid wavetype.\"\n",
    "        cmd = 'SOURCE:FUNCTION:SHAPE %s' % wavetype\n",
    "        return self.sendtodev(cmd)\n",
    "\n",
    "    def set_amplitude(self, amplitude_in_v):\n",
    "        '''\n",
    "        Parameters\n",
    "        ----------\n",
    "        amplitude_in_v : float\n",
    "            Peak-to-peak amplitude in V.\n",
    "        '''\n",
    "        assert amplitude_in_v >= self.min_Vpp, \"Amplitude too low.\"\n",
    "        assert amplitude_in_v <= self.max_Vpp, \"Amplitude too high.\"\n",
    "        cmd = 'SOURCE:VOLT %f' % amplitude_in_v\n",
    "        return self.sendtodev(cmd)\n",
    "\n",
    "    def set_frequency(self, freq_in_Hz):\n",
    "        '''\n",
    "        Parameters\n",
    "        ----------\n",
    "        freq : float\n",
    "            Frequency in Hz.\n",
    "        '''\n",
    "        wavetype = self.get_wavetype()\n",
    "        assert freq_in_Hz >= self.min_freqs[wavetype], \"Frequency too low.\"\n",
    "        assert freq_in_Hz <= self.max_freqs[wavetype], \"Frequency too high.\"\n",
    "        cmd = 'SOURCE:FREQ %f' % freq_in_Hz\n",
    "        return self.sendtodev(cmd)\n",
    "    \n",
    "    def set_offset(self, offset_in_v):\n",
    "        '''\n",
    "        Parameters\n",
    "        ----------\n",
    "        offset_in_v : float\n",
    "            Offset in V.\n",
    "        '''\n",
    "        current_amp = self.get_amplitude()\n",
    "        assert (abs(offset_in_v) + current_amp/2) <= self.max_Vpp, \"Invalid offset.\"\n",
    "        assert abs(offset_in_v) <= 2*current_amp, \"Invalid offset.\"\n",
    "        cmd = 'SOURCE:VOLT:OFFSET %f' % offset_in_v\n",
    "        return self.sendtodev(cmd)\n",
    "\n",
    "    def close(self):\n",
    "        '''\n",
    "        Close the serial connection.\n",
    "        '''\n",
    "        self.serialconn.close()\n",
    "\n",
    "    def get_amplitude(self):\n",
    "        '''\n",
    "        Get the current peak-to-peak amplitude in V.\n",
    "        '''\n",
    "        cmd = 'SOURCE:VOLT?'\n",
    "        ampl = self.sendtodev(cmd)\n",
    "        try:\n",
    "            ampl = float(ampl)\n",
    "        except:\n",
    "            print(\"Error while getting amplitude.\")\n",
    "            ampl = None\n",
    "        return ampl\n",
    "\n",
    "    def get_offset(self):\n",
    "        '''\n",
    "        Get the current offset.\n",
    "        '''\n",
    "        cmd = 'SOURCE:VOLT:OFFSET?'\n",
    "        off = self.sendtodev(cmd)\n",
    "        try:\n",
    "            off = float(off)\n",
    "        except:\n",
    "            print(\"Error while getting offset.\")\n",
    "            off = None\n",
    "        return off\n",
    "\n",
    "    def get_frequency(self):\n",
    "        '''\n",
    "        Get the current frequency.\n",
    "        '''\n",
    "        cmd = 'SOURCE:FREQ?'\n",
    "        freq = self.sendtodev(cmd)\n",
    "        try:\n",
    "            freq = float(freq)\n",
    "        except:\n",
    "            print(\"Error while getting frequency.\")\n",
    "            freq = None\n",
    "        return freq\n",
    "\n",
    "    def get_wavetype(self):\n",
    "        '''\n",
    "        Get the current wave form.\n",
    "        '''\n",
    "        cmd = 'SOURCE:FUNCTION:SHAPE?'\n",
    "        return self.sendtodev(cmd)\n",
    "\n",
    "    def smoothwave(self, wavetype, freq, ampl, offset, steps=10, duration=2):\n",
    "        '''\n",
    "        This function changes the wavetype to the given one, then smoothly\n",
    "        changes the frequency, amplitude, and offset to the given values.\n",
    "        Taking steps number of steps, for a total transition time of time_del.\n",
    "        Parameters\n",
    "        ----------\n",
    "        wavetype : str\n",
    "            Type of waveform. Options are SIN, SQU, TRI.\n",
    "        freq : float\n",
    "            Frequency in Hz.\n",
    "        ampl : float\n",
    "            Peak-to-peak amplitude in V.\n",
    "        offset: float\n",
    "            Offset in V.\n",
    "        steps: int\n",
    "            Number of steps to take.\n",
    "        duration: float\n",
    "            Total approx time for making change.\n",
    "        Returns\n",
    "        -------\n",
    "        None\n",
    "        '''\n",
    "        self.set_wavetype(wavetype)\n",
    "        current_offset = self.get_offset()\n",
    "        current_amplitude = self.get_amplitude()\n",
    "        current_frequency = self.get_frequency()\n",
    "        if current_frequency == freq and current_amplitude == ampl and current_offset == offset:\n",
    "            print(\"No change in parameters.\")\n",
    "            return None\n",
    "        print(\"Current: freq : %f, ampl : %f, offset: %f\" % (current_frequency, current_amplitude, current_offset))\n",
    "        dt          = duration / steps\n",
    "        offsets     = np.linspace(current_offset, offset, steps)\n",
    "        amplitudes  = np.linspace(current_amplitude, ampl, steps)\n",
    "        frequencies = np.linspace(current_frequency, freq, steps)\n",
    "        for off, amp, freq in zip(offsets, amplitudes, frequencies):\n",
    "            self.set_amplitude(amp)\n",
    "            sleep(0.05)\n",
    "            self.set_offset(off)\n",
    "            sleep(0.05)\n",
    "            self.set_frequency(freq)\n",
    "            sleep(dt)\n",
    "        current_offset = self.get_offset()\n",
    "        current_amplitude = self.get_amplitude()\n",
    "        current_frequency = self.get_frequency()\n",
    "        print(\"Final: freq : %f, ampl : %f, offset: %f\" % (current_frequency, current_amplitude, current_offset))\n",
    "        return None\n"
   ]
  },
  {
   "cell_type": "code",
   "execution_count": 63,
   "metadata": {},
   "outputs": [
    {
     "name": "stdout",
     "output_type": "stream",
     "text": [
      "COM1: Communications Port (COM1) [ACPI\\PNP0501\\0]\n",
      "COM5: Prolific USB-to-Serial Comm Port (COM5) [USB VID:PID=067B:2303 SER= LOCATION=1-1]\n"
     ]
    },
    {
     "data": {
      "text/plain": [
       "[('COM1', 'Communications Port (COM1)', 'ACPI\\\\PNP0501\\\\0'),\n",
       " ('COM5',\n",
       "  'Prolific USB-to-Serial Comm Port (COM5)',\n",
       "  'USB VID:PID=067B:2303 SER= LOCATION=1-1')]"
      ]
     },
     "execution_count": 63,
     "metadata": {},
     "output_type": "execute_result"
    }
   ],
   "source": [
    "Agilent33120A.list_ports()"
   ]
  },
  {
   "cell_type": "code",
   "execution_count": 64,
   "metadata": {},
   "outputs": [
    {
     "name": "stdout",
     "output_type": "stream",
     "text": [
      "Using default settings:\n",
      "{'port': 'COM5', 'baudrate': 9600, 'lf': '\\r\\n', 'timeout': 0.5, 'mode': 'DC'}\n",
      "Setting up the serial connection.\n",
      "Setting up the system to remote mode...\n",
      "Setting output termination to 50 Ohm.\n"
     ]
    }
   ],
   "source": [
    "fungen = Agilent33120A()"
   ]
  },
  {
   "cell_type": "code",
   "execution_count": 66,
   "metadata": {},
   "outputs": [
    {
     "name": "stdout",
     "output_type": "stream",
     "text": [
      "Current: freq : 1000.000000, ampl : 0.100000, offset: 0.000000\n",
      "Final: freq : 20.000000, ampl : 1.000000, offset: -0.500000\n"
     ]
    }
   ],
   "source": [
    "fungen.smoothwave('SIN', freq = 20, ampl = 1, offset = -0.5, steps=10, duration=5)"
   ]
  },
  {
   "cell_type": "code",
   "execution_count": 67,
   "metadata": {},
   "outputs": [],
   "source": [
    "fungen.close()"
   ]
  },
  {
   "cell_type": "code",
   "execution_count": 40,
   "metadata": {},
   "outputs": [
    {
     "data": {
      "text/plain": [
       "'__getattribute__, get_amplitude, get_frequency, get_offset, get_wavetype'"
      ]
     },
     "execution_count": 40,
     "metadata": {},
     "output_type": "execute_result"
    }
   ],
   "source": [
    "', '.join([l for l in dir(fungen) if 'get' in l])"
   ]
  },
  {
   "cell_type": "code",
   "execution_count": 41,
   "metadata": {},
   "outputs": [
    {
     "data": {
      "text/plain": [
       "(0.5, 20.0, 0.0, 'SIN')"
      ]
     },
     "execution_count": 41,
     "metadata": {},
     "output_type": "execute_result"
    }
   ],
   "source": [
    "fungen.get_amplitude(), fungen.get_frequency(), fungen.get_offset(), fungen.get_wavetype()"
   ]
  },
  {
   "cell_type": "code",
   "execution_count": 44,
   "metadata": {},
   "outputs": [
    {
     "name": "stdout",
     "output_type": "stream",
     "text": [
      "0 0.5 5.0\n"
     ]
    },
    {
     "data": {
      "text/plain": [
       "('', '', '', '')"
      ]
     },
     "execution_count": 44,
     "metadata": {},
     "output_type": "execute_result"
    }
   ],
   "source": [
    "fungen.set_amplitude(1), fungen.set_frequency(10), fungen.set_offset(0), fungen.set_wavetype('TRI')"
   ]
  },
  {
   "cell_type": "code",
   "execution_count": 45,
   "metadata": {},
   "outputs": [
    {
     "data": {
      "text/plain": [
       "(1.0, 10.0, 0.0, 'TRI')"
      ]
     },
     "execution_count": 45,
     "metadata": {},
     "output_type": "execute_result"
    }
   ],
   "source": [
    "fungen.get_amplitude(), fungen.get_frequency(), fungen.get_offset(), fungen.get_wavetype()"
   ]
  },
  {
   "cell_type": "code",
   "execution_count": null,
   "metadata": {},
   "outputs": [],
   "source": []
  }
 ],
 "metadata": {
  "interpreter": {
   "hash": "b3ba2566441a7c06988d0923437866b63cedc61552a5af99d1f4fb67d367b25f"
  },
  "kernelspec": {
   "display_name": "Python 3.8.5 ('base')",
   "language": "python",
   "name": "python3"
  },
  "language_info": {
   "codemirror_mode": {
    "name": "ipython",
    "version": 3
   },
   "file_extension": ".py",
   "mimetype": "text/x-python",
   "name": "python",
   "nbconvert_exporter": "python",
   "pygments_lexer": "ipython3",
   "version": "3.8.5"
  },
  "orig_nbformat": 4
 },
 "nbformat": 4,
 "nbformat_minor": 2
}
