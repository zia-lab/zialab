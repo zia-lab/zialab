{
 "cells": [
  {
   "cell_type": "code",
   "execution_count": 7,
   "metadata": {},
   "outputs": [
    {
     "name": "stdout",
     "output_type": "stream",
     "text": [
      "The autotime extension is already loaded. To reload it, use:\n",
      "  %reload_ext autotime\n",
      "time: 578 ms (started: 2022-02-23 14:16:12 -05:00)\n"
     ]
    }
   ],
   "source": [
    "import sys, os\n",
    "from time import sleep, time\n",
    "import numpy as np\n",
    "codebase_dir = 'D:/ZiaLab/Codebase/'\n",
    "sys.path.append(codebase_dir)\n",
    "%reload_ext autoreload\n",
    "%autoreload 2\n",
    "%load_ext autotime\n",
    "from zialab.misc.sugar import send_message\n",
    "from zialab.misc.sugar import ding\n",
    "%matplotlib notebook\n",
    "from matplotlib import pyplot as plt\n",
    "import matplotlib.colors as colors\n",
    "import matplotlib.gridspec as gridspec\n",
    "import pickle\n",
    "data_dir = 'D:/ZiaLab/Log/Data'\n",
    "confocal_dir = 'D:/ZiaLab/Log/Data/Confocal/'\n",
    "from zialab.instruments.pipython import GCSDevice\n",
    "from zialab.instruments.pipython import pitools\n",
    "from zialab.instruments import picoharp\n",
    "from zialab.misc.sugar import send_message\n",
    "from zialab.misc.sugar import send_image\n",
    "from collections import OrderedDict\n",
    "from tenacity import retry, stop_after_attempt\n",
    "AXES_RANGE = 40. # in mm"
   ]
  },
  {
   "cell_type": "code",
   "execution_count": 8,
   "metadata": {},
   "outputs": [
    {
     "name": "stdout",
     "output_type": "stream",
     "text": [
      "time: 63 ms (started: 2022-02-23 14:17:14 -05:00)\n"
     ]
    }
   ],
   "source": [
    "graphs_dir = 'D:/ZiaLab/Log/Graphs/'"
   ]
  },
  {
   "cell_type": "code",
   "execution_count": 10,
   "metadata": {},
   "outputs": [
    {
     "data": {
      "text/plain": [
       "'(c)2015 - 2019 Physik Instrumente (PI) GmbH & Co. KG, C-867K058, 120062453, 01.003\\n'"
      ]
     },
     "execution_count": 10,
     "metadata": {},
     "output_type": "execute_result"
    },
    {
     "name": "stdout",
     "output_type": "stream",
     "text": [
      "time: 12.8 s (started: 2022-02-23 14:19:17 -05:00)\n"
     ]
    }
   ],
   "source": [
    "stage = GCSDevice('C-867')\n",
    "stage.InterfaceSetupDlg()\n",
    "stage.qIDN()"
   ]
  },
  {
   "cell_type": "code",
   "execution_count": 11,
   "metadata": {},
   "outputs": [
    {
     "name": "stdout",
     "output_type": "stream",
     "text": [
      "time: 187 ms (started: 2022-02-23 14:19:57 -05:00)\n"
     ]
    }
   ],
   "source": [
    "# turn on the servo motors\n",
    "stage.SVO('2',True)\n",
    "stage.SVO('1',True)\n",
    "# configure data tables\n",
    "stage.DRC(1, '1', 44) # time stamps in ms\n",
    "stage.DRC(2, '1', 1) # motor output\n",
    "stage.DRC(3, '1', 2) # commanded position\n",
    "stage.DRC(4, '1', 73) # actual position\n",
    "stage.RTR(2) # this trigger rate is adequate for the speeds and lenghts i often care about"
   ]
  },
  {
   "cell_type": "markdown",
   "metadata": {
    "deletable": true,
    "editable": true,
    "heading_collapsed": true
   },
   "source": [
    "## Functions"
   ]
  },
  {
   "cell_type": "code",
   "execution_count": 12,
   "metadata": {
    "ExecuteTime": {
     "end_time": "2020-11-04T15:51:54.624857Z",
     "start_time": "2020-11-04T15:51:54.456847Z"
    },
    "collapsed": false,
    "deletable": true,
    "editable": true,
    "hidden": true
   },
   "outputs": [
    {
     "name": "stdout",
     "output_type": "stream",
     "text": [
      "time: 78 ms (started: 2022-02-23 14:20:50 -05:00)\n"
     ]
    }
   ],
   "source": [
    "def navigation_matrix(n1,m1,n2,m2,x1,y1,x2,y2):\n",
    "    return np.matrix([[-(-m2 * x1 + m1 * x2)/(m2*n1 - m1*n2),-(n2*x1 - n1*x2)/(m2*n1 - m1*n2)],\n",
    "            [-(-m2*y1+m1*y2)/(m2*n1-m1*n2),-(-n2*y1 + n1*y2)/(-m2*n1+m1*n2)]])\n",
    "def parse_num_coords(str_coord):\n",
    "    letters = {c: idx for idx, c in enumerate('ABCDEFGHIJKLMNOPQRSTUVWXYZabcdefghijklmnopqrstuvwx')}\n",
    "    letter = re.findall('(\\D)',str_coord)[0]\n",
    "    nums = ''.join(re.findall('(\\d)',str_coord))\n",
    "    return np.array([int(nums),letters[letter]])\n",
    "def go_to(regionstr):\n",
    "    print(\"going to %s\" % regionstr)\n",
    "    target = np.array(np.array([x0,y0])+navi@( parse_num_coords(regionstr)-parse_num_coords('q29')))[0]\n",
    "    move_and_wait('1',target[0])\n",
    "    move_and_wait('2',target[1])\n",
    "    x0, y0 = -1.8300, -4.5030"
   ]
  },
  {
   "cell_type": "code",
   "execution_count": 47,
   "metadata": {
    "ExecuteTime": {
     "end_time": "2020-11-04T15:51:55.091884Z",
     "start_time": "2020-11-04T15:51:54.944875Z"
    },
    "collapsed": false,
    "deletable": true,
    "editable": true,
    "hidden": true
   },
   "outputs": [
    {
     "name": "stdout",
     "output_type": "stream",
     "text": [
      "time: 78 ms (started: 2022-02-23 14:42:38 -05:00)\n"
     ]
    }
   ],
   "source": [
    "def move_and_wait(axis, position):\n",
    "    '''\n",
    "    Move to the commanded position and wait until it's reached.\n",
    "    Parameters\n",
    "    ----------\n",
    "    axis  (str): 'x' or 'y'\n",
    "    position (float): position in mm\n",
    "    '''\n",
    "    assert axis in ['x','y']\n",
    "    axis = {'x':'1','y':'2'}[axis]\n",
    "    assert type(position) in [int,float,np.float64, np.float32, np.int32, np.int64], \"wacky position\"\n",
    "    assert abs(position) < AXES_RANGE, \"position out of range\"\n",
    "    stage.MOV(axis,position)\n",
    "    while not stage.qONT()[axis]:\n",
    "        sleep(0.01)"
   ]
  },
  {
   "cell_type": "code",
   "execution_count": 48,
   "metadata": {
    "ExecuteTime": {
     "end_time": "2020-11-04T15:51:56.222948Z",
     "start_time": "2020-11-04T15:51:56.064939Z"
    },
    "collapsed": false,
    "deletable": true,
    "editable": true,
    "hidden": true
   },
   "outputs": [
    {
     "name": "stdout",
     "output_type": "stream",
     "text": [
      "time: 78 ms (started: 2022-02-23 14:42:38 -05:00)\n"
     ]
    }
   ],
   "source": [
    "def TRO(tro_state):\n",
    "    if tro_state.lower() == 'off':\n",
    "        stage.GcsCommandset('TRO 1 0')\n",
    "        stage.GcsCommandset('TRO 2 0')\n",
    "    if tro_state.lower() == 'ON':\n",
    "        stage.GcsCommandset('TRO 1 1')\n",
    "        stage.GcsCommandset('TRO 2 1')\n",
    "def setCTO(StartThreshold, StopThreshold, velocity, TriggerStep, Axis='1', Polarity=1, TriggerMode=0):  # Configure the CTO\n",
    "    stage.GcsCommandset('TRO 2 1')\n",
    "    stage.GcsCommandset('CTO 2 1 ' + str(TriggerStep))\n",
    "    stage.GcsCommandset('CTO 2 2 ' + Axis)\n",
    "    stage.GcsCommandset('CTO 2 3 ' + str(TriggerMode))\n",
    "    stage.GcsCommandset('CTO 2 8 ' + str(StartThreshold))\n",
    "    stage.GcsCommandset('CTO 2 9 ' + str(StopThreshold))\n",
    "    stage.GcsCommandset('CTO 2 10 ' + str(StartThreshold))\n",
    "    stage.GcsCommandset('VEL x ' + str(velocity))\n",
    "    stage.GcsCommandset('VEL y ' + str(velocity))"
   ]
  },
  {
   "cell_type": "code",
   "execution_count": 49,
   "metadata": {
    "ExecuteTime": {
     "end_time": "2020-11-04T15:51:57.421017Z",
     "start_time": "2020-11-04T15:51:57.276009Z"
    },
    "collapsed": false,
    "deletable": true,
    "editable": true,
    "hidden": true
   },
   "outputs": [
    {
     "name": "stdout",
     "output_type": "stream",
     "text": [
      "time: 78 ms (started: 2022-02-23 14:42:38 -05:00)\n"
     ]
    }
   ],
   "source": [
    "def parse_events(events):\n",
    "    T3WRAPAROUND = 65536\n",
    "    parsed_events = []\n",
    "    oflcorrection = 0\n",
    "    truensync = 0\n",
    "    for event in events:\n",
    "        record = '{0:0{1}b}'.format(event,32)\n",
    "        channel = int(record[:4],base=2)\n",
    "        dtime = int(record[4:16], base=2)\n",
    "        nsync = int(record[16:], base=2)\n",
    "        if channel == 0xF:\n",
    "            if dtime == 0:\n",
    "                oflcorrection += T3WRAPAROUND\n",
    "            else:\n",
    "                truensync = oflcorrection + nsync\n",
    "        else:\n",
    "            truensync = oflcorrection + nsync\n",
    "        parsed_events.append([channel, dtime, nsync, truensync])\n",
    "    return parsed_events\n",
    "\n",
    "def parse_T2_events(events):\n",
    "    parsed_events = []\n",
    "    T2WRAPAROUND = 210698240\n",
    "    oflcorrection=0\n",
    "    truetime=0\n",
    "    for event in events:\n",
    "        record = '{0:0{1}b}'.format(event,32)\n",
    "        channel = int(record[:4],base=2)\n",
    "        time = int(record[4:],base=2)\n",
    "        if channel == 15:\n",
    "            marker = int(record[28:32], base=2)\n",
    "            if marker == 0:\n",
    "                oflcorrection += T2WRAPAROUND\n",
    "            else:\n",
    "                truetime = oflcorrection + time\n",
    "                parsed_events.append([2,truetime])\n",
    "        else:\n",
    "            truetime = oflcorrection + time\n",
    "            parsed_events.append([channel,truetime])\n",
    "    parsed_events = np.array(parsed_events)\n",
    "    return parsed_events"
   ]
  },
  {
   "cell_type": "code",
   "execution_count": 50,
   "metadata": {
    "ExecuteTime": {
     "end_time": "2020-11-04T15:51:58.527080Z",
     "start_time": "2020-11-04T15:51:58.391073Z"
    },
    "collapsed": false,
    "deletable": true,
    "editable": true,
    "hidden": true
   },
   "outputs": [
    {
     "name": "stdout",
     "output_type": "stream",
     "text": [
      "time: 78 ms (started: 2022-02-23 14:42:39 -05:00)\n"
     ]
    }
   ],
   "source": [
    "def snr_to_vel(scan):\n",
    "    '''\n",
    "    Using the current count rate, the trigger step,\n",
    "    an assumed noise rate, and a target SNR, the required\n",
    "    speed is returned. If the calculated speed is greater\n",
    "    that the set maximum speed, then the maximum speed is\n",
    "    returned.\n",
    "    '''\n",
    "    MAX_vel = 0.5 # in mm/s\n",
    "    target_vel = (np.sqrt(scan['dx']) * (scan['cr'] - scan['nr'])/np.sqrt(scan['cr'] + scan['nr']) / scan['SNR'])**2\n",
    "    if target_vel > MAX_vel:\n",
    "        snr = np.sqrt(scan['dx']/MAX_vel) * (scan['cr']-scan['nr'])/np.sqrt(scan['cr']+scan['nr'])\n",
    "        print(\"target_vel larger than max, SNR changed to %f\" % snr)\n",
    "        return MAX_vel\n",
    "    else:\n",
    "        return target_vel\n",
    "\n",
    "def compute_runway(vel, fast=False, tol=0.001):\n",
    "    if (not fast) or (vel < 0.00125) or (vel > 0.8):\n",
    "        stage.DRT(0,1,'1')\n",
    "        d = 0.1 # move 100 um\n",
    "        current_x = stage.qPOS()['1']\n",
    "        original_vel = stage.qVEL()['1']\n",
    "        stage.VEL('1',vel)\n",
    "        move_and_wait('1',current_x+d)\n",
    "        # read the data tables\n",
    "        stage.qDRR()\n",
    "        while not stage.bufstate:\n",
    "            sleep(0.1)\n",
    "            pass\n",
    "        stage.VEL('1',original_vel)\n",
    "        times = np.array(stage.bufdata[0])\n",
    "        times = times-times[0]\n",
    "        commanded = np.array(stage.bufdata[1])\n",
    "        actual = np.array(stage.bufdata[2])\n",
    "        err = np.abs(np.abs(commanded-actual))\n",
    "        maxerrarg = np.argmax(err)\n",
    "        err = err[maxerrarg:]\n",
    "        errtimes = times[maxerrarg:]\n",
    "        erractual = actual[maxerrarg:]\n",
    "        for idx, oneerr in enumerate(err):\n",
    "            if oneerr < 0.001:\n",
    "                break\n",
    "        goodtimearg = idx\n",
    "        goodrunway = np.abs(erractual[goodtimearg] - current_x)\n",
    "        stage.DRT(0,1,'0')\n",
    "        return goodrunway\n",
    "    else:\n",
    "        # interpolate using precomputed values\n",
    "        vels = np.array([0.0125, 0.025, 0.05, 0.1, 0.2, 0.4, 0.8])\n",
    "        runways = np.array([0.00230,0.00370,0.00600,\n",
    "                            0.00940,0.01570,0.02740,0.05860])\n",
    "        return np.interp(vel,vels,runways)"
   ]
  },
  {
   "cell_type": "code",
   "execution_count": 51,
   "metadata": {
    "ExecuteTime": {
     "end_time": "2020-11-04T15:52:00.084169Z",
     "start_time": "2020-11-04T15:51:59.899159Z"
    },
    "collapsed": true,
    "deletable": true,
    "editable": true,
    "hidden": true
   },
   "outputs": [
    {
     "name": "stdout",
     "output_type": "stream",
     "text": [
      "time: 78 ms (started: 2022-02-23 14:42:39 -05:00)\n"
     ]
    }
   ],
   "source": [
    "def linescanner(linescan, verbose=False):\n",
    "    linescan['reads'] = [] # in this list the events will be collected\n",
    "    linescan['xf'] = (linescan['xi'] \n",
    "            + np.ceil((linescan['xf']-linescan['xi'])\n",
    "                      /linescan['dx'])*linescan['dx'])\n",
    "    linescan['N'] = int(round(((linescan['xf']-linescan['xi'])\n",
    "                              /linescan['dx']))+1)\n",
    "    linescan['ts'] = ((linescan['xf']-linescan['xi']+2*linescan['e'])\n",
    "                      /linescan['velx'])\n",
    "    linescan['dt'] = 0.25*linescan['ts'] # how often the buffer will be read\n",
    "    linescan['tph'] = 1.2*linescan['ts'] # measurement time for picoharp\n",
    "    linescan['start'] = linescan['xi'] - linescan['e']\n",
    "    linescan['end'] = linescan['xf'] + linescan['e']\n",
    "    linescan['dwell_time'] = linescan['dx'] / linescan['velx']\n",
    "    if verbose:\n",
    "        print('Scan will take about {ts} s.'.format(**linescan))\n",
    "\n",
    "    # move to start at speed vsafe\n",
    "    stage.VEL('1',linescan['vsafe'])\n",
    "    stage.VEL('2',linescan['vsafe'])\n",
    "    move_and_wait('1',linescan['start'])\n",
    "    move_and_wait('2',linescan['y'])\n",
    "    # configure CTO and set speed\n",
    "    stage.VEL('1',linescan['velx'])\n",
    "    setCTO(**{'StartThreshold':linescan['xi'],\n",
    "                    'StopThreshold':linescan['xf'],\n",
    "                    'velocity':linescan['velx'],\n",
    "                    'TriggerStep':linescan['dx']})\n",
    "    # start measurement on picoharp\n",
    "    pharp.start_measurement(linescan['tph'])\n",
    "    # issue the motion command to the stage\n",
    "    try:\n",
    "        stage.MOV('1', linescan['end'])\n",
    "    except:\n",
    "        stage.MOV('1', linescan['end'])\n",
    "    # read buffer in a loop and stop when stage arrives to end\n",
    "    while True:\n",
    "        sleep(linescan['dt'])\n",
    "        buff = pharp.buffer_read()\n",
    "        if buff != None:\n",
    "            if verbose:\n",
    "                print('adding events ...')\n",
    "            linescan['reads'].extend(list(buff))\n",
    "        if stage.qONT()['1']:\n",
    "            break\n",
    "    for idx in range(10):\n",
    "        if verbose:\n",
    "            print(idx)\n",
    "        buff = pharp.buffer_read()\n",
    "        if buff != None:\n",
    "            if verbose:\n",
    "                print('adding events ...')\n",
    "            linescan['reads'].extend(list(buff))\n",
    "    pharp.stop_measurement()\n",
    "    linescan['events'] = np.array(parse_events(linescan['reads']))\n",
    "    linescan['parsed_scan'] = np.diff(linescan['events'][linescan['events'][:,1] == 8][:,3])/linescan['dwell_time']/1000\n",
    "    linescan['x_coords'] = np.linspace(linescan['xi'],linescan['xf'],len(linescan['parsed_scan']))\n",
    "    TRO(\"off\")\n",
    "    return linescan"
   ]
  },
  {
   "cell_type": "code",
   "execution_count": 52,
   "metadata": {
    "ExecuteTime": {
     "end_time": "2020-11-04T15:52:04.623429Z",
     "start_time": "2020-11-04T15:52:04.384415Z"
    },
    "collapsed": false,
    "deletable": true,
    "editable": true,
    "hidden": true
   },
   "outputs": [
    {
     "name": "stdout",
     "output_type": "stream",
     "text": [
      "time: 78 ms (started: 2022-02-23 14:42:40 -05:00)\n"
     ]
    }
   ],
   "source": [
    "def scanner(scan):\n",
    "    '''\n",
    "    Do a raster scan on a given region by performing a sequence of line scans.\n",
    "    If cleaning_run is True then the scan begins by moving both axes 2mm\n",
    "    in each direction, this helps greatly in improving the reliability of\n",
    "    the resulting scan. This run is done at speed v_cleaning.\n",
    "    \n",
    "    If a scanning speed velx is given then this speed is used,\n",
    "    if not then it is computed with the target SNR according to the\n",
    "    count rate at the staring position. \n",
    "    \n",
    "    When returning to the left margin after having scanned a row, the\n",
    "    stage returns there moving at a speed v_safe.\n",
    "    \n",
    "    Every linescan begins has a runway length computed by the functtion\n",
    "    compute_runway which is a function of the scan speed.\n",
    "    '''\n",
    "    # works consistently in a on scanning regions larger that about 20 um\n",
    "    # scans every row left to right\n",
    "    # and goes from bottom to top\n",
    "    assert scan['yf'] > scan['yi'], \"yf must be larger than yi\"\n",
    "    assert scan['xf'] > scan['xi'], \"xf must be larger than xi\"\n",
    "    scan['yf'] = (scan['yi'] \n",
    "                  + np.ceil((scan['yf']-scan['yi'])/scan['dx'])*scan['dx'])\n",
    "    scan['Ny'] = int(round((scan['yf']-scan['yi'])/scan['dx']))\n",
    "    scan['ys'] = np.linspace(scan['yi'],scan['yf'],scan['Ny'])\n",
    "    if scan['cleaning_run']:\n",
    "        print(\"Running a cleaning run ...\")\n",
    "        stage.VEL('1',scan['v_cleaning'])\n",
    "        stage.VEL('2',scan['v_cleaning'])\n",
    "        move_and_wait('2',scan['yi'])\n",
    "        move_and_wait('1',scan['xi'])\n",
    "        move_and_wait('1',scan['xi']-2)\n",
    "        move_and_wait('1',scan['xi']+2)\n",
    "        move_and_wait('2',scan['yi']-2)\n",
    "        move_and_wait('2',scan['yi']+2)\n",
    "    move_and_wait('2',scan['yi'])\n",
    "    move_and_wait('1',scan['xi'])\n",
    "    scan['start_time'] = time()\n",
    "    print(\"Reading the countrate in the starting position...\")\n",
    "    scan['cr'] = pharp.get_counts()[0]\n",
    "    if 'velx' not in scan.keys():\n",
    "        print(\"Computing speed from given target SNR...\")\n",
    "        scan['velx'] = snr_to_vel(scan)\n",
    "    scan['SNR'] = (np.sqrt(scan['dx']/scan['velx']) \n",
    "                   * (scan['cr']-scan['nr'])/np.sqrt(scan['cr']+scan['nr']))\n",
    "    stage.VEL('2',scan['velx'])\n",
    "    if scan['fast_runway']:\n",
    "        scan['e'] = compute_runway(scan['velx'], fast=True)\n",
    "    else:\n",
    "        scan['e'] = compute_runway(scan['velx'], fast=False)\n",
    "    print(\"Doing linescans...\")\n",
    "    for idx, y in enumerate(scan['ys']):\n",
    "        print('row %d of %d' % (idx+1, len(scan['ys'])))\n",
    "        move_and_wait('2',y)\n",
    "        linescan = {'velx': scan['velx'],\n",
    "               'e': scan['e'],\n",
    "               'xi': scan['xi'],\n",
    "               'xf': scan['xf'],\n",
    "               'dx': scan['dx'], # trigger step\n",
    "               'vsafe': scan['vsafe'],\n",
    "               'y': y,\n",
    "               'nr': scan['nr'],\n",
    "               'SNR': scan['SNR']}\n",
    "        linescan = linescanner(linescan)\n",
    "        scan['linescans'].append(linescan)\n",
    "        elapsed_time = time() - scan['start_time']\n",
    "        rem_time = (scan['Ny']-idx+1)*elapsed_time/(idx+1)/60.\n",
    "        print('Time remaining: %.1f min' % rem_time)\n",
    "    \n",
    "    print(\"Computing final scan result...\")\n",
    "    rows = [onescan['parsed_scan'] for onescan in scan['linescans']]\n",
    "    expectedcols = [(s['N']) for s in scan['linescans']]\n",
    "    colsizes = list(map(len,rows))\n",
    "    if min(colsizes) != max(colsizes): # if all is good leave as is\n",
    "        # if not then do some interpolation to put everything in shape\n",
    "        print(\"Probable jitter motion detected, using heuristic parsing...\")\n",
    "        colsize = np.median(colsizes)\n",
    "        x_coords = np.linspace(scan['xi'],scan['xf'],int(colsize))\n",
    "        interprows = [np.interp(x_coords,\n",
    "                                np.linspace(scan['xi'],scan['xf'],len(row)),\n",
    "                                row) for row in rows]\n",
    "        scan['final_map'] = np.array(interprows)\n",
    "    else:\n",
    "        print(\"All rows good...\")\n",
    "        scan['final_map'] = np.array(rows)\n",
    "    \n",
    "    print(\"Tidying things up...\")\n",
    "    scan['xf'] = linescan['xf'] # propagate the adjusted xf to scan\n",
    "    scan['time_taken'] = time() - scan['start_time']\n",
    "    scan['mins_taken'] = scan['time_taken']/60.\n",
    "    scan['dx_in_um'] = scan['dx']*1000\n",
    "    scan['info_title'] = '{sample_name}\\nv = {velx:.2f} mm/s | SNR -> {SNR:.1f} | {mins_taken:.2f} min | dx = {dx_in_um} um'.format(**scan)\n",
    "    return scan "
   ]
  },
  {
   "cell_type": "code",
   "execution_count": 53,
   "metadata": {
    "ExecuteTime": {
     "end_time": "2020-11-04T15:52:08.744665Z",
     "start_time": "2020-11-04T15:52:08.499651Z"
    },
    "collapsed": true,
    "deletable": true,
    "editable": true,
    "hidden": true
   },
   "outputs": [
    {
     "name": "stdout",
     "output_type": "stream",
     "text": [
      "time: 62 ms (started: 2022-02-23 14:42:41 -05:00)\n"
     ]
    }
   ],
   "source": [
    "def linescan_retry_alert(retry_state):\n",
    "    alert_msg = 'Failure detected in linescan, retrying...'\n",
    "    send_message(alert_msg)\n",
    "@retry(stop=stop_after_attempt(3),\n",
    "      after=linescan_retry_alert)\n",
    "def T2linescanner(linescan, verbose=False):\n",
    "    linescan['reads'] = [] # in this list the events will be collected\n",
    "    linescan['xf'] = (linescan['xi'] \n",
    "            + np.ceil((linescan['xf_original']-linescan['xi'])\n",
    "                      /linescan['dx'])*linescan['dx'])\n",
    "    linescan['N'] = int(round(((linescan['xf']-linescan['xi'])\n",
    "                              /linescan['dx']))+1)\n",
    "    linescan['ts'] = ((linescan['xf']-linescan['xi']+2*linescan['e'])\n",
    "                      /linescan['velx'])\n",
    "    linescan['dt'] = 0.25*linescan['ts'] # how often the buffer will be read\n",
    "    linescan['tph'] = 1.2*linescan['ts'] # measurement time for picoharp\n",
    "    linescan['start'] = linescan['xi'] - linescan['e']\n",
    "    linescan['end'] = linescan['xf'] + linescan['e']\n",
    "    linescan['dwell_time'] = linescan['dx'] / linescan['velx']\n",
    "    if verbose:\n",
    "        print('Scan will take about {ts} s.'.format(**linescan))\n",
    "\n",
    "    # move to start at speed vsafe\n",
    "    stage.VEL('1',linescan['vsafe'])\n",
    "    stage.VEL('2',linescan['vsafe'])\n",
    "    move_and_wait('1',linescan['start'])\n",
    "    move_and_wait('2',linescan['y'])\n",
    "    # configure CTO and set speed\n",
    "    stage.VEL('1',linescan['velx'])\n",
    "    setCTO(**{'StartThreshold':linescan['xi'],\n",
    "                    'StopThreshold':linescan['xf'],\n",
    "                    'velocity':linescan['velx'],\n",
    "                    'TriggerStep':linescan['dx']})\n",
    "    # start measurement on picoharp\n",
    "    pharp.start_measurement(linescan['tph'])\n",
    "    # enable data recorder on the stage\n",
    "    try:\n",
    "        stage.DRT(0,1,'1')\n",
    "    except:\n",
    "        stage.DRT(0,1,'1')\n",
    "    # issue the motion command to the stage\n",
    "    try:\n",
    "        stage.MOV('1', linescan['end'])\n",
    "    except:\n",
    "        stage.MOV('1', linescan['end'])\n",
    "    # read buffer in a loop and stop when stage arrives to end\n",
    "    while True:\n",
    "        sleep(linescan['dt'])\n",
    "        buff = pharp.buffer_read()\n",
    "        if buff != None:\n",
    "            if verbose:\n",
    "                print('adding events ...')\n",
    "            linescan['reads'].extend(list(buff))\n",
    "        if stage.qONT()['1']:\n",
    "            break\n",
    "    for idx in range(10):\n",
    "        if verbose:\n",
    "            print(idx)\n",
    "        buff = pharp.buffer_read()\n",
    "        if buff != None:\n",
    "            if verbose:\n",
    "                print('adding events ...')\n",
    "            linescan['reads'].extend(list(buff))\n",
    "    pharp.stop_measurement()\n",
    "    # read the data tables on the stage\n",
    "    stage.qDRR()\n",
    "    while not stage.bufstate:\n",
    "        sleep(0.1)\n",
    "        pass\n",
    "    trajectory = {}\n",
    "    trajectory['times'] = np.array(stage.bufdata[0])\n",
    "    trajectory['times'] = trajectory['times'] - trajectory['times'][0]\n",
    "    trajectory['commanded_positions'] = np.array(stage.bufdata[1])\n",
    "    trajectory['actual_positions'] = np.array(stage.bufdata[2])\n",
    "    linescan['trajectory'] = trajectory\n",
    "    stage.DRT(0,1,'0')\n",
    "    linescan['events'] = np.array(parse_T2_events(linescan['reads']))\n",
    "    linescan['numsteps'] = int((linescan['xf']-linescan['xi']+2*linescan['e'])/linescan['dx'])\n",
    "    linescan['bintimes'] = linescan['events'][linescan['events'][:,0] == 2][:,1]\n",
    "    linescan['events'] = linescan['events'][linescan['events'][:,0] != 2][:,1]\n",
    "    linescan['parsed_scan'], _, = np.histogram(linescan['events'], bins=linescan['bintimes'])\n",
    "    linescan['x_coords'] = np.linspace(linescan['xi']-linescan['e'],linescan['xf']+linescan['e'],len(linescan['parsed_scan']))\n",
    "    TRO(\"off\")\n",
    "    return linescan"
   ]
  },
  {
   "cell_type": "code",
   "execution_count": 54,
   "metadata": {
    "ExecuteTime": {
     "end_time": "2020-11-04T15:52:10.514766Z",
     "start_time": "2020-11-04T15:52:10.179747Z"
    },
    "code_folding": [],
    "collapsed": false,
    "deletable": true,
    "editable": true,
    "hidden": true
   },
   "outputs": [
    {
     "name": "stdout",
     "output_type": "stream",
     "text": [
      "time: 78 ms (started: 2022-02-23 14:42:41 -05:00)\n"
     ]
    }
   ],
   "source": [
    "def T2scanner_retry_alert(retry_state):\n",
    "    alert_msg = 'Failure detected in T2scanner, retrying...'\n",
    "    send_message(alert_msg)\n",
    "@retry(stop=stop_after_attempt(3),\n",
    "      after=T2scanner_retry_alert)\n",
    "def T2scanner(scan):\n",
    "    '''\n",
    "    Do a raster scan on a given region by performing a sequence of line scans.\n",
    "    If cleaning_run is True then the scan begins by moving both axes 2mm\n",
    "    in each direction, this helps greatly in improving the reliability of\n",
    "    the resulting scan. This run is done at speed v_cleaning.\n",
    "    \n",
    "    If a scanning speed velx is given then this speed is used,\n",
    "    if not then it is computed with the target SNR according to the\n",
    "    count rate at the staring position. \n",
    "    \n",
    "    When returning to the left margin after having scanned a row, the\n",
    "    stage returns there moving at a speed v_safe.\n",
    "    \n",
    "    Every linescan begins has a runway length computed by the functtion\n",
    "    compute_runway which is a function of the scan speed.\n",
    "    '''\n",
    "    # works consistently in a on scanning regions larger that about 20 um\n",
    "    # scans every row left to right\n",
    "    # and goes from bottom to top\n",
    "    assert scan['yf'] > scan['yi'], \"yf must be larger than yi\"\n",
    "    assert scan['xf'] > scan['xi'], \"xf must be larger than xi\"\n",
    "    scan['yf'] = (scan['yi'] \n",
    "                  + np.ceil((scan['yf']-scan['yi'])/scan['dx'])*scan['dx'])\n",
    "    scan['Ny'] = int(round((scan['yf']-scan['yi'])/scan['dx']))\n",
    "    scan['ys'] = np.linspace(scan['yi'],scan['yf'],scan['Ny'])\n",
    "    if scan['cleaning_run']:\n",
    "        print(\"Running a cleaning run ...\")\n",
    "        stage.VEL('1',scan['v_cleaning'])\n",
    "        stage.VEL('2',scan['v_cleaning'])\n",
    "        move_and_wait('2',scan['yi'])\n",
    "        move_and_wait('1',scan['xi'])\n",
    "        move_and_wait('1',scan['xi']-2)\n",
    "        move_and_wait('1',scan['xi']+2)\n",
    "        move_and_wait('2',scan['yi']-2)\n",
    "        move_and_wait('2',scan['yi']+2)\n",
    "    move_and_wait('2',scan['yi'])\n",
    "    move_and_wait('1',scan['xi'])\n",
    "    scan['start_time'] = time()\n",
    "    print(\"Reading the countrate in the starting position...\")\n",
    "    scan['cr'] = pharp.get_counts()[0]\n",
    "    if 'velx' not in scan.keys():\n",
    "        print(\"Computing speed from given target SNR...\")\n",
    "        scan['velx'] = snr_to_vel(scan)\n",
    "    scan['SNR'] = (np.sqrt(scan['dx']/scan['velx']) \n",
    "                   * (scan['cr']-scan['nr'])/np.sqrt(scan['cr']+scan['nr']))\n",
    "    stage.VEL('2',scan['velx'])\n",
    "    if scan['fast_runway']:\n",
    "        scan['e'] = compute_runway(scan['velx'], fast=True)\n",
    "    else:\n",
    "        scan['e'] = compute_runway(scan['velx'], fast=False)\n",
    "    print(\"Doing linescans...\")\n",
    "    scan['linescans'] = []\n",
    "    for idx, y in enumerate(scan['ys']):\n",
    "        print('row %d of %d' % (idx+1, len(scan['ys'])))\n",
    "        move_and_wait('2',y)\n",
    "        linescan = {'velx': scan['velx'],\n",
    "               'e': scan['e'],\n",
    "               'xi': scan['xi'],\n",
    "               'xf': scan['xf'],\n",
    "               'xf_original': scan['xf'],    \n",
    "               'dx': scan['dx'], # trigger step\n",
    "               'vsafe': scan['vsafe'],\n",
    "               'y': y,\n",
    "               'nr': scan['nr'],\n",
    "               'SNR': scan['SNR']}\n",
    "        linescan = T2linescanner(linescan)\n",
    "        scan['linescans'].append(linescan)\n",
    "        elapsed_time = time() - scan['start_time']\n",
    "        rem_time = (scan['Ny']-idx+1)*elapsed_time/(idx+1)/60.\n",
    "        print('Time remaining: %.1f min' % rem_time)\n",
    "    \n",
    "    print(\"Computing final scan result with simple parsing...\")\n",
    "    rows = [onescan['parsed_scan'] for onescan in scan['linescans']]\n",
    "    expectedcols = [(s['N']) for s in scan['linescans']]\n",
    "    colsizes = list(map(len,rows))\n",
    "    if min(colsizes) != max(colsizes): # if all is good leave as is\n",
    "        # if not then do some interpolation to put everything in shape\n",
    "        print(\"Probable jitter motion detected, using heuristic parsing...\")\n",
    "        colsize = np.median(colsizes)\n",
    "        x_coords = np.linspace(scan['xi'],scan['xf'],int(colsize))\n",
    "        interprows = [np.interp(x_coords,\n",
    "                                np.linspace(scan['xi'],scan['xf'],len(row)),\n",
    "                                row) for row in rows]\n",
    "        scan['final_map_simple'] = np.flip(np.array(interprows),axis=1)\n",
    "    else:\n",
    "        print(\"All rows good...\")\n",
    "        scan['final_map_simple'] = np.flip(np.array(rows), axis=1)\n",
    "    \n",
    "    print(\"Computing final scan result with improved parsing...\")\n",
    "    all_better_counts = []\n",
    "    all_dwell_times = []\n",
    "    for linescan in scan['linescans']:\n",
    "        clicks = (linescan['events'])*4./1e9\n",
    "        position_marks = (linescan['bintimes'])*4/1e9\n",
    "        position_marks = position_marks - position_marks[0]\n",
    "        stage_times =  (linescan['trajectory']['times'])\n",
    "        stage_dt = stage_times[1]-stage_times[0] # in ms\n",
    "        stage_positions = (linescan['trajectory']['actual_positions'])\n",
    "        for stage_time_pivot in stage_positions:\n",
    "            if stage_time_pivot >= linescan['xi']:\n",
    "                break\n",
    "        stage_times = stage_times - stage_time_pivot\n",
    "        interpol_clicks = np.interp(clicks, stage_times, stage_positions)\n",
    "        linescan_marks = np.arange(linescan['xi'], linescan['xf'], linescan['dx'])\n",
    "        better_counts, _ = np.histogram(interpol_clicks, linescan_marks)\n",
    "        dwell_times, _ = np.histogram(stage_positions, bins= linescan_marks)\n",
    "        all_dwell_times.append(stage_dt*dwell_times)\n",
    "        all_better_counts.append(better_counts)\n",
    "    all_better_counts = np.flip(np.array(all_better_counts), axis=1)\n",
    "    all_dwell_times = np.flip(np.array(all_dwell_times), axis=1)\n",
    "    scan['final_map'] = all_better_counts/all_dwell_times\n",
    "    \n",
    "    print(\"Tidying things up...\")\n",
    "    scan['xf'] = linescan['xf'] # propagate the adjusted xf to scan\n",
    "    scan['time_taken'] = time() - scan['start_time']\n",
    "    scan['mins_taken'] = scan['time_taken']/60.\n",
    "    scan['dx_in_um'] = scan['dx']*1000\n",
    "    scan['info_title'] = '{sample_name}\\nv = {velx:.2f} mm/s | SNR -> {SNR:.1f} | {mins_taken:.2f} min | dx = {dx_in_um} um'.format(**scan)\n",
    "    return scan "
   ]
  },
  {
   "cell_type": "code",
   "execution_count": 55,
   "metadata": {
    "ExecuteTime": {
     "end_time": "2020-11-04T15:52:11.273809Z",
     "start_time": "2020-11-04T15:52:11.105800Z"
    },
    "collapsed": false,
    "deletable": true,
    "editable": true,
    "hidden": true
   },
   "outputs": [
    {
     "name": "stdout",
     "output_type": "stream",
     "text": [
      "time: 62 ms (started: 2022-02-23 14:42:42 -05:00)\n"
     ]
    }
   ],
   "source": [
    "def navigation_matrix(n1,m1,n2,m2,x1,y1,x2,y2):\n",
    "    return np.matrix([[-(-m2 * x1 + m1 * x2)/(m2*n1 - m1*n2),-(n2*x1 - n1*x2)/(m2*n1 - m1*n2)],\n",
    "            [-(-m2*y1+m1*y2)/(m2*n1-m1*n2),-(-n2*y1 + n1*y2)/(-m2*n1+m1*n2)]])\n",
    "def parse_num_coords(str_coord):\n",
    "    letters = {c: idx for idx, c in enumerate('ABCDEFGHIJKLMNOPQRSTUVWXYZabcdefghijklmnopqrstuvwx')}\n",
    "    letter = re.findall('(\\D)',str_coord)[0]\n",
    "    nums = ''.join(re.findall('(\\d)',str_coord))\n",
    "    return np.array([int(nums),letters[letter]])\n",
    "def go_to(regionstr):\n",
    "    print(\"going to %s\" % regionstr)\n",
    "    target = np.array(np.array([x0,y0])+navi@( parse_num_coords(regionstr)-parse_num_coords('q29')))[0]\n",
    "    move_and_wait('1',target[0])\n",
    "    move_and_wait('2',target[1])\n",
    "x0, y0 = -1.8300, -4.5030\n",
    "n1, m1 = 2, -1\n",
    "x1, y1 = (-2.0280-x0),(-4.3980-y0)\n",
    "n2, m2 = -2, -2\n",
    "x2, y2 = (-1.6260-x0), (-4.3090-y0)\n",
    "navi = navigation_matrix(n1,m1,n2,m2,x1,y1,x2,y2)"
   ]
  },
  {
   "cell_type": "markdown",
   "metadata": {},
   "source": [
    "# Simple Moves"
   ]
  },
  {
   "cell_type": "code",
   "execution_count": 45,
   "metadata": {},
   "outputs": [
    {
     "name": "stdout",
     "output_type": "stream",
     "text": [
      "time: 1.23 s (started: 2022-02-23 14:39:27 -05:00)\n"
     ]
    }
   ],
   "source": [
    "move_and_wait('x',0)"
   ]
  }
 ],
 "metadata": {
  "interpreter": {
   "hash": "b3ba2566441a7c06988d0923437866b63cedc61552a5af99d1f4fb67d367b25f"
  },
  "kernelspec": {
   "display_name": "Python 3.8.5 ('base')",
   "language": "python",
   "name": "python3"
  },
  "language_info": {
   "codemirror_mode": {
    "name": "ipython",
    "version": 3
   },
   "file_extension": ".py",
   "mimetype": "text/x-python",
   "name": "python",
   "nbconvert_exporter": "python",
   "pygments_lexer": "ipython3",
   "version": "3.8.5"
  },
  "orig_nbformat": 4
 },
 "nbformat": 4,
 "nbformat_minor": 2
}
