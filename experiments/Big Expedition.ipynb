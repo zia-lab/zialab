{
 "cells": [
  {
   "cell_type": "code",
   "execution_count": 215,
   "metadata": {},
   "outputs": [
    {
     "name": "stdout",
     "output_type": "stream",
     "text": [
      "The autotime extension is already loaded. To reload it, use:\n",
      "  %reload_ext autotime\n",
      "time: 125 ms (started: 2024-03-13 19:44:02 -04:00)\n"
     ]
    }
   ],
   "source": [
    "import sys, os\n",
    "from time import sleep, time\n",
    "import numpy as np\n",
    "codebase_dir = 'D:/ZiaLab/Codebase/'\n",
    "sys.path.append(codebase_dir)\n",
    "%reload_ext autoreload\n",
    "%autoreload 2\n",
    "%load_ext autotime\n",
    "from zialab.instruments import madcity\n",
    "from random import choice\n",
    "from tqdm import tqdm\n",
    "from matplotlib import pyplot as plt"
   ]
  },
  {
   "cell_type": "code",
   "execution_count": 226,
   "metadata": {},
   "outputs": [
    {
     "name": "stdout",
     "output_type": "stream",
     "text": [
      "\n",
      "DLL Version:2.0\n",
      "Stage is CONNECTED.\n",
      "Handle:2\n",
      "\n",
      "X_Range:302.671um, Y_Range:302.275um, Z_Range:302.81um\n",
      "(149.93314190273347, 150.47960286650368, -0.035914555882405066)\n",
      "time: 266 ms (started: 2024-03-13 19:49:49 -04:00)\n"
     ]
    }
   ],
   "source": [
    "stage = madcity.MadPiezo()"
   ]
  },
  {
   "cell_type": "code",
   "execution_count": 225,
   "metadata": {},
   "outputs": [
    {
     "name": "stdout",
     "output_type": "stream",
     "text": [
      "Stage is DISCONNECTED.\n",
      "Current Handles:0\n",
      "\n",
      "time: 157 ms (started: 2024-03-13 19:49:45 -04:00)\n"
     ]
    }
   ],
   "source": [
    "stage.close()"
   ]
  },
  {
   "cell_type": "code",
   "execution_count": 221,
   "metadata": {},
   "outputs": [
    {
     "name": "stdout",
     "output_type": "stream",
     "text": [
      "X_Range:302.671um, Y_Range:302.275um, Z_Range:302.81um\n",
      "time: 94 ms (started: 2024-03-13 19:48:14 -04:00)\n"
     ]
    }
   ],
   "source": [
    "stage.get_calibration()"
   ]
  },
  {
   "cell_type": "code",
   "execution_count": null,
   "metadata": {},
   "outputs": [],
   "source": []
  },
  {
   "cell_type": "code",
   "execution_count": 228,
   "metadata": {},
   "outputs": [
    {
     "data": {
      "text/plain": [
       "(149.94591376129398, 150.47290064364333, -0.04496247471212154)"
      ]
     },
     "execution_count": 228,
     "metadata": {},
     "output_type": "execute_result"
    },
    {
     "name": "stdout",
     "output_type": "stream",
     "text": [
      "time: 141 ms (started: 2024-03-13 19:49:55 -04:00)\n"
     ]
    }
   ],
   "source": [
    "stage.qPOS()"
   ]
  },
  {
   "cell_type": "code",
   "execution_count": 227,
   "metadata": {},
   "outputs": [
    {
     "name": "stdout",
     "output_type": "stream",
     "text": [
      "time: 125 ms (started: 2024-03-13 19:49:53 -04:00)\n"
     ]
    }
   ],
   "source": [
    "stage.move('x', 150)\n",
    "stage.move('y', 150)\n"
   ]
  },
  {
   "cell_type": "code",
   "execution_count": 120,
   "metadata": {},
   "outputs": [
    {
     "name": "stdout",
     "output_type": "stream",
     "text": [
      "time: 0 ns (started: 2024-03-11 20:37:12 -04:00)\n"
     ]
    }
   ],
   "source": [
    "stage.aux_clock() "
   ]
  },
  {
   "cell_type": "code",
   "execution_count": 113,
   "metadata": {},
   "outputs": [
    {
     "name": "stdout",
     "output_type": "stream",
     "text": [
      "time: 40.7 s (started: 2024-03-11 20:23:58 -04:00)\n"
     ]
    }
   ],
   "source": [
    "from zialab.softwarecontrol import lightfield\n",
    "# from zialab.softwarecontrol import spe2py\n",
    "lf = lightfield.LField()\n",
    "lf_dir = lf.lf_dir\n",
    "lf.pref_naming_settings()"
   ]
  },
  {
   "cell_type": "code",
   "execution_count": 9,
   "metadata": {},
   "outputs": [
    {
     "name": "stdout",
     "output_type": "stream",
     "text": [
      "time: 0 ns (started: 2024-03-08 17:37:10 -05:00)\n"
     ]
    }
   ],
   "source": [
    "def rando_wiggle(step_size_in_um, xy_origin_in_mm, num_steps, bound_range=0, kind='unbounded'):\n",
    "    '''\n",
    "    Parameters\n",
    "    ----------\n",
    "    step_size_in_um (float)\n",
    "    xy_origin_in_mm (tuple) (x0, y0)\n",
    "    num_steps       (int) : how many regions the random walk has\n",
    "    bound_range (int) : max displacement of random walk in each direction in steps (w.r.t origin)\n",
    "    Returns\n",
    "    -------\n",
    "    walkSteps (np.array), walkString (str), walkTrajectory (np.array)\n",
    "        walkSteps : has the incremental motions in units of the step size\n",
    "        walkString : is a string representation of the incremental motions\n",
    "        walkTrajectory : each row of this array represents the different positions (in mm) that the walk should visit\n",
    "    '''\n",
    "\n",
    "    step_size_in_mm = step_size_in_um/1000\n",
    "    step_choices = [(1,0),(-1,0),(0,1),(0,-1)]\n",
    "    walkSteps = [(0,0)]\n",
    "    walkString = 'O'\n",
    "\n",
    "    if kind == 'unbounded':\n",
    "\n",
    "        for i in range(num_steps-1):\n",
    "            rando_move = choice(step_choices)\n",
    "            if rando_move == (1,0):\n",
    "                walkString+= 'R'\n",
    "            elif rando_move == (0,1):\n",
    "                walkString += 'U'\n",
    "            elif rando_move == (0,-1):\n",
    "                walkString += 'D'\n",
    "            elif rando_move ==  (-1,0):\n",
    "                walkString += 'L'\n",
    "            walkSteps.append(rando_move)\n",
    "        \n",
    "    \n",
    "    if kind == 'bounded':\n",
    "        total_steps_x = 0\n",
    "        total_steps_y = 0\n",
    "        for i in range(num_steps-1):\n",
    "        \n",
    "            while True:\n",
    "                rando_move = choice(step_choices)\n",
    "\n",
    "                if (np.abs(total_steps_x + rando_move[0]) <= bound_range) and (np.abs(total_steps_y + rando_move[1]) <= bound_range):\n",
    "                    break\n",
    "                    \n",
    "            if rando_move == (1,0):\n",
    "                walkString+= 'R'\n",
    "            elif rando_move == (0,1):\n",
    "                walkString += 'U'\n",
    "            elif rando_move == (0,-1):\n",
    "                walkString += 'D'\n",
    "            elif rando_move ==  (-1,0):\n",
    "                walkString += 'L'\n",
    "\n",
    "            total_steps_x += rando_move[0] \n",
    "            total_steps_y += rando_move[1]      \n",
    "            walkSteps.append(rando_move)\n",
    "\n",
    "    walkSteps = np.array(walkSteps)\n",
    "    walkTrajectory_in_mm = step_size_in_mm*np.cumsum(walkSteps,axis=0)\n",
    "    walkTrajectory_in_mm = np.array(xy_origin_in_mm) + walkTrajectory_in_mm\n",
    "    walkTrajectory_in_steps = np.cumsum(walkSteps,axis=0)\n",
    "    return walkSteps, walkString, walkTrajectory_in_mm, walkTrajectory_in_steps\n"
   ]
  },
  {
   "cell_type": "code",
   "execution_count": 30,
   "metadata": {},
   "outputs": [
    {
     "name": "stdout",
     "output_type": "stream",
     "text": [
      "time: 0 ns (started: 2024-03-08 18:30:11 -05:00)\n"
     ]
    }
   ],
   "source": [
    "from time import sleep"
   ]
  },
  {
   "cell_type": "code",
   "execution_count": 52,
   "metadata": {},
   "outputs": [
    {
     "name": "stdout",
     "output_type": "stream",
     "text": [
      "time: 0 ns (started: 2024-03-08 19:01:37 -05:00)\n"
     ]
    }
   ],
   "source": [
    "import pickle"
   ]
  },
  {
   "cell_type": "code",
   "execution_count": 64,
   "metadata": {},
   "outputs": [
    {
     "data": {
      "text/plain": [
       "0.238"
      ]
     },
     "execution_count": 64,
     "metadata": {},
     "output_type": "execute_result"
    },
    {
     "name": "stdout",
     "output_type": "stream",
     "text": [
      "time: 0 ns (started: 2024-03-08 19:39:49 -05:00)\n"
     ]
    }
   ],
   "source": [
    "np.max(walkTrajectory_in_mm)"
   ]
  },
  {
   "cell_type": "code",
   "execution_count": 68,
   "metadata": {},
   "outputs": [
    {
     "name": "stdout",
     "output_type": "stream",
     "text": [
      "Looking at region 120 for a bounded random walk\n"
     ]
    },
    {
     "name": "stderr",
     "output_type": "stream",
     "text": [
      "100%|██████████| 499/499 [00:15<00:00, 31.48it/s]\n"
     ]
    },
    {
     "name": "stdout",
     "output_type": "stream",
     "text": [
      "acq finished...\n"
     ]
    },
    {
     "name": "stderr",
     "output_type": "stream",
     "text": [
      "100%|██████████| 499/499 [00:15<00:00, 31.52it/s]\n"
     ]
    },
    {
     "name": "stdout",
     "output_type": "stream",
     "text": [
      "acq finished...\n"
     ]
    },
    {
     "name": "stderr",
     "output_type": "stream",
     "text": [
      "100%|██████████| 499/499 [00:15<00:00, 31.53it/s]\n"
     ]
    },
    {
     "name": "stdout",
     "output_type": "stream",
     "text": [
      "acq finished...\n",
      "Looking at region 120 for a unbounded random walk\n"
     ]
    },
    {
     "name": "stderr",
     "output_type": "stream",
     "text": [
      "100%|██████████| 499/499 [00:15<00:00, 31.61it/s]\n"
     ]
    },
    {
     "name": "stdout",
     "output_type": "stream",
     "text": [
      "acq finished...\n"
     ]
    },
    {
     "name": "stderr",
     "output_type": "stream",
     "text": [
      "100%|██████████| 499/499 [00:15<00:00, 31.48it/s]\n"
     ]
    },
    {
     "name": "stdout",
     "output_type": "stream",
     "text": [
      "acq finished...\n"
     ]
    },
    {
     "name": "stderr",
     "output_type": "stream",
     "text": [
      "100%|██████████| 499/499 [00:15<00:00, 31.63it/s]\n"
     ]
    },
    {
     "name": "stdout",
     "output_type": "stream",
     "text": [
      "acq finished...\n",
      "Looking at region 90 for a bounded random walk\n"
     ]
    },
    {
     "name": "stderr",
     "output_type": "stream",
     "text": [
      "100%|██████████| 499/499 [00:15<00:00, 31.87it/s]\n"
     ]
    },
    {
     "name": "stdout",
     "output_type": "stream",
     "text": [
      "acq finished...\n"
     ]
    },
    {
     "name": "stderr",
     "output_type": "stream",
     "text": [
      "100%|██████████| 499/499 [00:15<00:00, 31.49it/s]\n"
     ]
    },
    {
     "name": "stdout",
     "output_type": "stream",
     "text": [
      "acq finished...\n"
     ]
    },
    {
     "name": "stderr",
     "output_type": "stream",
     "text": [
      "100%|██████████| 499/499 [00:15<00:00, 31.72it/s]\n"
     ]
    },
    {
     "name": "stdout",
     "output_type": "stream",
     "text": [
      "acq finished...\n",
      "Looking at region 90 for a unbounded random walk\n"
     ]
    },
    {
     "name": "stderr",
     "output_type": "stream",
     "text": [
      "100%|██████████| 499/499 [00:15<00:00, 31.62it/s]\n"
     ]
    },
    {
     "name": "stdout",
     "output_type": "stream",
     "text": [
      "acq finished...\n"
     ]
    },
    {
     "name": "stderr",
     "output_type": "stream",
     "text": [
      "100%|██████████| 499/499 [00:15<00:00, 31.47it/s]\n"
     ]
    },
    {
     "name": "stdout",
     "output_type": "stream",
     "text": [
      "acq finished...\n"
     ]
    },
    {
     "name": "stderr",
     "output_type": "stream",
     "text": [
      "100%|██████████| 499/499 [00:15<00:00, 31.77it/s]\n"
     ]
    },
    {
     "name": "stdout",
     "output_type": "stream",
     "text": [
      "acq finished...\n",
      "Looking at region 80 for a bounded random walk\n"
     ]
    },
    {
     "name": "stderr",
     "output_type": "stream",
     "text": [
      "100%|██████████| 499/499 [00:15<00:00, 31.77it/s]\n"
     ]
    },
    {
     "name": "stdout",
     "output_type": "stream",
     "text": [
      "acq finished...\n"
     ]
    },
    {
     "name": "stderr",
     "output_type": "stream",
     "text": [
      "100%|██████████| 499/499 [00:15<00:00, 31.45it/s]\n"
     ]
    },
    {
     "name": "stdout",
     "output_type": "stream",
     "text": [
      "acq finished...\n"
     ]
    },
    {
     "name": "stderr",
     "output_type": "stream",
     "text": [
      "100%|██████████| 499/499 [00:15<00:00, 31.58it/s]\n"
     ]
    },
    {
     "name": "stdout",
     "output_type": "stream",
     "text": [
      "acq finished...\n",
      "Looking at region 80 for a unbounded random walk\n"
     ]
    },
    {
     "name": "stderr",
     "output_type": "stream",
     "text": [
      "100%|██████████| 499/499 [00:15<00:00, 31.65it/s]\n"
     ]
    },
    {
     "name": "stdout",
     "output_type": "stream",
     "text": [
      "acq finished...\n"
     ]
    },
    {
     "name": "stderr",
     "output_type": "stream",
     "text": [
      "100%|██████████| 499/499 [00:15<00:00, 31.67it/s]\n"
     ]
    },
    {
     "name": "stdout",
     "output_type": "stream",
     "text": [
      "acq finished...\n"
     ]
    },
    {
     "name": "stderr",
     "output_type": "stream",
     "text": [
      "100%|██████████| 499/499 [00:15<00:00, 31.66it/s]\n"
     ]
    },
    {
     "name": "stdout",
     "output_type": "stream",
     "text": [
      "acq finished...\n",
      "Looking at region 70 for a bounded random walk\n"
     ]
    },
    {
     "name": "stderr",
     "output_type": "stream",
     "text": [
      "100%|██████████| 499/499 [00:16<00:00, 31.16it/s]\n"
     ]
    },
    {
     "name": "stdout",
     "output_type": "stream",
     "text": [
      "acq finished...\n"
     ]
    },
    {
     "name": "stderr",
     "output_type": "stream",
     "text": [
      "100%|██████████| 499/499 [00:15<00:00, 31.57it/s]\n"
     ]
    },
    {
     "name": "stdout",
     "output_type": "stream",
     "text": [
      "acq finished...\n"
     ]
    },
    {
     "name": "stderr",
     "output_type": "stream",
     "text": [
      "100%|██████████| 499/499 [00:15<00:00, 31.61it/s]\n"
     ]
    },
    {
     "name": "stdout",
     "output_type": "stream",
     "text": [
      "acq finished...\n",
      "Looking at region 70 for a unbounded random walk\n"
     ]
    },
    {
     "name": "stderr",
     "output_type": "stream",
     "text": [
      "100%|██████████| 499/499 [00:15<00:00, 31.41it/s]\n"
     ]
    },
    {
     "name": "stdout",
     "output_type": "stream",
     "text": [
      "acq finished...\n"
     ]
    },
    {
     "name": "stderr",
     "output_type": "stream",
     "text": [
      "100%|██████████| 499/499 [00:15<00:00, 31.70it/s]\n"
     ]
    },
    {
     "name": "stdout",
     "output_type": "stream",
     "text": [
      "acq finished...\n"
     ]
    },
    {
     "name": "stderr",
     "output_type": "stream",
     "text": [
      "100%|██████████| 499/499 [00:15<00:00, 31.60it/s]\n"
     ]
    },
    {
     "name": "stdout",
     "output_type": "stream",
     "text": [
      "acq finished...\n",
      "Looking at region 60 for a bounded random walk\n"
     ]
    },
    {
     "name": "stderr",
     "output_type": "stream",
     "text": [
      "100%|██████████| 499/499 [00:15<00:00, 31.33it/s]\n"
     ]
    },
    {
     "name": "stdout",
     "output_type": "stream",
     "text": [
      "acq finished...\n"
     ]
    },
    {
     "name": "stderr",
     "output_type": "stream",
     "text": [
      "100%|██████████| 499/499 [00:15<00:00, 31.64it/s]\n"
     ]
    },
    {
     "name": "stdout",
     "output_type": "stream",
     "text": [
      "acq finished...\n"
     ]
    },
    {
     "name": "stderr",
     "output_type": "stream",
     "text": [
      "100%|██████████| 499/499 [00:15<00:00, 31.74it/s]\n"
     ]
    },
    {
     "name": "stdout",
     "output_type": "stream",
     "text": [
      "acq finished...\n",
      "Looking at region 60 for a unbounded random walk\n"
     ]
    },
    {
     "name": "stderr",
     "output_type": "stream",
     "text": [
      "100%|██████████| 499/499 [00:15<00:00, 31.37it/s]\n"
     ]
    },
    {
     "name": "stdout",
     "output_type": "stream",
     "text": [
      "acq finished...\n"
     ]
    },
    {
     "name": "stderr",
     "output_type": "stream",
     "text": [
      "100%|██████████| 499/499 [00:15<00:00, 31.61it/s]\n"
     ]
    },
    {
     "name": "stdout",
     "output_type": "stream",
     "text": [
      "acq finished...\n"
     ]
    },
    {
     "name": "stderr",
     "output_type": "stream",
     "text": [
      "100%|██████████| 499/499 [00:15<00:00, 31.68it/s]\n"
     ]
    },
    {
     "name": "stdout",
     "output_type": "stream",
     "text": [
      "acq finished...\n",
      "Looking at region 50 for a bounded random walk\n"
     ]
    },
    {
     "name": "stderr",
     "output_type": "stream",
     "text": [
      "100%|██████████| 499/499 [00:15<00:00, 31.67it/s]\n"
     ]
    },
    {
     "name": "stdout",
     "output_type": "stream",
     "text": [
      "acq finished...\n"
     ]
    },
    {
     "name": "stderr",
     "output_type": "stream",
     "text": [
      "100%|██████████| 499/499 [00:15<00:00, 31.40it/s]\n"
     ]
    },
    {
     "name": "stdout",
     "output_type": "stream",
     "text": [
      "acq finished...\n"
     ]
    },
    {
     "name": "stderr",
     "output_type": "stream",
     "text": [
      "100%|██████████| 499/499 [00:15<00:00, 31.43it/s]\n"
     ]
    },
    {
     "name": "stdout",
     "output_type": "stream",
     "text": [
      "acq finished...\n",
      "Looking at region 50 for a unbounded random walk\n"
     ]
    },
    {
     "name": "stderr",
     "output_type": "stream",
     "text": [
      "100%|██████████| 499/499 [00:15<00:00, 31.67it/s]\n"
     ]
    },
    {
     "name": "stdout",
     "output_type": "stream",
     "text": [
      "acq finished...\n"
     ]
    },
    {
     "name": "stderr",
     "output_type": "stream",
     "text": [
      "100%|██████████| 499/499 [00:15<00:00, 31.41it/s]\n"
     ]
    },
    {
     "name": "stdout",
     "output_type": "stream",
     "text": [
      "acq finished...\n"
     ]
    },
    {
     "name": "stderr",
     "output_type": "stream",
     "text": [
      "100%|██████████| 499/499 [00:15<00:00, 31.56it/s]\n"
     ]
    },
    {
     "name": "stdout",
     "output_type": "stream",
     "text": [
      "acq finished...\n",
      "Looking at region 40 for a bounded random walk\n"
     ]
    },
    {
     "name": "stderr",
     "output_type": "stream",
     "text": [
      "100%|██████████| 499/499 [00:15<00:00, 31.46it/s]\n"
     ]
    },
    {
     "name": "stdout",
     "output_type": "stream",
     "text": [
      "acq finished...\n"
     ]
    },
    {
     "name": "stderr",
     "output_type": "stream",
     "text": [
      "100%|██████████| 499/499 [00:15<00:00, 31.35it/s]\n"
     ]
    },
    {
     "name": "stdout",
     "output_type": "stream",
     "text": [
      "acq finished...\n"
     ]
    },
    {
     "name": "stderr",
     "output_type": "stream",
     "text": [
      "100%|██████████| 499/499 [00:15<00:00, 31.74it/s]\n"
     ]
    },
    {
     "name": "stdout",
     "output_type": "stream",
     "text": [
      "acq finished...\n",
      "Looking at region 40 for a unbounded random walk\n"
     ]
    },
    {
     "name": "stderr",
     "output_type": "stream",
     "text": [
      "100%|██████████| 499/499 [00:15<00:00, 31.48it/s]\n"
     ]
    },
    {
     "name": "stdout",
     "output_type": "stream",
     "text": [
      "acq finished...\n"
     ]
    },
    {
     "name": "stderr",
     "output_type": "stream",
     "text": [
      "100%|██████████| 499/499 [00:15<00:00, 31.65it/s]\n"
     ]
    },
    {
     "name": "stdout",
     "output_type": "stream",
     "text": [
      "acq finished...\n"
     ]
    },
    {
     "name": "stderr",
     "output_type": "stream",
     "text": [
      "100%|██████████| 499/499 [00:15<00:00, 31.41it/s]\n"
     ]
    },
    {
     "name": "stdout",
     "output_type": "stream",
     "text": [
      "acq finished...\n",
      "Looking at region 30 for a bounded random walk\n"
     ]
    },
    {
     "name": "stderr",
     "output_type": "stream",
     "text": [
      "100%|██████████| 499/499 [00:15<00:00, 31.42it/s]\n"
     ]
    },
    {
     "name": "stdout",
     "output_type": "stream",
     "text": [
      "acq finished...\n"
     ]
    },
    {
     "name": "stderr",
     "output_type": "stream",
     "text": [
      "100%|██████████| 499/499 [00:15<00:00, 31.75it/s]\n"
     ]
    },
    {
     "name": "stdout",
     "output_type": "stream",
     "text": [
      "acq finished...\n"
     ]
    },
    {
     "name": "stderr",
     "output_type": "stream",
     "text": [
      "100%|██████████| 499/499 [00:15<00:00, 31.60it/s]\n"
     ]
    },
    {
     "name": "stdout",
     "output_type": "stream",
     "text": [
      "acq finished...\n",
      "Looking at region 30 for a unbounded random walk\n"
     ]
    },
    {
     "name": "stderr",
     "output_type": "stream",
     "text": [
      "100%|██████████| 499/499 [00:16<00:00, 30.91it/s]\n"
     ]
    },
    {
     "name": "stdout",
     "output_type": "stream",
     "text": [
      "acq finished...\n"
     ]
    },
    {
     "name": "stderr",
     "output_type": "stream",
     "text": [
      "100%|██████████| 499/499 [00:15<00:00, 31.53it/s]\n"
     ]
    },
    {
     "name": "stdout",
     "output_type": "stream",
     "text": [
      "acq finished...\n"
     ]
    },
    {
     "name": "stderr",
     "output_type": "stream",
     "text": [
      "100%|██████████| 499/499 [00:15<00:00, 31.63it/s]\n"
     ]
    },
    {
     "name": "stdout",
     "output_type": "stream",
     "text": [
      "acq finished...\n",
      "Looking at region 120 for a unbounded random walk\n"
     ]
    },
    {
     "ename": "IndexError",
     "evalue": "invalid index",
     "output_type": "error",
     "traceback": [
      "\u001b[1;31m---------------------------------------------------------------------------\u001b[0m",
      "\u001b[1;31mIndexError\u001b[0m                                Traceback (most recent call last)",
      "\u001b[1;32m<ipython-input-68-ba6fab5e878f>\u001b[0m in \u001b[0;36m<module>\u001b[1;34m\u001b[0m\n\u001b[0;32m     82\u001b[0m         \u001b[0mstage\u001b[0m\u001b[1;33m.\u001b[0m\u001b[0mmove\u001b[0m\u001b[1;33m(\u001b[0m\u001b[1;34m'x'\u001b[0m\u001b[1;33m,\u001b[0m \u001b[0mwaveformx\u001b[0m\u001b[1;33m[\u001b[0m\u001b[1;36m0\u001b[0m\u001b[1;33m]\u001b[0m\u001b[1;33m)\u001b[0m\u001b[1;33m\u001b[0m\u001b[1;33m\u001b[0m\u001b[0m\n\u001b[0;32m     83\u001b[0m         \u001b[0mstage\u001b[0m\u001b[1;33m.\u001b[0m\u001b[0mmove\u001b[0m\u001b[1;33m(\u001b[0m\u001b[1;34m'y'\u001b[0m\u001b[1;33m,\u001b[0m \u001b[0mwaveformy\u001b[0m\u001b[1;33m[\u001b[0m\u001b[1;36m0\u001b[0m\u001b[1;33m]\u001b[0m\u001b[1;33m)\u001b[0m\u001b[1;33m\u001b[0m\u001b[1;33m\u001b[0m\u001b[0m\n\u001b[1;32m---> 84\u001b[1;33m         \u001b[0mstage\u001b[0m\u001b[1;33m.\u001b[0m\u001b[0msetup_wfma\u001b[0m\u001b[1;33m(\u001b[0m\u001b[0mwaveformx\u001b[0m\u001b[1;33m,\u001b[0m \u001b[0mwaveformy\u001b[0m\u001b[1;33m,\u001b[0m \u001b[0mwaveformz\u001b[0m\u001b[1;33m,\u001b[0m \u001b[0mnpoints\u001b[0m \u001b[1;33m=\u001b[0m \u001b[0mnum_rando_points\u001b[0m\u001b[1;33m,\u001b[0m \u001b[0mdwell_time\u001b[0m\u001b[1;33m=\u001b[0m\u001b[1;36m6\u001b[0m\u001b[1;33m,\u001b[0m \u001b[0miterations\u001b[0m\u001b[1;33m=\u001b[0m\u001b[1;36m1\u001b[0m\u001b[1;33m)\u001b[0m\u001b[1;33m\u001b[0m\u001b[1;33m\u001b[0m\u001b[0m\n\u001b[0m\u001b[0;32m     85\u001b[0m         \u001b[0mx\u001b[0m\u001b[1;33m,\u001b[0m\u001b[0my\u001b[0m\u001b[1;33m,\u001b[0m\u001b[0mz\u001b[0m \u001b[1;33m=\u001b[0m \u001b[0mstage\u001b[0m\u001b[1;33m.\u001b[0m\u001b[0mtrigger_read_wfma\u001b[0m\u001b[1;33m(\u001b[0m\u001b[0mwaveformx\u001b[0m\u001b[1;33m,\u001b[0m \u001b[0mwaveformy\u001b[0m\u001b[1;33m,\u001b[0m \u001b[0mwaveformz\u001b[0m\u001b[1;33m,\u001b[0m \u001b[0mnpoints\u001b[0m \u001b[1;33m=\u001b[0m \u001b[0mnum_rando_points\u001b[0m\u001b[1;33m)\u001b[0m\u001b[1;33m\u001b[0m\u001b[1;33m\u001b[0m\u001b[0m\n\u001b[0;32m     86\u001b[0m         \u001b[0mfname\u001b[0m \u001b[1;33m=\u001b[0m \u001b[1;34m'continuous-random-unbounded-%d-%d.csv'\u001b[0m \u001b[1;33m%\u001b[0m \u001b[1;33m(\u001b[0m\u001b[0mregion\u001b[0m\u001b[1;33m,\u001b[0m \u001b[0mi\u001b[0m\u001b[1;33m)\u001b[0m\u001b[1;33m\u001b[0m\u001b[1;33m\u001b[0m\u001b[0m\n",
      "\u001b[1;32mD:/ZiaLab/Codebase\\zialab\\instruments\\madcity.py\u001b[0m in \u001b[0;36msetup_wfma\u001b[1;34m(self, waveformx, waveformy, waveformz, npoints, dwell_time, iterations)\u001b[0m\n\u001b[0;32m    419\u001b[0m         \u001b[0mwfx\u001b[0m \u001b[1;33m=\u001b[0m \u001b[1;33m(\u001b[0m\u001b[0mc_double\u001b[0m\u001b[1;33m*\u001b[0m\u001b[0mnpoints\u001b[0m\u001b[1;33m)\u001b[0m\u001b[1;33m(\u001b[0m\u001b[1;33m*\u001b[0m\u001b[0mwaveformx\u001b[0m\u001b[1;33m)\u001b[0m\u001b[1;33m\u001b[0m\u001b[1;33m\u001b[0m\u001b[0m\n\u001b[0;32m    420\u001b[0m         \u001b[0mwfy\u001b[0m \u001b[1;33m=\u001b[0m \u001b[1;33m(\u001b[0m\u001b[0mc_double\u001b[0m\u001b[1;33m*\u001b[0m\u001b[0mnpoints\u001b[0m\u001b[1;33m)\u001b[0m\u001b[1;33m(\u001b[0m\u001b[1;33m*\u001b[0m\u001b[0mwaveformy\u001b[0m\u001b[1;33m)\u001b[0m\u001b[1;33m\u001b[0m\u001b[1;33m\u001b[0m\u001b[0m\n\u001b[1;32m--> 421\u001b[1;33m         \u001b[0mwfz\u001b[0m \u001b[1;33m=\u001b[0m \u001b[1;33m(\u001b[0m\u001b[0mc_double\u001b[0m\u001b[1;33m*\u001b[0m\u001b[0mnpoints\u001b[0m\u001b[1;33m)\u001b[0m\u001b[1;33m(\u001b[0m\u001b[1;33m*\u001b[0m\u001b[0mwaveformz\u001b[0m\u001b[1;33m)\u001b[0m\u001b[1;33m\u001b[0m\u001b[1;33m\u001b[0m\u001b[0m\n\u001b[0m\u001b[0;32m    422\u001b[0m         \u001b[0merror_code\u001b[0m \u001b[1;33m=\u001b[0m \u001b[0mself\u001b[0m\u001b[1;33m.\u001b[0m\u001b[0m_setup_wfma\u001b[0m\u001b[1;33m(\u001b[0m\u001b[0mpointer\u001b[0m\u001b[1;33m(\u001b[0m\u001b[0mwfx\u001b[0m\u001b[1;33m)\u001b[0m\u001b[1;33m,\u001b[0m \u001b[0mpointer\u001b[0m\u001b[1;33m(\u001b[0m\u001b[0mwfy\u001b[0m\u001b[1;33m)\u001b[0m\u001b[1;33m,\u001b[0m \u001b[0mpointer\u001b[0m\u001b[1;33m(\u001b[0m\u001b[0mwfz\u001b[0m\u001b[1;33m)\u001b[0m\u001b[1;33m,\u001b[0m \u001b[0mc_uint\u001b[0m\u001b[1;33m(\u001b[0m\u001b[0mnpoints\u001b[0m\u001b[1;33m)\u001b[0m\u001b[1;33m,\u001b[0m \u001b[0mc_double\u001b[0m\u001b[1;33m(\u001b[0m\u001b[0mdwell_time\u001b[0m\u001b[1;33m)\u001b[0m\u001b[1;33m,\u001b[0m \u001b[0mc_short\u001b[0m\u001b[1;33m(\u001b[0m\u001b[0miterations\u001b[0m\u001b[1;33m)\u001b[0m\u001b[1;33m,\u001b[0m \u001b[0mself\u001b[0m\u001b[1;33m.\u001b[0m\u001b[0mhandle\u001b[0m\u001b[1;33m)\u001b[0m\u001b[1;33m\u001b[0m\u001b[1;33m\u001b[0m\u001b[0m\n\u001b[0;32m    423\u001b[0m         \u001b[1;32mif\u001b[0m \u001b[0merror_code\u001b[0m\u001b[1;33m==\u001b[0m\u001b[1;36m0\u001b[0m\u001b[1;33m:\u001b[0m\u001b[1;33m\u001b[0m\u001b[1;33m\u001b[0m\u001b[0m\n",
      "\u001b[1;31mIndexError\u001b[0m: invalid index"
     ]
    },
    {
     "name": "stdout",
     "output_type": "stream",
     "text": [
      "time: 33min 57s (started: 2024-03-08 19:43:31 -05:00)\n"
     ]
    }
   ],
   "source": [
    "# Step size changed to 4 um (20*2 = pixel size in 64x64 image, 40/10 = step size)\n",
    "regions = [120, 90, 80, 70, 60, 50, 40, 30]\n",
    "num_rando_walks = 3\n",
    "num_rando_points = 500\n",
    "rando_trajectory_directory = {}\n",
    "the_experiments = {}\n",
    "for region in regions:\n",
    "    input(\"move micrometer to region %s lp/mm\" % region)\n",
    "    for rando_type in ['bounded', 'unbounded']:\n",
    "        print(\"Looking at region %d for a %s random walk\" % (region, rando_type))\n",
    "        experiment = {'num_random_walks': num_rando_walks,\n",
    "                    'step_size_in_um': 4 ,\n",
    "                    'xy_origin_in_mm': (.15, .15),\n",
    "                    'num_steps': num_rando_points,\n",
    "                    'data': [],\n",
    "                    'walk_steps': [],\n",
    "                    'walk_strings': [],\n",
    "                    'walk_trajectories_in_int': [],\n",
    "                    'walk_trajectories_in_mm': [],\n",
    "                    'walk_kind': rando_type,\n",
    "                    'walk_bound': 4}\n",
    "        for i in range(experiment['num_random_walks']):\n",
    "            while True:\n",
    "                walkSteps, walkString, walkTrajectory_in_mm, walkTrajectory_in_steps = rando_wiggle(experiment['step_size_in_um'],\n",
    "                                                                    experiment['xy_origin_in_mm'],\n",
    "                                                                    experiment['num_steps'], bound_range=experiment['walk_bound'], kind=experiment['walk_kind'])\n",
    "                if np.max(walkTrajectory_in_mm) < 0.3*0.95 and np.min(walkTrajectory_in_mm) > 0.3*0.05:\n",
    "                    break\n",
    "            if rando_type == 'unbounded':\n",
    "                rando_trajectory_directory[i] = (walkSteps, walkString, walkTrajectory_in_mm, walkTrajectory_in_steps)\n",
    "            experiment['walk_steps'].append(walkSteps)\n",
    "            experiment['walk_strings'].append(walkString)\n",
    "            experiment['walk_trajectories_in_mm'].append(walkTrajectory_in_mm)\n",
    "            experiment['walk_trajectories_in_int'].append(walkTrajectory_in_steps)\n",
    "        experiment_fname = 'big-expedition-%d-%s.pkl' % (region, rando_type)\n",
    "        pickle.dump(experiment, open(experiment_fname, 'wb'))\n",
    "        the_experiments[(region, rando_type)] = experiment\n",
    "        #Name the file that holds the integer trajectories \n",
    "        with open('08MAR2024_walk_trajectories-%d-%s.py' % (region, rando_type),'w') as file:\n",
    "            file.write('coords='+str(list(map(lambda x: x.tolist(), np.array(experiment['walk_trajectories_in_int'])))))\n",
    "        trajectories_in_mm  = experiment['walk_trajectories_in_mm']\n",
    "        trajectories_in_int = experiment['walk_trajectories_in_int']\n",
    "        for rando_walk_index in range(experiment['num_random_walks']):\n",
    "            fname = \"rando-walk-step-and-move-%d-%s-%d\" % (region, rando_type, rando_walk_index)\n",
    "            lf.set_filename(fname, timetag = False)\n",
    "            input(\"click acquire on LF\")\n",
    "            single_walk_dictionary = {}\n",
    "            trajectory_in_mm = trajectories_in_mm[rando_walk_index]\n",
    "            trajectory_in_int = trajectories_in_int[rando_walk_index]\n",
    "            #Bring the stage to the starting position, then send an aux clock pulse and proceed with the rest of the steps\n",
    "            commanded_position_in_mm = trajectory_in_mm[0]\n",
    "            commanded_position_in_int = tuple(trajectory_in_int[0])\n",
    "            x, y = commanded_position_in_mm*1000\n",
    "            stage.move('x', x)\n",
    "            stage.move('y', y)\n",
    "            stage.aux_clock()\n",
    "            for trajectory_index in tqdm(range(1, experiment['num_steps'])):\n",
    "                commanded_position_in_mm = trajectory_in_mm[trajectory_index]\n",
    "                commanded_position_in_int = tuple(trajectory_in_int[trajectory_index])\n",
    "                # command the stage to move to commanded_position_in_mm\n",
    "                x, y = commanded_position_in_mm*1000 #Made these values in um\n",
    "                stage.move('x', x)\n",
    "                stage.move('y', y)\n",
    "            stage.aux_clock()\n",
    "            print(\"acq finished...\")\n",
    "            sleep(5)"
   ]
  },
  {
   "cell_type": "code",
   "execution_count": 81,
   "metadata": {},
   "outputs": [
    {
     "name": "stdout",
     "output_type": "stream",
     "text": [
      "Looking at region 120 for a unbounded random walk\n",
      "Multi-axis waveform SET.\n",
      "Multi-axis waveform triggered and running...\n",
      "Multi-axis waveform SET.\n",
      "Multi-axis waveform triggered and running...\n",
      "Multi-axis waveform SET.\n",
      "Multi-axis waveform triggered and running...\n",
      "Looking at region 90 for a unbounded random walk\n",
      "Multi-axis waveform SET.\n",
      "Multi-axis waveform triggered and running...\n",
      "Multi-axis waveform SET.\n",
      "Multi-axis waveform triggered and running...\n",
      "Multi-axis waveform SET.\n",
      "Multi-axis waveform triggered and running...\n",
      "Looking at region 80 for a unbounded random walk\n",
      "Multi-axis waveform SET.\n",
      "Multi-axis waveform triggered and running...\n",
      "Multi-axis waveform SET.\n",
      "Multi-axis waveform triggered and running...\n",
      "Multi-axis waveform SET.\n",
      "Multi-axis waveform triggered and running...\n",
      "Looking at region 70 for a unbounded random walk\n",
      "Multi-axis waveform SET.\n",
      "Multi-axis waveform triggered and running...\n",
      "Multi-axis waveform SET.\n",
      "Multi-axis waveform triggered and running...\n",
      "Multi-axis waveform SET.\n",
      "Multi-axis waveform triggered and running...\n",
      "Looking at region 60 for a unbounded random walk\n",
      "Multi-axis waveform SET.\n",
      "Multi-axis waveform triggered and running...\n",
      "Multi-axis waveform SET.\n",
      "Multi-axis waveform triggered and running...\n",
      "Multi-axis waveform SET.\n",
      "Multi-axis waveform triggered and running...\n",
      "Looking at region 50 for a unbounded random walk\n",
      "Multi-axis waveform SET.\n",
      "Multi-axis waveform triggered and running...\n",
      "Multi-axis waveform SET.\n",
      "Multi-axis waveform triggered and running...\n",
      "Multi-axis waveform SET.\n",
      "Multi-axis waveform triggered and running...\n",
      "Looking at region 40 for a unbounded random walk\n",
      "Multi-axis waveform SET.\n",
      "Multi-axis waveform triggered and running...\n",
      "Multi-axis waveform SET.\n",
      "Multi-axis waveform triggered and running...\n",
      "Multi-axis waveform SET.\n",
      "Multi-axis waveform triggered and running...\n",
      "Looking at region 30 for a unbounded random walk\n",
      "Multi-axis waveform SET.\n",
      "Multi-axis waveform triggered and running...\n",
      "Multi-axis waveform SET.\n",
      "Multi-axis waveform triggered and running...\n",
      "Multi-axis waveform SET.\n",
      "Multi-axis waveform triggered and running...\n",
      "time: 7min 19s (started: 2024-03-08 20:26:00 -05:00)\n"
     ]
    }
   ],
   "source": [
    "for region in regions:\n",
    "    input(\"move micrometer to region %s lp/mm\" % region)\n",
    "    print(\"Looking at region %d for a %s random walk\" % (region, 'unbounded'))\n",
    "    experiment = the_experiments[(region, 'unbounded')]\n",
    "    trajectories_in_mm  = experiment['walk_trajectories_in_mm']\n",
    "    trajectories_in_int = experiment['walk_trajectories_in_int']\n",
    "    input(\"adjust brightness for faster readout, and take background sub ...\")\n",
    "    for i in range(experiment['num_random_walks']):\n",
    "        fname = 'continous-%d-%d' % (region, i)\n",
    "        lf.set_filename(fname, timetag = False)\n",
    "        input(\"click Acquire in LF ...\")\n",
    "        walkTrajectory_in_mm = trajectories_in_mm[i]\n",
    "        waveformx = walkTrajectory_in_mm[:,0] * 1000\n",
    "        waveformy = walkTrajectory_in_mm[:,1] * 1000\n",
    "        waveformz = [0]*num_rando_points\n",
    "        stage.move('x', waveformx[0])\n",
    "        stage.move('y', waveformy[0])\n",
    "        stage.setup_wfma(waveformx, waveformy, waveformz, npoints = num_rando_points, dwell_time=6, iterations=1)\n",
    "        x,y,z = stage.trigger_read_wfma(waveformx, waveformy, waveformz, npoints = num_rando_points)\n",
    "        fname = 'continuous-random-unbounded-%d-%d.csv' % (region, i)\n",
    "        np.savetxt(fname, np.array([x,y]).T, delimiter=',')\n",
    "        sleep(5)"
   ]
  },
  {
   "cell_type": "code",
   "execution_count": 177,
   "metadata": {},
   "outputs": [
    {
     "name": "stdout",
     "output_type": "stream",
     "text": [
      "Multi-axis waveform SET.\n",
      "Multi-axis waveform triggered and running...\n",
      "time: 3.2 s (started: 2024-03-12 13:44:12 -04:00)\n"
     ]
    }
   ],
   "source": [
    "'''\n",
    "waveformx_extend = []\n",
    "waveformy_extend = []\n",
    "for i in range(len(waveformx)-1):\n",
    "    for tt in range(40):\n",
    "            xx = waveformx[i]*(39-tt)/39 + waveformx[i+1]*(tt)/39\n",
    "            yy = waveformy[i]*(39-tt)/39 + waveformy[i+1]*(tt)/39\n",
    "            waveformx_extend.append(xx)\n",
    "            waveformy_extend.append(yy)\n",
    "\n",
    "'''\n",
    "\n",
    "waveformx_extend = []\n",
    "for i in range(len(waveformx)):\n",
    "    for _ in range(40):\n",
    "        waveformx_extend.append(waveformx[i])\n",
    "\n",
    "\n",
    "waveformy_extend = []\n",
    "for i in range(len(waveformx)):\n",
    "    for _ in range(40):\n",
    "        waveformy_extend.append(waveformy[i])\n",
    "#'''\n",
    "\n",
    "waveformx_extend = waveformx_extend[0:1500]\n",
    "waveformy_extend = waveformy_extend[0:1500]\n",
    "\n",
    "num_points = len(waveformy_extend)\n",
    "\n",
    "waveformz = [0]*num_points\n",
    "stage.move('x', waveformx_extend[0])\n",
    "stage.move('y', waveformy_extend[0])\n",
    "stage.setup_wfma(waveformx_extend, waveformy_extend, waveformz, npoints = num_points, dwell_time=6, iterations=1)\n",
    "x,y,z = stage.trigger_read_wfma(waveformx_extend, waveformy_extend, waveformz, npoints = num_points)\n",
    "#fname = 'continuous-%d-%d-slow.csv' % (region, 2)\n",
    "#np.savetxt(fname, np.array([x,y]).T, delimiter=',')"
   ]
  },
  {
   "cell_type": "code",
   "execution_count": null,
   "metadata": {},
   "outputs": [],
   "source": []
  },
  {
   "cell_type": "code",
   "execution_count": 100,
   "metadata": {},
   "outputs": [
    {
     "name": "stdout",
     "output_type": "stream",
     "text": [
      "time: 16 ms (started: 2024-03-11 20:06:36 -04:00)\n"
     ]
    }
   ],
   "source": [
    "waveformx_extend = []\n",
    "for i in range(len(waveformx)):\n",
    "    for _ in range(10):\n",
    "        waveformx_extend.append(waveformx[i])\n",
    "\n"
   ]
  },
  {
   "cell_type": "code",
   "execution_count": 168,
   "metadata": {},
   "outputs": [
    {
     "data": {
      "image/png": "[encoded data removed]",
      "text/plain": [
       "<Figure size 432x288 with 1 Axes>"
      ]
     },
     "metadata": {
      "needs_background": "light"
     },
     "output_type": "display_data"
    },
    {
     "name": "stdout",
     "output_type": "stream",
     "text": [
      "time: 172 ms (started: 2024-03-11 21:36:06 -04:00)\n"
     ]
    }
   ],
   "source": [
    "plt.plot(x[:2000], y[:2000],)\n",
    "plt.show()"
   ]
  },
  {
   "cell_type": "code",
   "execution_count": 62,
   "metadata": {},
   "outputs": [
    {
     "data": {
      "image/png": "[encoded data removed]",
      "text/plain": [
       "<Figure size 432x288 with 1 Axes>"
      ]
     },
     "metadata": {
      "needs_background": "light"
     },
     "output_type": "display_data"
    },
    {
     "name": "stdout",
     "output_type": "stream",
     "text": [
      "time: 250 ms (started: 2024-03-08 19:36:29 -05:00)\n"
     ]
    }
   ],
   "source": [
    "plt.plot(walkTrajectory_in_mm[:,0], walkTrajectory_in_mm[:,1])\n",
    "plt.show()"
   ]
  },
  {
   "cell_type": "code",
   "execution_count": 61,
   "metadata": {},
   "outputs": [
    {
     "data": {
      "text/plain": [
       "array([[0.15 , 0.15 ],\n",
       "       [0.146, 0.15 ],\n",
       "       [0.15 , 0.15 ],\n",
       "       [0.154, 0.15 ],\n",
       "       [0.15 , 0.15 ],\n",
       "       [0.146, 0.15 ],\n",
       "       [0.142, 0.15 ],\n",
       "       [0.142, 0.146],\n",
       "       [0.138, 0.146],\n",
       "       [0.142, 0.146],\n",
       "       [0.142, 0.15 ],\n",
       "       [0.142, 0.146],\n",
       "       [0.142, 0.142],\n",
       "       [0.138, 0.142],\n",
       "       [0.138, 0.146],\n",
       "       [0.134, 0.146],\n",
       "       [0.134, 0.142],\n",
       "       [0.138, 0.142],\n",
       "       [0.138, 0.138],\n",
       "       [0.142, 0.138],\n",
       "       [0.142, 0.134],\n",
       "       [0.138, 0.134],\n",
       "       [0.138, 0.138],\n",
       "       [0.138, 0.142],\n",
       "       [0.142, 0.142],\n",
       "       [0.138, 0.142],\n",
       "       [0.134, 0.142],\n",
       "       [0.134, 0.146],\n",
       "       [0.134, 0.15 ],\n",
       "       [0.138, 0.15 ],\n",
       "       [0.134, 0.15 ],\n",
       "       [0.138, 0.15 ],\n",
       "       [0.134, 0.15 ],\n",
       "       [0.134, 0.154],\n",
       "       [0.13 , 0.154],\n",
       "       [0.126, 0.154],\n",
       "       [0.126, 0.15 ],\n",
       "       [0.13 , 0.15 ],\n",
       "       [0.13 , 0.154],\n",
       "       [0.13 , 0.15 ],\n",
       "       [0.13 , 0.154],\n",
       "       [0.126, 0.154],\n",
       "       [0.122, 0.154],\n",
       "       [0.122, 0.158],\n",
       "       [0.122, 0.154],\n",
       "       [0.122, 0.15 ],\n",
       "       [0.126, 0.15 ],\n",
       "       [0.13 , 0.15 ],\n",
       "       [0.134, 0.15 ],\n",
       "       [0.134, 0.146],\n",
       "       [0.138, 0.146],\n",
       "       [0.138, 0.142],\n",
       "       [0.138, 0.146],\n",
       "       [0.138, 0.142],\n",
       "       [0.138, 0.138],\n",
       "       [0.134, 0.138],\n",
       "       [0.138, 0.138],\n",
       "       [0.138, 0.134],\n",
       "       [0.134, 0.134],\n",
       "       [0.13 , 0.134],\n",
       "       [0.126, 0.134],\n",
       "       [0.126, 0.138],\n",
       "       [0.122, 0.138],\n",
       "       [0.118, 0.138],\n",
       "       [0.118, 0.134],\n",
       "       [0.118, 0.13 ],\n",
       "       [0.118, 0.134],\n",
       "       [0.114, 0.134],\n",
       "       [0.114, 0.138],\n",
       "       [0.114, 0.142],\n",
       "       [0.11 , 0.142],\n",
       "       [0.114, 0.142],\n",
       "       [0.114, 0.138],\n",
       "       [0.114, 0.142],\n",
       "       [0.114, 0.138],\n",
       "       [0.114, 0.134],\n",
       "       [0.114, 0.138],\n",
       "       [0.118, 0.138],\n",
       "       [0.114, 0.138],\n",
       "       [0.11 , 0.138],\n",
       "       [0.106, 0.138],\n",
       "       [0.106, 0.142],\n",
       "       [0.102, 0.142],\n",
       "       [0.098, 0.142],\n",
       "       [0.098, 0.146],\n",
       "       [0.102, 0.146],\n",
       "       [0.102, 0.15 ],\n",
       "       [0.098, 0.15 ],\n",
       "       [0.094, 0.15 ],\n",
       "       [0.094, 0.154],\n",
       "       [0.09 , 0.154],\n",
       "       [0.09 , 0.158],\n",
       "       [0.09 , 0.154],\n",
       "       [0.094, 0.154],\n",
       "       [0.09 , 0.154],\n",
       "       [0.094, 0.154],\n",
       "       [0.094, 0.158],\n",
       "       [0.098, 0.158],\n",
       "       [0.098, 0.162],\n",
       "       [0.098, 0.166],\n",
       "       [0.098, 0.162],\n",
       "       [0.094, 0.162],\n",
       "       [0.094, 0.166],\n",
       "       [0.09 , 0.166],\n",
       "       [0.094, 0.166],\n",
       "       [0.09 , 0.166],\n",
       "       [0.09 , 0.162],\n",
       "       [0.09 , 0.158],\n",
       "       [0.09 , 0.154],\n",
       "       [0.094, 0.154],\n",
       "       [0.094, 0.15 ],\n",
       "       [0.094, 0.154],\n",
       "       [0.098, 0.154],\n",
       "       [0.094, 0.154],\n",
       "       [0.094, 0.158],\n",
       "       [0.09 , 0.158],\n",
       "       [0.086, 0.158],\n",
       "       [0.086, 0.154],\n",
       "       [0.086, 0.158],\n",
       "       [0.082, 0.158],\n",
       "       [0.082, 0.154],\n",
       "       [0.082, 0.158],\n",
       "       [0.086, 0.158],\n",
       "       [0.086, 0.154],\n",
       "       [0.09 , 0.154],\n",
       "       [0.086, 0.154],\n",
       "       [0.082, 0.154],\n",
       "       [0.082, 0.158],\n",
       "       [0.078, 0.158],\n",
       "       [0.078, 0.154],\n",
       "       [0.074, 0.154],\n",
       "       [0.074, 0.15 ],\n",
       "       [0.074, 0.146],\n",
       "       [0.07 , 0.146],\n",
       "       [0.074, 0.146],\n",
       "       [0.074, 0.15 ],\n",
       "       [0.078, 0.15 ],\n",
       "       [0.078, 0.154],\n",
       "       [0.078, 0.158],\n",
       "       [0.078, 0.154],\n",
       "       [0.078, 0.15 ],\n",
       "       [0.082, 0.15 ],\n",
       "       [0.082, 0.154],\n",
       "       [0.082, 0.158],\n",
       "       [0.078, 0.158],\n",
       "       [0.074, 0.158],\n",
       "       [0.07 , 0.158],\n",
       "       [0.066, 0.158],\n",
       "       [0.062, 0.158],\n",
       "       [0.058, 0.158],\n",
       "       [0.054, 0.158],\n",
       "       [0.05 , 0.158],\n",
       "       [0.046, 0.158],\n",
       "       [0.05 , 0.158],\n",
       "       [0.046, 0.158],\n",
       "       [0.046, 0.162],\n",
       "       [0.042, 0.162],\n",
       "       [0.042, 0.158],\n",
       "       [0.046, 0.158],\n",
       "       [0.046, 0.162],\n",
       "       [0.046, 0.166],\n",
       "       [0.046, 0.162],\n",
       "       [0.042, 0.162],\n",
       "       [0.038, 0.162],\n",
       "       [0.038, 0.158],\n",
       "       [0.042, 0.158],\n",
       "       [0.042, 0.154],\n",
       "       [0.046, 0.154],\n",
       "       [0.05 , 0.154],\n",
       "       [0.05 , 0.15 ],\n",
       "       [0.046, 0.15 ],\n",
       "       [0.046, 0.154],\n",
       "       [0.046, 0.158],\n",
       "       [0.046, 0.154],\n",
       "       [0.042, 0.154],\n",
       "       [0.038, 0.154],\n",
       "       [0.038, 0.158],\n",
       "       [0.034, 0.158],\n",
       "       [0.03 , 0.158],\n",
       "       [0.03 , 0.154],\n",
       "       [0.034, 0.154],\n",
       "       [0.034, 0.15 ],\n",
       "       [0.034, 0.146],\n",
       "       [0.038, 0.146],\n",
       "       [0.038, 0.142],\n",
       "       [0.034, 0.142],\n",
       "       [0.03 , 0.142],\n",
       "       [0.034, 0.142],\n",
       "       [0.034, 0.138],\n",
       "       [0.034, 0.142],\n",
       "       [0.03 , 0.142],\n",
       "       [0.03 , 0.138],\n",
       "       [0.03 , 0.134],\n",
       "       [0.03 , 0.138],\n",
       "       [0.026, 0.138],\n",
       "       [0.03 , 0.138],\n",
       "       [0.03 , 0.134],\n",
       "       [0.03 , 0.138],\n",
       "       [0.03 , 0.142],\n",
       "       [0.03 , 0.146],\n",
       "       [0.026, 0.146],\n",
       "       [0.022, 0.146],\n",
       "       [0.022, 0.15 ],\n",
       "       [0.018, 0.15 ],\n",
       "       [0.014, 0.15 ],\n",
       "       [0.014, 0.146],\n",
       "       [0.014, 0.15 ],\n",
       "       [0.018, 0.15 ],\n",
       "       [0.022, 0.15 ],\n",
       "       [0.026, 0.15 ],\n",
       "       [0.026, 0.154],\n",
       "       [0.026, 0.158],\n",
       "       [0.026, 0.162],\n",
       "       [0.026, 0.166],\n",
       "       [0.03 , 0.166],\n",
       "       [0.034, 0.166],\n",
       "       [0.034, 0.162],\n",
       "       [0.03 , 0.162],\n",
       "       [0.03 , 0.166],\n",
       "       [0.03 , 0.17 ],\n",
       "       [0.03 , 0.174],\n",
       "       [0.026, 0.174],\n",
       "       [0.026, 0.178],\n",
       "       [0.022, 0.178],\n",
       "       [0.018, 0.178],\n",
       "       [0.022, 0.178],\n",
       "       [0.022, 0.174],\n",
       "       [0.022, 0.178],\n",
       "       [0.026, 0.178],\n",
       "       [0.026, 0.182],\n",
       "       [0.026, 0.186],\n",
       "       [0.022, 0.186],\n",
       "       [0.022, 0.182],\n",
       "       [0.026, 0.182],\n",
       "       [0.022, 0.182],\n",
       "       [0.022, 0.178],\n",
       "       [0.018, 0.178],\n",
       "       [0.018, 0.182],\n",
       "       [0.018, 0.186],\n",
       "       [0.022, 0.186],\n",
       "       [0.018, 0.186],\n",
       "       [0.022, 0.186],\n",
       "       [0.022, 0.182],\n",
       "       [0.026, 0.182],\n",
       "       [0.03 , 0.182],\n",
       "       [0.03 , 0.178],\n",
       "       [0.034, 0.178],\n",
       "       [0.034, 0.182],\n",
       "       [0.03 , 0.182],\n",
       "       [0.03 , 0.178],\n",
       "       [0.03 , 0.182],\n",
       "       [0.034, 0.182],\n",
       "       [0.038, 0.182],\n",
       "       [0.042, 0.182],\n",
       "       [0.046, 0.182],\n",
       "       [0.046, 0.178],\n",
       "       [0.046, 0.182],\n",
       "       [0.046, 0.178],\n",
       "       [0.05 , 0.178],\n",
       "       [0.05 , 0.174],\n",
       "       [0.054, 0.174],\n",
       "       [0.058, 0.174],\n",
       "       [0.058, 0.178],\n",
       "       [0.058, 0.182],\n",
       "       [0.058, 0.178],\n",
       "       [0.054, 0.178],\n",
       "       [0.058, 0.178],\n",
       "       [0.058, 0.182],\n",
       "       [0.054, 0.182],\n",
       "       [0.054, 0.186],\n",
       "       [0.05 , 0.186],\n",
       "       [0.046, 0.186],\n",
       "       [0.046, 0.19 ],\n",
       "       [0.046, 0.194],\n",
       "       [0.046, 0.19 ],\n",
       "       [0.046, 0.194],\n",
       "       [0.046, 0.198],\n",
       "       [0.05 , 0.198],\n",
       "       [0.05 , 0.194],\n",
       "       [0.05 , 0.19 ],\n",
       "       [0.046, 0.19 ],\n",
       "       [0.042, 0.19 ],\n",
       "       [0.042, 0.186],\n",
       "       [0.042, 0.182],\n",
       "       [0.038, 0.182],\n",
       "       [0.034, 0.182],\n",
       "       [0.034, 0.186],\n",
       "       [0.034, 0.19 ],\n",
       "       [0.038, 0.19 ],\n",
       "       [0.034, 0.19 ],\n",
       "       [0.034, 0.194],\n",
       "       [0.03 , 0.194],\n",
       "       [0.03 , 0.19 ],\n",
       "       [0.026, 0.19 ],\n",
       "       [0.03 , 0.19 ],\n",
       "       [0.03 , 0.194],\n",
       "       [0.034, 0.194],\n",
       "       [0.034, 0.19 ],\n",
       "       [0.034, 0.186],\n",
       "       [0.034, 0.19 ],\n",
       "       [0.03 , 0.19 ],\n",
       "       [0.03 , 0.194],\n",
       "       [0.034, 0.194],\n",
       "       [0.038, 0.194],\n",
       "       [0.034, 0.194],\n",
       "       [0.038, 0.194],\n",
       "       [0.038, 0.19 ],\n",
       "       [0.038, 0.194],\n",
       "       [0.038, 0.198],\n",
       "       [0.034, 0.198],\n",
       "       [0.034, 0.202],\n",
       "       [0.038, 0.202],\n",
       "       [0.042, 0.202],\n",
       "       [0.042, 0.206],\n",
       "       [0.042, 0.21 ],\n",
       "       [0.042, 0.206],\n",
       "       [0.042, 0.21 ],\n",
       "       [0.046, 0.21 ],\n",
       "       [0.046, 0.206],\n",
       "       [0.046, 0.21 ],\n",
       "       [0.046, 0.214],\n",
       "       [0.046, 0.218],\n",
       "       [0.042, 0.218],\n",
       "       [0.042, 0.222],\n",
       "       [0.042, 0.226],\n",
       "       [0.046, 0.226],\n",
       "       [0.042, 0.226],\n",
       "       [0.038, 0.226],\n",
       "       [0.038, 0.23 ],\n",
       "       [0.038, 0.234],\n",
       "       [0.034, 0.234],\n",
       "       [0.038, 0.234],\n",
       "       [0.042, 0.234],\n",
       "       [0.038, 0.234],\n",
       "       [0.034, 0.234],\n",
       "       [0.03 , 0.234],\n",
       "       [0.026, 0.234],\n",
       "       [0.022, 0.234],\n",
       "       [0.018, 0.234],\n",
       "       [0.014, 0.234],\n",
       "       [0.018, 0.234],\n",
       "       [0.018, 0.238],\n",
       "       [0.014, 0.238],\n",
       "       [0.014, 0.234],\n",
       "       [0.014, 0.238],\n",
       "       [0.018, 0.238],\n",
       "       [0.014, 0.238],\n",
       "       [0.018, 0.238],\n",
       "       [0.014, 0.238],\n",
       "       [0.018, 0.238],\n",
       "       [0.018, 0.234],\n",
       "       [0.022, 0.234],\n",
       "       [0.018, 0.234],\n",
       "       [0.018, 0.23 ],\n",
       "       [0.018, 0.234],\n",
       "       [0.022, 0.234],\n",
       "       [0.022, 0.23 ],\n",
       "       [0.026, 0.23 ],\n",
       "       [0.026, 0.226],\n",
       "       [0.026, 0.23 ],\n",
       "       [0.026, 0.226],\n",
       "       [0.022, 0.226],\n",
       "       [0.026, 0.226],\n",
       "       [0.03 , 0.226],\n",
       "       [0.034, 0.226],\n",
       "       [0.034, 0.23 ],\n",
       "       [0.03 , 0.23 ],\n",
       "       [0.03 , 0.226],\n",
       "       [0.026, 0.226],\n",
       "       [0.022, 0.226],\n",
       "       [0.026, 0.226],\n",
       "       [0.03 , 0.226],\n",
       "       [0.026, 0.226],\n",
       "       [0.03 , 0.226],\n",
       "       [0.03 , 0.23 ],\n",
       "       [0.03 , 0.226],\n",
       "       [0.034, 0.226],\n",
       "       [0.038, 0.226],\n",
       "       [0.042, 0.226],\n",
       "       [0.046, 0.226],\n",
       "       [0.046, 0.222],\n",
       "       [0.042, 0.222],\n",
       "       [0.042, 0.226],\n",
       "       [0.042, 0.222],\n",
       "       [0.042, 0.218],\n",
       "       [0.038, 0.218],\n",
       "       [0.038, 0.214],\n",
       "       [0.038, 0.218],\n",
       "       [0.038, 0.214],\n",
       "       [0.042, 0.214],\n",
       "       [0.038, 0.214],\n",
       "       [0.038, 0.218],\n",
       "       [0.038, 0.214],\n",
       "       [0.038, 0.21 ],\n",
       "       [0.038, 0.206],\n",
       "       [0.034, 0.206],\n",
       "       [0.03 , 0.206],\n",
       "       [0.03 , 0.202],\n",
       "       [0.03 , 0.206],\n",
       "       [0.034, 0.206],\n",
       "       [0.034, 0.202],\n",
       "       [0.03 , 0.202],\n",
       "       [0.026, 0.202],\n",
       "       [0.03 , 0.202],\n",
       "       [0.026, 0.202],\n",
       "       [0.026, 0.206],\n",
       "       [0.03 , 0.206],\n",
       "       [0.03 , 0.21 ],\n",
       "       [0.026, 0.21 ],\n",
       "       [0.022, 0.21 ],\n",
       "       [0.022, 0.214],\n",
       "       [0.022, 0.21 ],\n",
       "       [0.022, 0.206],\n",
       "       [0.022, 0.21 ],\n",
       "       [0.018, 0.21 ],\n",
       "       [0.018, 0.206],\n",
       "       [0.014, 0.206],\n",
       "       [0.014, 0.202],\n",
       "       [0.018, 0.202],\n",
       "       [0.018, 0.206],\n",
       "       [0.022, 0.206],\n",
       "       [0.022, 0.21 ],\n",
       "       [0.026, 0.21 ],\n",
       "       [0.022, 0.21 ],\n",
       "       [0.022, 0.206],\n",
       "       [0.022, 0.21 ],\n",
       "       [0.022, 0.206],\n",
       "       [0.018, 0.206],\n",
       "       [0.018, 0.202],\n",
       "       [0.022, 0.202],\n",
       "       [0.018, 0.202],\n",
       "       [0.018, 0.206],\n",
       "       [0.018, 0.202],\n",
       "       [0.018, 0.198],\n",
       "       [0.018, 0.194],\n",
       "       [0.022, 0.194],\n",
       "       [0.026, 0.194],\n",
       "       [0.022, 0.194],\n",
       "       [0.022, 0.19 ],\n",
       "       [0.022, 0.194],\n",
       "       [0.018, 0.194],\n",
       "       [0.014, 0.194],\n",
       "       [0.014, 0.198],\n",
       "       [0.014, 0.202],\n",
       "       [0.014, 0.198],\n",
       "       [0.014, 0.202],\n",
       "       [0.01 , 0.202],\n",
       "       [0.01 , 0.198],\n",
       "       [0.01 , 0.194],\n",
       "       [0.01 , 0.19 ],\n",
       "       [0.014, 0.19 ],\n",
       "       [0.01 , 0.19 ],\n",
       "       [0.006, 0.19 ],\n",
       "       [0.006, 0.186],\n",
       "       [0.01 , 0.186],\n",
       "       [0.01 , 0.182],\n",
       "       [0.014, 0.182],\n",
       "       [0.018, 0.182],\n",
       "       [0.022, 0.182],\n",
       "       [0.026, 0.182],\n",
       "       [0.026, 0.178],\n",
       "       [0.022, 0.178],\n",
       "       [0.018, 0.178],\n",
       "       [0.018, 0.174],\n",
       "       [0.018, 0.17 ],\n",
       "       [0.022, 0.17 ],\n",
       "       [0.022, 0.174],\n",
       "       [0.026, 0.174],\n",
       "       [0.026, 0.17 ],\n",
       "       [0.026, 0.174],\n",
       "       [0.022, 0.174],\n",
       "       [0.026, 0.174],\n",
       "       [0.03 , 0.174],\n",
       "       [0.026, 0.174],\n",
       "       [0.03 , 0.174],\n",
       "       [0.03 , 0.178],\n",
       "       [0.026, 0.178],\n",
       "       [0.03 , 0.178],\n",
       "       [0.03 , 0.174],\n",
       "       [0.026, 0.174],\n",
       "       [0.03 , 0.174],\n",
       "       [0.03 , 0.17 ],\n",
       "       [0.03 , 0.174],\n",
       "       [0.034, 0.174],\n",
       "       [0.034, 0.178],\n",
       "       [0.03 , 0.178],\n",
       "       [0.03 , 0.174],\n",
       "       [0.03 , 0.17 ],\n",
       "       [0.03 , 0.174],\n",
       "       [0.026, 0.174],\n",
       "       [0.022, 0.174],\n",
       "       [0.018, 0.174],\n",
       "       [0.022, 0.174],\n",
       "       [0.022, 0.17 ],\n",
       "       [0.026, 0.17 ],\n",
       "       [0.026, 0.174],\n",
       "       [0.03 , 0.174],\n",
       "       [0.026, 0.174],\n",
       "       [0.03 , 0.174],\n",
       "       [0.03 , 0.17 ]])"
      ]
     },
     "execution_count": 61,
     "metadata": {},
     "output_type": "execute_result"
    },
    {
     "name": "stdout",
     "output_type": "stream",
     "text": [
      "time: 0 ns (started: 2024-03-08 19:34:50 -05:00)\n"
     ]
    }
   ],
   "source": [
    "walkTrajectory_in_mm"
   ]
  },
  {
   "cell_type": "code",
   "execution_count": 87,
   "metadata": {},
   "outputs": [
    {
     "name": "stdout",
     "output_type": "stream",
     "text": [
      "discrete-random-bkg.spe\n"
     ]
    },
    {
     "name": "stderr",
     "output_type": "stream",
     "text": [
      "100%|██████████| 499/499 [00:15<00:00, 31.54it/s]\n",
      "100%|██████████| 499/499 [00:15<00:00, 31.39it/s]\n",
      "100%|██████████| 499/499 [00:16<00:00, 31.15it/s]\n",
      "100%|██████████| 499/499 [00:16<00:00, 30.65it/s]\n",
      "100%|██████████| 499/499 [00:15<00:00, 31.32it/s]\n",
      "100%|██████████| 499/499 [00:15<00:00, 31.58it/s]"
     ]
    },
    {
     "name": "stdout",
     "output_type": "stream",
     "text": [
      "acq finished...\n",
      "time: 1min 51s (started: 2024-03-08 20:48:20 -05:00)\n"
     ]
    },
    {
     "name": "stderr",
     "output_type": "stream",
     "text": [
      "\n"
     ]
    }
   ],
   "source": [
    "# getting background for discrete random walk\n",
    "# one file for all of them\n",
    "bkg_fname = 'discrete-random-bkg.spe'\n",
    "print(bkg_fname)\n",
    "input(\"click acquire on LF for bkg file ...\")\n",
    "single_walk_dictionary = {}\n",
    "trajectory_in_mm  = trajectories_in_mm[0]\n",
    "trajectory_in_int = trajectories_in_int[0]\n",
    "# Bring the stage to the starting position, then send an aux clock pulse and proceed with the rest of the steps\n",
    "commanded_position_in_mm = trajectory_in_mm[0]\n",
    "commanded_position_in_int = tuple(trajectory_in_int[0])\n",
    "for _ in range(6):\n",
    "    x, y = commanded_position_in_mm*1000\n",
    "    stage.move('x', x)\n",
    "    stage.move('y', y)\n",
    "\n",
    "    stage.aux_clock()\n",
    "    for trajectory_index in tqdm(range(1, experiment['num_steps'])):\n",
    "        commanded_position_in_mm = trajectory_in_mm[trajectory_index]\n",
    "        commanded_position_in_int = tuple(trajectory_in_int[trajectory_index])\n",
    "        # command the stage to move to commanded_position_in_mm\n",
    "        x, y = commanded_position_in_mm*1000 #Made these values in um\n",
    "        stage.move('x', x)\n",
    "        stage.move('y', y)\n",
    "    stage.aux_clock()\n",
    "    sleep(0.01)\n",
    "stage.aux_clock()\n",
    "stage.aux_clock()\n",
    "stage.aux_clock()\n",
    "print(\"acq finished...\")\n",
    "#sleep(5)"
   ]
  },
  {
   "cell_type": "code",
   "execution_count": 89,
   "metadata": {},
   "outputs": [
    {
     "name": "stdout",
     "output_type": "stream",
     "text": [
      "time: 16 ms (started: 2024-03-08 20:50:26 -05:00)\n"
     ]
    }
   ],
   "source": [
    "stage.aux_clock()"
   ]
  },
  {
   "cell_type": "code",
   "execution_count": 181,
   "metadata": {},
   "outputs": [
    {
     "data": {
      "text/plain": [
       "(149.94277491395033, 150.4959980933824, -0.03570655749575434)"
      ]
     },
     "execution_count": 181,
     "metadata": {},
     "output_type": "execute_result"
    },
    {
     "name": "stdout",
     "output_type": "stream",
     "text": [
      "time: 0 ns (started: 2024-03-12 13:53:59 -04:00)\n"
     ]
    }
   ],
   "source": [
    "stage.qPOS()"
   ]
  },
  {
   "cell_type": "code",
   "execution_count": 182,
   "metadata": {},
   "outputs": [
    {
     "name": "stdout",
     "output_type": "stream",
     "text": [
      "Looking at region 30 for a bounded random walk\n",
      "Multi-axis waveform SET.\n",
      "Multi-axis waveform triggered and running...\n",
      "Multi-axis waveform SET.\n",
      "Multi-axis waveform triggered and running...\n",
      "Multi-axis waveform SET.\n",
      "Multi-axis waveform triggered and running...\n",
      "time: 1min 7s (started: 2024-03-12 13:55:58 -04:00)\n"
     ]
    }
   ],
   "source": [
    "#Bounded Random Walks (Larger Bounds) with Readout \n",
    "\n",
    "# Step size changed to 4 um (20*2 = pixel size in 64x64 image, 40/10 = step size)\n",
    "regions = [30]\n",
    "num_rando_walks = 3\n",
    "num_rando_points = 1500\n",
    "rando_trajectory_directory = {}\n",
    "the_experiments = {}\n",
    "for region in regions:\n",
    "    input(\"move micrometer to region %s lp/mm\" % region)\n",
    "    for rando_type in ['bounded']:\n",
    "        print(\"Looking at region %d for a %s random walk\" % (region, rando_type))\n",
    "        experiment = {'num_random_walks': num_rando_walks,\n",
    "                    'step_size_in_um': 4 ,\n",
    "                    'xy_origin_in_mm': (.15, .15),\n",
    "                    'num_steps': num_rando_points,\n",
    "                    'data': [],\n",
    "                    'walk_steps': [],\n",
    "                    'walk_strings': [],\n",
    "                    'walk_trajectories_in_int': [],\n",
    "                    'walk_trajectories_in_mm': [],\n",
    "                    'walk_kind': rando_type,\n",
    "                    'walk_bound': 8}\n",
    "        for i in range(experiment['num_random_walks']):\n",
    "            while True:\n",
    "                walkSteps, walkString, walkTrajectory_in_mm, walkTrajectory_in_steps = rando_wiggle(experiment['step_size_in_um'],\n",
    "                                                                    experiment['xy_origin_in_mm'],\n",
    "                                                                    experiment['num_steps'], bound_range=experiment['walk_bound'], kind=experiment['walk_kind'])\n",
    "                if np.max(walkTrajectory_in_mm) < 0.3*0.95 and np.min(walkTrajectory_in_mm) > 0.3*0.05:\n",
    "                    break\n",
    "            if rando_type == 'bounded':\n",
    "                rando_trajectory_directory[i] = (walkSteps, walkString, walkTrajectory_in_mm, walkTrajectory_in_steps)\n",
    "            experiment['walk_steps'].append(walkSteps)\n",
    "            experiment['walk_strings'].append(walkString)\n",
    "            experiment['walk_trajectories_in_mm'].append(walkTrajectory_in_mm)\n",
    "            experiment['walk_trajectories_in_int'].append(walkTrajectory_in_steps)\n",
    "        experiment_fname = 'bounded-continuous-%d-%s.pkl' % (region, rando_type)\n",
    "        pickle.dump(experiment, open(experiment_fname, 'wb'))\n",
    "        the_experiments[(region, rando_type)] = experiment\n",
    "        #Name the file that holds the integer trajectories \n",
    "        with open('12MAR2024_walk_trajectories-%d-%s.py' % (region, rando_type),'w') as file:\n",
    "            file.write('coords='+str(list(map(lambda x: x.tolist(), np.array(experiment['walk_trajectories_in_int'])))))\n",
    "        trajectories_in_mm  = experiment['walk_trajectories_in_mm']\n",
    "        trajectories_in_int = experiment['walk_trajectories_in_int']\n",
    "\n",
    "        for i in range(experiment['num_random_walks']):\n",
    "            fname = 'bounded-continous-%d-%d' % (region, i)\n",
    "            lf.set_filename(fname, timetag = False)\n",
    "            input(\"click Acquire in LF ...\")\n",
    "            walkTrajectory_in_mm = trajectories_in_mm[i]\n",
    "            waveformx = walkTrajectory_in_mm[:,0] * 1000\n",
    "            waveformy = walkTrajectory_in_mm[:,1] * 1000\n",
    "            waveformz = [0]*num_rando_points\n",
    "            stage.move('x', waveformx[0])\n",
    "            stage.move('y', waveformy[0])\n",
    "            stage.setup_wfma(waveformx, waveformy, waveformz, npoints = num_rando_points, dwell_time=6, iterations=1)\n",
    "            x,y,z = stage.trigger_read_wfma(waveformx, waveformy, waveformz, npoints = num_rando_points)\n",
    "            fname1 = 'continuous-random-bounded-%d-%d-x.pkl' % (region, i)\n",
    "            fname2 = 'continuous-random-bounded-%d-%d-y.pkl' % (region, i)\n",
    "            \n",
    "            pickle.dump(x, open(fname1,'wb'))\n",
    "            pickle.dump(y, open(fname2,'wb'))\n",
    "            \n",
    "            sleep(5)"
   ]
  },
  {
   "cell_type": "code",
   "execution_count": 186,
   "metadata": {},
   "outputs": [
    {
     "data": {
      "text/plain": [
       "[<matplotlib.lines.Line2D at 0x21d1be3af40>]"
      ]
     },
     "execution_count": 186,
     "metadata": {},
     "output_type": "execute_result"
    },
    {
     "data": {
      "image/png": "[encoded data removed]",
      "text/plain": [
       "<Figure size 432x288 with 1 Axes>"
      ]
     },
     "metadata": {
      "needs_background": "light"
     },
     "output_type": "display_data"
    },
    {
     "name": "stdout",
     "output_type": "stream",
     "text": [
      "time: 172 ms (started: 2024-03-12 14:09:35 -04:00)\n"
     ]
    }
   ],
   "source": [
    "plt.plot(x,y)\n"
   ]
  },
  {
   "cell_type": "code",
   "execution_count": 173,
   "metadata": {},
   "outputs": [
    {
     "name": "stdout",
     "output_type": "stream",
     "text": [
      "continuous-random-bkg.spe\n"
     ]
    },
    {
     "name": "stdout",
     "output_type": "stream",
     "text": [
      "Multi-axis waveform SET.\n",
      "Multi-axis waveform triggered and running...\n",
      "Multi-axis waveform SET.\n",
      "Multi-axis waveform triggered and running...\n",
      "Multi-axis waveform SET.\n",
      "Multi-axis waveform triggered and running...\n",
      "Multi-axis waveform SET.\n",
      "Multi-axis waveform triggered and running...\n",
      "Multi-axis waveform SET.\n",
      "Multi-axis waveform triggered and running...\n",
      "Multi-axis waveform SET.\n",
      "Multi-axis waveform triggered and running...\n",
      "time: 10.8 s (started: 2024-03-12 12:40:31 -04:00)\n"
     ]
    }
   ],
   "source": [
    "#Aquire Background \n",
    "\n",
    "#bkg_fname = 'continuous-random-bkg.spe'\n",
    "bkg_fname = 'continuous-random-bounded-bkg.spe'\n",
    "print(bkg_fname)\n",
    "input(\"click Acquire in LF for bacground file ...\")\n",
    "walkSteps, walkString, walkTrajectory_in_mm, walkTrajectory_in_steps = rando_trajectory_directory[0]\n",
    "waveformx = walkTrajectory_in_mm[:,0] * 1000\n",
    "waveformy = walkTrajectory_in_mm[:,1] * 1000\n",
    "waveformz = [0]*num_rando_points\n",
    "for _ in range(6):\n",
    "    stage.move('x', waveformx[0])\n",
    "    stage.move('y', waveformy[0])\n",
    "    stage.setup_wfma(waveformx, waveformy, waveformz, npoints = num_rando_points, dwell_time=6, iterations=1)\n",
    "    x,y,z = stage.trigger_read_wfma(waveformx, waveformy, waveformz, npoints = num_rando_points)\n",
    "    sleep(0.01)"
   ]
  },
  {
   "cell_type": "code",
   "execution_count": 184,
   "metadata": {},
   "outputs": [
    {
     "data": {
      "text/plain": [
       "(149.9561601169591, 150.47156740587627, -0.03958919216800541)"
      ]
     },
     "execution_count": 184,
     "metadata": {},
     "output_type": "execute_result"
    },
    {
     "name": "stdout",
     "output_type": "stream",
     "text": [
      "time: 31 ms (started: 2024-03-12 14:02:59 -04:00)\n"
     ]
    }
   ],
   "source": [
    "#Aquire Ground Truth\n",
    "\n",
    "#Exposure 0: 2969 ms\n",
    "#Exposure 1: 2982 ms\n",
    "#Exposure 2: 2971 ms\n",
    "\n",
    "stage.move('x', 150)\n",
    "stage.move('y', 150)\n",
    "\n",
    "stage.qPOS()\n",
    "\n",
    "#Average: 2974 ms\n",
    "\n",
    "#Check exposure time of aquisitions"
   ]
  },
  {
   "cell_type": "code",
   "execution_count": 185,
   "metadata": {},
   "outputs": [
    {
     "data": {
      "text/plain": [
       "2974.0"
      ]
     },
     "execution_count": 185,
     "metadata": {},
     "output_type": "execute_result"
    },
    {
     "name": "stdout",
     "output_type": "stream",
     "text": [
      "time: 0 ns (started: 2024-03-12 14:03:54 -04:00)\n"
     ]
    }
   ],
   "source": [
    "np.average([2969, 2982, 2971])"
   ]
  },
  {
   "cell_type": "code",
   "execution_count": null,
   "metadata": {},
   "outputs": [],
   "source": [
    "waveformx = [150]*1000\n",
    "waveformy = [150]*1000\n",
    "waveformz = [0]*1000\n",
    "\n",
    "waveformx = walkTrajectory_in_mm[:,0] * 1000\n",
    "waveformy = walkTrajectory_in_mm[:,1] * 1000\n",
    "waveformz = [0]*500\n",
    "\n",
    "#stage.aux_clock()\n",
    "stage.setup_wfma(waveformx, waveformy, waveformz, npoints=500, dwell_time=6,iterations=1)\n",
    "x,y,z = stage.trigger_read_wfma(waveformx, waveformy, waveformz, npoints=500)"
   ]
  },
  {
   "cell_type": "code",
   "execution_count": 305,
   "metadata": {},
   "outputs": [
    {
     "data": {
      "image/png": "[encoded data removed]",
      "text/plain": [
       "<Figure size 432x288 with 1 Axes>"
      ]
     },
     "metadata": {
      "needs_background": "light"
     },
     "output_type": "display_data"
    },
    {
     "name": "stdout",
     "output_type": "stream",
     "text": [
      "time: 281 ms (started: 2024-03-14 16:31:25 -04:00)\n"
     ]
    }
   ],
   "source": [
    "f1 = 0.4\n",
    "f2 = 1.1\n",
    "num_points = 1500\n",
    "theta = np.linspace(0, 3*np.pi * f2/f1 * 1.5, num_points)\n",
    "x_liss = 30*np.sin(f1 * theta) + 150\n",
    "y_liss = 30*np.sin(f2 * theta) + 150\n",
    "plt.figure()\n",
    "plt.plot(x_liss,y_liss)\n",
    "plt.show()"
   ]
  },
  {
   "cell_type": "code",
   "execution_count": 306,
   "metadata": {},
   "outputs": [
    {
     "data": {
      "text/plain": [
       "2.75"
      ]
     },
     "execution_count": 306,
     "metadata": {},
     "output_type": "execute_result"
    },
    {
     "name": "stdout",
     "output_type": "stream",
     "text": [
      "time: 125 ms (started: 2024-03-14 16:31:51 -04:00)\n"
     ]
    }
   ],
   "source": [
    "1.1/0.4"
   ]
  },
  {
   "cell_type": "code",
   "execution_count": 281,
   "metadata": {},
   "outputs": [
    {
     "data": {
      "image/png": "[encoded data removed]",
      "text/plain": [
       "<Figure size 432x288 with 1 Axes>"
      ]
     },
     "metadata": {
      "needs_background": "light"
     },
     "output_type": "display_data"
    },
    {
     "name": "stdout",
     "output_type": "stream",
     "text": [
      "time: 250 ms (started: 2024-03-14 16:17:22 -04:00)\n"
     ]
    }
   ],
   "source": [
    "f3 = 1\n",
    "f4 = 1.7\n",
    "num_points = 1500\n",
    "theta = np.linspace(0, 3*np.pi * f4/f3 * 1.5, num_points)\n",
    "x_liss = 60*np.sin(f3 * theta) + 150\n",
    "y_liss = 60*np.sin(f4 * theta) + 150\n",
    "plt.figure()\n",
    "plt.plot(x_liss,y_liss, marker='o')\n",
    "plt.show()"
   ]
  },
  {
   "cell_type": "code",
   "execution_count": 324,
   "metadata": {},
   "outputs": [
    {
     "name": "stdout",
     "output_type": "stream",
     "text": [
      "time: 141 ms (started: 2024-03-15 16:34:05 -04:00)\n"
     ]
    }
   ],
   "source": [
    "from PrincetonInstruments.LightField.AddIns import *"
   ]
  },
  {
   "cell_type": "code",
   "execution_count": 323,
   "metadata": {},
   "outputs": [
    {
     "data": {
      "text/plain": [
       "PrincetonInstruments.LightField.AddIns.CameraSettings"
      ]
     },
     "execution_count": 323,
     "metadata": {},
     "output_type": "execute_result"
    },
    {
     "name": "stdout",
     "output_type": "stream",
     "text": [
      "time: 109 ms (started: 2024-03-15 16:33:56 -04:00)\n"
     ]
    }
   ],
   "source": [
    "CameraSettings"
   ]
  },
  {
   "cell_type": "code",
   "execution_count": 319,
   "metadata": {},
   "outputs": [
    {
     "name": "stdout",
     "output_type": "stream",
     "text": [
      "time: 94 ms (started: 2024-03-15 16:33:01 -04:00)\n"
     ]
    }
   ],
   "source": [
    "trigger_responses = {\n",
    "    'Readout Per Trigger': 2,\n",
    "    'No Response': 1,\n",
    "    'Start On Single Trigger': 5,\n",
    "    'Shift Per Trigger': 3,\n",
    "    'Expose During Trigger Pulse': 4}"
   ]
  },
  {
   "cell_type": "code",
   "execution_count": null,
   "metadata": {},
   "outputs": [],
   "source": [
    "lf.set_trigger_response('Expose During Trigger Pulse')"
   ]
  },
  {
   "cell_type": "code",
   "execution_count": 326,
   "metadata": {},
   "outputs": [
    {
     "name": "stdout",
     "output_type": "stream",
     "text": [
      "time: 7.22 s (started: 2024-03-15 16:37:45 -04:00)\n"
     ]
    }
   ],
   "source": [
    "lf.acquire()"
   ]
  },
  {
   "cell_type": "code",
   "execution_count": null,
   "metadata": {},
   "outputs": [],
   "source": [
    "lf.background_subraction_off()"
   ]
  },
  {
   "cell_type": "code",
   "execution_count": null,
   "metadata": {},
   "outputs": [],
   "source": [
    "lf.background_subraction_on()"
   ]
  },
  {
   "cell_type": "code",
   "execution_count": 308,
   "metadata": {},
   "outputs": [
    {
     "data": {
      "image/png": "[encoded data removed]",
      "text/plain": [
       "<Figure size 432x288 with 1 Axes>"
      ]
     },
     "metadata": {
      "needs_background": "light"
     },
     "output_type": "display_data"
    },
    {
     "name": "stdout",
     "output_type": "stream",
     "text": [
      "time: 328 ms (started: 2024-03-14 16:53:17 -04:00)\n"
     ]
    }
   ],
   "source": [
    "f3 = 0.4\n",
    "f4 = 1.1\n",
    "num_points = 1500\n",
    "theta = np.linspace(0, 3*np.pi * f2/f1 * 1.5, num_points)\n",
    "x_liss = 30*np.sin(f1 * theta) + 150\n",
    "y_liss = 30*np.sin(f2 * theta) + 150\n",
    "plt.figure()\n",
    "plt.plot(x_liss,y_liss, marker='o')\n",
    "plt.show()"
   ]
  },
  {
   "cell_type": "code",
   "execution_count": 309,
   "metadata": {},
   "outputs": [
    {
     "data": {
      "text/plain": [
       "(149.9407184280201, 150.47063053612763, -0.03688521486727163)"
      ]
     },
     "execution_count": 309,
     "metadata": {},
     "output_type": "execute_result"
    },
    {
     "name": "stdout",
     "output_type": "stream",
     "text": [
      "time: 109 ms (started: 2024-03-14 16:53:41 -04:00)\n"
     ]
    }
   ],
   "source": [
    "stage.qPOS()"
   ]
  },
  {
   "cell_type": "code",
   "execution_count": 310,
   "metadata": {},
   "outputs": [
    {
     "data": {
      "text/plain": [
       "2.75"
      ]
     },
     "execution_count": 310,
     "metadata": {},
     "output_type": "execute_result"
    },
    {
     "name": "stdout",
     "output_type": "stream",
     "text": [
      "time: 94 ms (started: 2024-03-14 16:54:09 -04:00)\n"
     ]
    }
   ],
   "source": [
    "f_ratio = f4/f3\n",
    "f_ratio"
   ]
  },
  {
   "cell_type": "code",
   "execution_count": 311,
   "metadata": {},
   "outputs": [
    {
     "name": "stdout",
     "output_type": "stream",
     "text": [
      "Multi-axis waveform SET.\n",
      "Multi-axis waveform triggered and running...\n"
     ]
    },
    {
     "data": {
      "image/png": "[encoded data removed]",
      "text/plain": [
       "<Figure size 432x288 with 1 Axes>"
      ]
     },
     "metadata": {
      "needs_background": "light"
     },
     "output_type": "display_data"
    },
    {
     "name": "stdout",
     "output_type": "stream",
     "text": [
      "time: 3.61 s (started: 2024-03-14 16:54:54 -04:00)\n"
     ]
    }
   ],
   "source": [
    "waveformx = x_liss\n",
    "waveformy = y_liss\n",
    "waveformz = [0]*len(x_liss)\n",
    "runs_x = []\n",
    "runs_y = []\n",
    "\n",
    "stage.move('x', waveformx[0])\n",
    "stage.move('y', waveformy[0])\n",
    "stage.setup_wfma(waveformx, waveformy, waveformz, npoints=1500, dwell_time=6,iterations=1)\n",
    "x,y,z = stage.trigger_read_wfma(waveformx, waveformy, waveformz, npoints=1500)\n",
    "runs_x = x\n",
    "runs_y = y\n",
    "\n",
    "region = 30\n",
    "f_ratio = f4/f3\n",
    "fname1 = 'vibration-%d-%.1f-x.pkl' % (region, f_ratio)\n",
    "fname2 = 'vibration-%d-%.1f-y.pkl' % (region, f_ratio)\n",
    "\n",
    "pickle.dump(x, open(fname1,'wb'))\n",
    "pickle.dump(y, open(fname2,'wb'))\n",
    "\n",
    "plt.plot(runs_x,runs_y,label='actual')\n",
    "plt.plot(x_liss,y_liss,'--', label='commanded')\n",
    "plt.legend()\n",
    "plt.xlabel('x/um')\n",
    "plt.ylabel('y/um')\n",
    "plt.show()\n",
    "\n"
   ]
  },
  {
   "cell_type": "code",
   "execution_count": 318,
   "metadata": {},
   "outputs": [
    {
     "data": {
      "text/plain": [
       "'vibration-30-2.75-x.pkl'"
      ]
     },
     "execution_count": 318,
     "metadata": {},
     "output_type": "execute_result"
    },
    {
     "name": "stdout",
     "output_type": "stream",
     "text": [
      "time: 109 ms (started: 2024-03-14 16:58:41 -04:00)\n"
     ]
    }
   ],
   "source": [
    "'vibration-%d-%.2f-x.pkl' % (region, f_ratio)"
   ]
  },
  {
   "cell_type": "code",
   "execution_count": 312,
   "metadata": {},
   "outputs": [
    {
     "name": "stdout",
     "output_type": "stream",
     "text": [
      "Multi-axis waveform SET.\n",
      "Multi-axis waveform triggered and running...\n",
      "Multi-axis waveform SET.\n",
      "Multi-axis waveform triggered and running...\n",
      "Multi-axis waveform SET.\n",
      "Multi-axis waveform triggered and running...\n",
      "Multi-axis waveform SET.\n",
      "Multi-axis waveform triggered and running...\n",
      "Multi-axis waveform SET.\n",
      "Multi-axis waveform triggered and running...\n",
      "Multi-axis waveform SET.\n",
      "Multi-axis waveform triggered and running...\n",
      "time: 20 s (started: 2024-03-14 16:55:31 -04:00)\n"
     ]
    }
   ],
   "source": [
    "#Vibration Background Acquisition\n",
    "\n",
    "waveformx = x_liss\n",
    "waveformy = y_liss\n",
    "waveformz = [0]*len(x_liss)\n",
    "\n",
    "for _ in range(6):\n",
    "    stage.move('x', waveformx[0])\n",
    "    stage.move('y', waveformy[0])\n",
    "    stage.setup_wfma(waveformx, waveformy, waveformz, npoints=1500, dwell_time=6,iterations=1)\n",
    "    x,y,z = stage.trigger_read_wfma(waveformx, waveformy, waveformz, npoints=1500)\n",
    "    sleep(0.1)"
   ]
  },
  {
   "cell_type": "code",
   "execution_count": 314,
   "metadata": {},
   "outputs": [
    {
     "data": {
      "text/plain": [
       "(149.9476816180636, 150.48140453950037, -0.031477254522615426)"
      ]
     },
     "execution_count": 314,
     "metadata": {},
     "output_type": "execute_result"
    },
    {
     "name": "stdout",
     "output_type": "stream",
     "text": [
      "time: 125 ms (started: 2024-03-14 16:55:57 -04:00)\n"
     ]
    }
   ],
   "source": [
    "#Check Exposure Time for Vibration and set as exposure time for GT \n",
    "\n",
    "stage.move('x', 150)\n",
    "stage.move('y', 150)\n",
    "\n",
    "stage.qPOS()\n",
    "\n",
    "#2986 ms\n",
    "#3000 ms\n",
    "#2979 ms"
   ]
  },
  {
   "cell_type": "code",
   "execution_count": null,
   "metadata": {},
   "outputs": [],
   "source": []
  }
 ],
 "metadata": {
  "kernelspec": {
   "display_name": "Python 3",
   "language": "python",
   "name": "python3"
  },
  "language_info": {
   "codemirror_mode": {
    "name": "ipython",
    "version": 3
   },
   "file_extension": ".py",
   "mimetype": "text/x-python",
   "name": "python",
   "nbconvert_exporter": "python",
   "pygments_lexer": "ipython3",
   "version": "3.8.5"
  },
  "orig_nbformat": 4
 },
 "nbformat": 4,
 "nbformat_minor": 2
}
