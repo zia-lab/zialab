{
 "cells": [
  {
   "attachments": {},
   "cell_type": "markdown",
   "metadata": {},
   "source": [
    "# #Wiggly Cam"
   ]
  },
  {
   "cell_type": "code",
   "execution_count": 3,
   "metadata": {},
   "outputs": [
    {
     "name": "stdout",
     "output_type": "stream",
     "text": [
      "time: 625 ms (started: 2023-05-03 08:14:39 -04:00)\n"
     ]
    }
   ],
   "source": [
    "import sys, os\n",
    "from time import sleep, time\n",
    "import numpy as np\n",
    "codebase_dir = 'D:/ZiaLab/Codebase/'\n",
    "sys.path.append(codebase_dir)\n",
    "%reload_ext autoreload\n",
    "%autoreload 2\n",
    "%load_ext autotime\n",
    "from matplotlib import pyplot as plt\n",
    "import matplotlib.colors as colors\n",
    "import matplotlib.gridspec as gridspec\n",
    "from zialab.instruments.pipython import GCSDevice\n",
    "from zialab.instruments.pipython import pitools\n",
    "import cv2 as cv\n",
    "from zialab.misc.sugar import bell\n",
    "from zialab.softwarecontrol import spe2py"
   ]
  },
  {
   "cell_type": "code",
   "execution_count": 28,
   "metadata": {},
   "outputs": [
    {
     "name": "stdout",
     "output_type": "stream",
     "text": [
      "time: 0 ns (started: 2023-05-03 08:31:44 -04:00)\n"
     ]
    }
   ],
   "source": [
    "from zialab.softwarecontrol.spe_loader import load_from_files"
   ]
  },
  {
   "cell_type": "markdown",
   "metadata": {},
   "source": [
    "## ##Functions"
   ]
  },
  {
   "cell_type": "code",
   "execution_count": 85,
   "metadata": {},
   "outputs": [
    {
     "name": "stdout",
     "output_type": "stream",
     "text": [
      "time: 0 ns (started: 2023-05-03 09:48:37 -04:00)\n"
     ]
    }
   ],
   "source": [
    "def move_and_wait(stage, axis, position):\n",
    "    '''\n",
    "    Move to the commanded position and wait until it's reached.\n",
    "    Parameters\n",
    "    ----------\n",
    "    axis  (str): 'x' or 'y'\n",
    "    position (float): position in mm\n",
    "    Returns\n",
    "    -------\n",
    "    None\n",
    "    '''\n",
    "    AXES_RANGE = 40.\n",
    "    assert axis in ['x','y']\n",
    "    axis = {'x':'1','y':'2'}[axis]\n",
    "    assert type(position) in [int,float,np.float64, np.float32, np.int32, np.int64], \"wacky position\"\n",
    "    assert abs(position) < AXES_RANGE, \"position out of range\"\n",
    "    stage.MOV(axis,position)\n",
    "    while not stage.qONT()[axis]:\n",
    "        sleep(0.01)\n",
    "    return None"
   ]
  },
  {
   "attachments": {},
   "cell_type": "markdown",
   "metadata": {},
   "source": [
    "## ##Initialize Instruments"
   ]
  },
  {
   "cell_type": "markdown",
   "metadata": {},
   "source": [
    "### ###Stage"
   ]
  },
  {
   "cell_type": "code",
   "execution_count": 92,
   "metadata": {},
   "outputs": [
    {
     "name": "stdout",
     "output_type": "stream",
     "text": [
      "time: 4.16 s (started: 2023-05-03 10:45:18 -04:00)\n"
     ]
    }
   ],
   "source": [
    "# run this only once\n",
    "stage = GCSDevice('C-867')\n",
    "stage.InterfaceSetupDlg()\n",
    "stage.qIDN()\n",
    "# turn on the servo motors\n",
    "stage.SVO('2',True)\n",
    "stage.SVO('1',True)\n",
    "# configure data tables\n",
    "stage.DRC(1, '1', 44) # time stamps in ms\n",
    "stage.DRC(2, '1', 1) # motor output\n",
    "stage.DRC(3, '1', 2) # commanded position\n",
    "stage.DRC(4, '1', 73) # actual position\n",
    "stage.RTR(2) # this trigger rate is adequate for the speeds and lenghts i often care about\n"
   ]
  },
  {
   "cell_type": "code",
   "execution_count": 6,
   "metadata": {},
   "outputs": [
    {
     "name": "stdout",
     "output_type": "stream",
     "text": [
      "time: 125 ms (started: 2023-03-29 13:30:01 -04:00)\n"
     ]
    }
   ],
   "source": [
    "# stage.close()"
   ]
  },
  {
   "cell_type": "code",
   "execution_count": 93,
   "metadata": {},
   "outputs": [
    {
     "name": "stdout",
     "output_type": "stream",
     "text": [
      "time: 31 ms (started: 2023-05-03 10:45:28 -04:00)\n"
     ]
    }
   ],
   "source": [
    "# set the speed of both axes\n",
    "vel = 0.1\n",
    "stage.VEL(1,vel)\n",
    "stage.VEL(2,vel)"
   ]
  },
  {
   "cell_type": "code",
   "execution_count": 94,
   "metadata": {},
   "outputs": [
    {
     "name": "stdout",
     "output_type": "stream",
     "text": [
      "V_x = 0.100000 mm/s\n",
      "V_y = 0.100000 mm/s\n",
      "time: 78 ms (started: 2023-05-03 10:45:29 -04:00)\n"
     ]
    }
   ],
   "source": [
    "# querying the speed of both axes\n",
    "print('V_x = %f mm/s' % stage.qVEL(1)[1])\n",
    "print('V_y = %f mm/s' % stage.qVEL(2)[2])"
   ]
  },
  {
   "cell_type": "code",
   "execution_count": 22,
   "metadata": {},
   "outputs": [
    {
     "name": "stdout",
     "output_type": "stream",
     "text": [
      "time: 1min 40s (started: 2023-03-15 13:17:03 -04:00)\n"
     ]
    }
   ],
   "source": [
    "# here's an example of moving the stage to x=1mm, y=1mm\n",
    "move_and_wait(stage, 'x', 1)\n",
    "move_and_wait(stage, 'y', 1)"
   ]
  },
  {
   "cell_type": "code",
   "execution_count": 9,
   "metadata": {},
   "outputs": [
    {
     "data": {
      "text/plain": [
       "OrderedDict([(1, -0.1878)])"
      ]
     },
     "execution_count": 9,
     "metadata": {},
     "output_type": "execute_result"
    },
    {
     "name": "stdout",
     "output_type": "stream",
     "text": [
      "time: 31 ms (started: 2023-03-29 13:39:11 -04:00)\n"
     ]
    }
   ],
   "source": [
    "stage.qPOS(1)\n"
   ]
  },
  {
   "cell_type": "code",
   "execution_count": 10,
   "metadata": {},
   "outputs": [
    {
     "data": {
      "text/plain": [
       "OrderedDict([(2, 1.1199)])"
      ]
     },
     "execution_count": 10,
     "metadata": {},
     "output_type": "execute_result"
    },
    {
     "name": "stdout",
     "output_type": "stream",
     "text": [
      "time: 31 ms (started: 2023-03-29 13:39:49 -04:00)\n"
     ]
    }
   ],
   "source": [
    "stage.qPOS(2)"
   ]
  },
  {
   "cell_type": "markdown",
   "metadata": {},
   "source": [
    "### ###Lightfield Instance"
   ]
  },
  {
   "cell_type": "code",
   "execution_count": 137,
   "metadata": {},
   "outputs": [
    {
     "name": "stdout",
     "output_type": "stream",
     "text": [
      "time: 16.7 s (started: 2023-05-03 11:52:53 -04:00)\n"
     ]
    }
   ],
   "source": [
    "from zialab.softwarecontrol import lightfield\n",
    "# from zialab.softwarecontrol import spe2py\n",
    "lf = lightfield.LField()\n",
    "lf_dir = lf.lf_dir\n",
    "lf.pref_naming_settings()"
   ]
  },
  {
   "cell_type": "code",
   "execution_count": 138,
   "metadata": {},
   "outputs": [
    {
     "name": "stdout",
     "output_type": "stream",
     "text": [
      "time: 0 ns (started: 2023-05-03 11:53:45 -04:00)\n"
     ]
    }
   ],
   "source": [
    "# this enforces a naming convention where every filename needs\n",
    "# to be defined intentionally, none of that Automatic for us\n",
    "lf.pref_naming_settings()"
   ]
  },
  {
   "cell_type": "code",
   "execution_count": 140,
   "metadata": {},
   "outputs": [
    {
     "name": "stdout",
     "output_type": "stream",
     "text": [
      "time: 31 ms (started: 2023-05-03 11:54:24 -04:00)\n"
     ]
    }
   ],
   "source": [
    "# given in ms\n",
    "lf.set_exposure(100)"
   ]
  },
  {
   "cell_type": "code",
   "execution_count": 87,
   "metadata": {},
   "outputs": [
    {
     "name": "stdout",
     "output_type": "stream",
     "text": [
      "time: 0 ns (started: 2023-03-15 13:54:50 -04:00)\n"
     ]
    }
   ],
   "source": [
    "# this is how the filename is set\n",
    "# by itself it also adds a timetag to the filename\n",
    "lf.set_filename('wed-testing')"
   ]
  },
  {
   "cell_type": "code",
   "execution_count": 34,
   "metadata": {},
   "outputs": [
    {
     "name": "stdout",
     "output_type": "stream",
     "text": [
      "time: 0 ns (started: 2023-03-15 13:36:10 -04:00)\n"
     ]
    }
   ],
   "source": [
    "# useful to get the latest filename that was created in the directory\n",
    "# where lightfield is saving its data\n",
    "spe = lightfield.get_latest_spe_fname(lf_dir)"
   ]
  },
  {
   "cell_type": "code",
   "execution_count": 88,
   "metadata": {},
   "outputs": [
    {
     "name": "stdout",
     "output_type": "stream",
     "text": [
      "time: 0 ns (started: 2023-03-15 13:56:03 -04:00)\n"
     ]
    }
   ],
   "source": [
    "# here's one example were we load a tif file that was\n",
    "# created together with an spe\n",
    "the_tiff_fname = os.path.join(spe['dir'],spe['fname'].replace('.spe','.tif'))"
   ]
  },
  {
   "cell_type": "code",
   "execution_count": 75,
   "metadata": {},
   "outputs": [
    {
     "name": "stdout",
     "output_type": "stream",
     "text": [
      "time: 0 ns (started: 2023-03-15 13:50:50 -04:00)\n"
     ]
    }
   ],
   "source": [
    "# this loads the image data as a numpy array\n",
    "img = cv.imread(the_tiff_fname, cv.IMREAD_GRAYSCALE)"
   ]
  },
  {
   "cell_type": "code",
   "execution_count": 86,
   "metadata": {},
   "outputs": [
    {
     "data": {
      "text/plain": [
       "<matplotlib.image.AxesImage at 0x192dcdad3a0>"
      ]
     },
     "execution_count": 86,
     "metadata": {},
     "output_type": "execute_result"
    },
    {
     "data": {
      "image/png": "[encoded data removed]",
      "text/plain": [
       "<Figure size 432x288 with 1 Axes>"
      ]
     },
     "metadata": {
      "needs_background": "light"
     },
     "output_type": "display_data"
    },
    {
     "name": "stdout",
     "output_type": "stream",
     "text": [
      "time: 234 ms (started: 2023-03-15 13:52:46 -04:00)\n"
     ]
    }
   ],
   "source": [
    "# here's a simple view of the data that the array contains\n",
    "plt.imshow(img)"
   ]
  },
  {
   "cell_type": "code",
   "execution_count": 6,
   "metadata": {},
   "outputs": [
    {
     "name": "stdout",
     "output_type": "stream",
     "text": [
      "time: 19.8 s (started: 2023-03-15 14:10:41 -04:00)\n"
     ]
    }
   ],
   "source": [
    "# Test of stage and camera \n",
    "\n",
    "#Step 1: Move stage to position x: -0.188 y: 0.22\n",
    "move_and_wait(stage, 'x', -0.188)\n",
    "move_and_wait(stage, 'y', 0.22)\n"
   ]
  },
  {
   "cell_type": "code",
   "execution_count": 7,
   "metadata": {},
   "outputs": [
    {
     "name": "stdout",
     "output_type": "stream",
     "text": [
      "time: 15 ms (started: 2023-03-15 14:11:35 -04:00)\n"
     ]
    }
   ],
   "source": [
    "# Step 2: Change Exposure Time to 1 second\n",
    "lf.set_exposure(1000)"
   ]
  },
  {
   "cell_type": "code",
   "execution_count": 8,
   "metadata": {},
   "outputs": [
    {
     "name": "stdout",
     "output_type": "stream",
     "text": [
      "time: 16 ms (started: 2023-03-15 14:13:49 -04:00)\n"
     ]
    }
   ],
   "source": [
    "#Step 2.5 - Name the image \n",
    "lf.set_filename('gabby_test_3_15')"
   ]
  },
  {
   "cell_type": "code",
   "execution_count": 9,
   "metadata": {},
   "outputs": [
    {
     "name": "stdout",
     "output_type": "stream",
     "text": [
      "time: 2.61 s (started: 2023-03-15 14:15:38 -04:00)\n"
     ]
    }
   ],
   "source": [
    "#Step 3: Acquire an image\n",
    "\n",
    "lf.acquire_and_wait()"
   ]
  },
  {
   "cell_type": "code",
   "execution_count": 10,
   "metadata": {},
   "outputs": [
    {
     "data": {
      "text/plain": [
       "<matplotlib.image.AxesImage at 0x23946029cd0>"
      ]
     },
     "execution_count": 10,
     "metadata": {},
     "output_type": "execute_result"
    },
    {
     "data": {
      "image/png": "[encoded data removed]",
      "text/plain": [
       "<Figure size 432x288 with 1 Axes>"
      ]
     },
     "metadata": {
      "needs_background": "light"
     },
     "output_type": "display_data"
    },
    {
     "name": "stdout",
     "output_type": "stream",
     "text": [
      "time: 328 ms (started: 2023-03-15 14:19:06 -04:00)\n"
     ]
    }
   ],
   "source": [
    "#Step 4: Load the TIF File and Plot Data  \n",
    "spe = lightfield.get_latest_spe_fname(lf_dir)\n",
    "the_tiff_fname = os.path.join(spe['dir'],spe['fname'].replace('.spe','.tif'))\n",
    "img = cv.imread(the_tiff_fname, cv.IMREAD_GRAYSCALE)\n",
    "plt.imshow(img)\n",
    "\n",
    "\n"
   ]
  },
  {
   "cell_type": "markdown",
   "metadata": {},
   "source": [
    "## ##Random Walks"
   ]
  },
  {
   "cell_type": "markdown",
   "metadata": {},
   "source": [
    "### ###Necessary functions"
   ]
  },
  {
   "cell_type": "code",
   "execution_count": 4,
   "metadata": {},
   "outputs": [
    {
     "name": "stdout",
     "output_type": "stream",
     "text": [
      "time: 0 ns (started: 2023-05-03 08:14:44 -04:00)\n"
     ]
    }
   ],
   "source": [
    "from random import choice"
   ]
  },
  {
   "cell_type": "code",
   "execution_count": 5,
   "metadata": {},
   "outputs": [
    {
     "name": "stdout",
     "output_type": "stream",
     "text": [
      "time: 0 ns (started: 2023-05-03 08:14:44 -04:00)\n"
     ]
    }
   ],
   "source": [
    "def rando_wiggle(step_size_in_um, xy_origin_in_mm, num_steps):\n",
    "    '''\n",
    "    Parameters\n",
    "    ----------\n",
    "    step_size_in_um (float)\n",
    "    xy_origin_in_mm (tuple) (x0, y0)\n",
    "    num_steps       (int) : how many regions the random walk has\n",
    "    Returns\n",
    "    -------\n",
    "    walkSteps (np.array), walkString (str), walkTrajectory (np.array)\n",
    "        walkSteps : has the incremental motions in units of the step size\n",
    "        walkString : is a string representation of the incremental motions\n",
    "        walkTrajectory : each row of this array represents the different positions (in mm) that the walk should visit\n",
    "    '''\n",
    "    step_size_in_mm = step_size_in_um/1000\n",
    "    step_choices = [(1,0),(-1,0),(0,1),(0,-1)]\n",
    "    walkSteps = [(0,0)]\n",
    "    walkString = 'O'\n",
    "    for i in range(num_steps-1):\n",
    "        rando_move = choice(step_choices)\n",
    "        if rando_move == (1,0):\n",
    "            walkString+= 'R'\n",
    "        elif rando_move == (0,1):\n",
    "            walkString += 'U'\n",
    "        elif rando_move == (0,-1):\n",
    "            walkString += 'D'\n",
    "        elif rando_move ==  (-1,0):\n",
    "            walkString += 'L'\n",
    "        walkSteps.append(rando_move)\n",
    "    walkSteps = np.array(walkSteps)\n",
    "    walkTrajectory_in_mm = step_size_in_mm*np.cumsum(walkSteps,axis=0)\n",
    "    walkTrajectory_in_mm = np.array(xy_origin_in_mm) + walkTrajectory_in_mm\n",
    "    walkTrajectory_in_steps = np.cumsum(walkSteps,axis=0)\n",
    "    return walkSteps, walkString, walkTrajectory_in_mm, walkTrajectory_in_steps\n"
   ]
  },
  {
   "cell_type": "code",
   "execution_count": 52,
   "metadata": {},
   "outputs": [
    {
     "data": {
      "image/png": "[encoded data removed]",
      "text/plain": [
       "<Figure size 432x288 with 1 Axes>"
      ]
     },
     "metadata": {
      "needs_background": "light"
     },
     "output_type": "display_data"
    },
    {
     "name": "stdout",
     "output_type": "stream",
     "text": [
      "time: 140 ms (started: 2023-03-29 14:07:20 -04:00)\n"
     ]
    }
   ],
   "source": [
    "plt.figure()\n",
    "for trajectory in experiment['walk_trajectories_in_int']:\n",
    "    plt.plot(trajectory[:,0], trajectory[:,1])\n",
    "plt.show()"
   ]
  },
  {
   "cell_type": "code",
   "execution_count": 53,
   "metadata": {},
   "outputs": [
    {
     "data": {
      "image/png": "[encoded data removed]",
      "text/plain": [
       "<Figure size 432x288 with 1 Axes>"
      ]
     },
     "metadata": {
      "needs_background": "light"
     },
     "output_type": "display_data"
    },
    {
     "name": "stdout",
     "output_type": "stream",
     "text": [
      "time: 188 ms (started: 2023-03-29 14:07:20 -04:00)\n"
     ]
    }
   ],
   "source": [
    "plt.figure()\n",
    "for trajectory in experiment['walk_trajectories_in_mm']:\n",
    "    plt.plot(trajectory[:,0], trajectory[:,1])\n",
    "plt.show()"
   ]
  },
  {
   "attachments": {},
   "cell_type": "markdown",
   "metadata": {},
   "source": [
    "### ###Random Walks - March 29th"
   ]
  },
  {
   "cell_type": "code",
   "execution_count": 90,
   "metadata": {},
   "outputs": [
    {
     "name": "stdout",
     "output_type": "stream",
     "text": [
      "time: 0 ns (started: 2023-03-29 14:49:15 -04:00)\n"
     ]
    }
   ],
   "source": [
    "experiment = {'num_random_walks': 10,\n",
    "              'step_size_in_um': 2.6 ,\n",
    "              'xy_origin_in_mm': (-0.1878, 1.1199),\n",
    "              'num_steps': 100,\n",
    "              'data': [],\n",
    "              'walk_steps': [],\n",
    "              'walk_strings': [],\n",
    "              'walk_trajectories_in_int': [],\n",
    "              'walk_trajectories_in_mm': []}\n",
    "for i in range(experiment['num_random_walks']):\n",
    "    walkSteps, walkString, walkTrajectory_in_mm, walkTrajectory_in_steps = rando_wiggle(experiment['step_size_in_um'],\n",
    "                                                         experiment['xy_origin_in_mm'],\n",
    "                                                         experiment['num_steps'])\n",
    "    experiment['walk_steps'].append(walkSteps)\n",
    "    experiment['walk_strings'].append(walkString)\n",
    "    experiment['walk_trajectories_in_mm'].append(walkTrajectory_in_mm)\n",
    "    experiment['walk_trajectories_in_int'].append(walkTrajectory_in_steps)"
   ]
  },
  {
   "cell_type": "code",
   "execution_count": 91,
   "metadata": {},
   "outputs": [
    {
     "name": "stdout",
     "output_type": "stream",
     "text": [
      "time: 21min 44s (started: 2023-03-29 14:49:19 -04:00)\n"
     ]
    }
   ],
   "source": [
    "trajectories_in_mm = experiment['walk_trajectories_in_mm']\n",
    "trajectories_in_int = experiment['walk_trajectories_in_int']\n",
    "for rando_walk_index in range(experiment['num_random_walks']):\n",
    "    single_walk_dictionary = {}\n",
    "    trajectory_in_mm = trajectories_in_mm[rando_walk_index]\n",
    "    trajectory_in_int = trajectories_in_int[rando_walk_index]\n",
    "    for trajectory_index in range(experiment['num_steps']):\n",
    "        commanded_position_in_mm = trajectory_in_mm[trajectory_index]\n",
    "        commanded_position_in_int = tuple(trajectory_in_int[trajectory_index])\n",
    "        # command the stage to move to commanded_position_in_mm\n",
    "        x, y = commanded_position_in_mm\n",
    "        move_and_wait(stage,'x',x)\n",
    "        move_and_wait(stage,'y',y)\n",
    "        # tell lightfield to set the filename to blah\n",
    "        fname = 'rando_wiggle-%d-%d' % (rando_walk_index, trajectory_index)\n",
    "        lf.set_filename(fname)\n",
    "        # take an exposure\n",
    "        lf.acquire_and_wait()\n",
    "        # grab the actual name of spe file\n",
    "        spe_fname = lightfield.get_latest_spe_fname(lf_dir)\n",
    "        the_tiff_fname = os.path.join(spe_fname['fname'].replace('.spe','.tif'))\n",
    "        # create the name of the tiff file\n",
    "        single_walk_dictionary[trajectory_index] = the_tiff_fname\n",
    "    experiment['data'].append(single_walk_dictionary)"
   ]
  },
  {
   "cell_type": "code",
   "execution_count": 2,
   "metadata": {},
   "outputs": [],
   "source": [
    "import pickle"
   ]
  },
  {
   "cell_type": "code",
   "execution_count": 93,
   "metadata": {},
   "outputs": [
    {
     "name": "stdout",
     "output_type": "stream",
     "text": [
      "time: 15 ms (started: 2023-03-29 15:31:14 -04:00)\n"
     ]
    }
   ],
   "source": [
    "# pickle.dump(experiment, open('rando-walks-wigglycam.pkl','wb'))"
   ]
  },
  {
   "cell_type": "code",
   "execution_count": 4,
   "metadata": {},
   "outputs": [],
   "source": [
    "# pickle.load(open('rando-walks-wigglycam.pkl','rb'))"
   ]
  },
  {
   "cell_type": "code",
   "execution_count": 96,
   "metadata": {},
   "outputs": [
    {
     "name": "stdout",
     "output_type": "stream",
     "text": [
      "time: 0 ns (started: 2023-03-29 15:33:03 -04:00)\n"
     ]
    }
   ],
   "source": [
    "imgdir = 'C:/Users/glitteri/Desktop/rando_walks'"
   ]
  },
  {
   "cell_type": "code",
   "execution_count": 113,
   "metadata": {},
   "outputs": [
    {
     "name": "stdout",
     "output_type": "stream",
     "text": [
      "time: 1.44 s (started: 2023-03-29 15:37:21 -04:00)\n"
     ]
    }
   ],
   "source": [
    "for fname in [f for f in os.listdir(imgdir) if f.endswith('.tif') and 'rando' in f]:\n",
    "    fullFname = os.path.join(imgdir,fname)\n",
    "    newName = [None,None,None]\n",
    "    newName = fname.split('-')\n",
    "    newName = ('-'.join(newName[:3]))+'.tif'\n",
    "    newName = os.path.join(imgdir,newName)\n",
    "    os.rename(fullFname, newName)"
   ]
  },
  {
   "cell_type": "code",
   "execution_count": 121,
   "metadata": {},
   "outputs": [
    {
     "name": "stdout",
     "output_type": "stream",
     "text": [
      "time: 63 ms (started: 2023-03-29 15:42:25 -04:00)\n"
     ]
    }
   ],
   "source": [
    "lines = []\n",
    "for idx in range(10):\n",
    "    bigs = ','.join(list(map(str,list(experiment['walk_trajectories_in_int'][idx]))))\n",
    "    lines.append(bigs)"
   ]
  },
  {
   "cell_type": "code",
   "execution_count": 126,
   "metadata": {},
   "outputs": [
    {
     "name": "stdout",
     "output_type": "stream",
     "text": [
      "time: 0 ns (started: 2023-03-29 15:43:21 -04:00)\n"
     ]
    }
   ],
   "source": [
    "with open('recorded_trajectories.txt','w') as file:\n",
    "    for line in lines:\n",
    "        file.write(line+'\\n')"
   ]
  },
  {
   "cell_type": "code",
   "execution_count": 127,
   "metadata": {},
   "outputs": [
    {
     "name": "stdout",
     "output_type": "stream",
     "text": [
      "time: 140 ms (started: 2023-03-29 16:04:16 -04:00)\n"
     ]
    }
   ],
   "source": [
    "stage.close()"
   ]
  },
  {
   "attachments": {},
   "cell_type": "markdown",
   "metadata": {},
   "source": [
    "### ###Random Walks - March 30th "
   ]
  },
  {
   "cell_type": "code",
   "execution_count": null,
   "metadata": {},
   "outputs": [
    {
     "name": "stdout",
     "output_type": "stream",
     "text": [
      "time: 0 ns (started: 2023-03-30 13:27:41 -04:00)\n"
     ]
    }
   ],
   "source": [
    "from tqdm import tqdm"
   ]
  },
  {
   "cell_type": "code",
   "execution_count": 19,
   "metadata": {},
   "outputs": [
    {
     "name": "stdout",
     "output_type": "stream",
     "text": [
      "time: 0 ns (started: 2023-03-30 13:28:05 -04:00)\n"
     ]
    }
   ],
   "source": [
    "experiment = {'num_random_walks': 2,\n",
    "              'step_size_in_um': 2.6 ,\n",
    "              'xy_origin_in_mm': (-0.1878, 1.1199),\n",
    "              'num_steps': 500,\n",
    "              'data': [],\n",
    "              'walk_steps': [],\n",
    "              'walk_strings': [],\n",
    "              'walk_trajectories_in_int': [],\n",
    "              'walk_trajectories_in_mm': []}\n",
    "for i in range(experiment['num_random_walks']):\n",
    "    walkSteps, walkString, walkTrajectory_in_mm, walkTrajectory_in_steps = rando_wiggle(experiment['step_size_in_um'],\n",
    "                                                         experiment['xy_origin_in_mm'],\n",
    "                                                         experiment['num_steps'])\n",
    "    experiment['walk_steps'].append(walkSteps)\n",
    "    experiment['walk_strings'].append(walkString)\n",
    "    experiment['walk_trajectories_in_mm'].append(walkTrajectory_in_mm)\n",
    "    experiment['walk_trajectories_in_int'].append(walkTrajectory_in_steps)"
   ]
  },
  {
   "cell_type": "code",
   "execution_count": 20,
   "metadata": {},
   "outputs": [
    {
     "name": "stderr",
     "output_type": "stream",
     "text": [
      "100%|██████████| 500/500 [11:37<00:00,  1.40s/it]\n",
      "100%|██████████| 500/500 [10:50<00:00,  1.30s/it]"
     ]
    },
    {
     "name": "stdout",
     "output_type": "stream",
     "text": [
      "time: 22min 28s (started: 2023-03-30 13:28:06 -04:00)\n"
     ]
    },
    {
     "name": "stderr",
     "output_type": "stream",
     "text": [
      "\n"
     ]
    }
   ],
   "source": [
    "trajectories_in_mm = experiment['walk_trajectories_in_mm']\n",
    "trajectories_in_int = experiment['walk_trajectories_in_int']\n",
    "for rando_walk_index in range(experiment['num_random_walks']):\n",
    "    single_walk_dictionary = {}\n",
    "    trajectory_in_mm = trajectories_in_mm[rando_walk_index]\n",
    "    trajectory_in_int = trajectories_in_int[rando_walk_index]\n",
    "    for trajectory_index in tqdm(range(experiment['num_steps'])):\n",
    "        commanded_position_in_mm = trajectory_in_mm[trajectory_index]\n",
    "        commanded_position_in_int = tuple(trajectory_in_int[trajectory_index])\n",
    "        # command the stage to move to commanded_position_in_mm\n",
    "        x, y = commanded_position_in_mm\n",
    "        move_and_wait(stage,'x',x)\n",
    "        move_and_wait(stage,'y',y)\n",
    "        # tell lightfield to set the filename to blah\n",
    "        fname = 'rando_wiggle-%d-%d' % (rando_walk_index, trajectory_index)\n",
    "        lf.set_filename(fname,timetag=False)\n",
    "        # take an exposure\n",
    "        lf.acquire_and_wait()\n",
    "        # grab the actual name of spe file\n",
    "        spe_fname = lightfield.get_latest_spe_fname(lf_dir)\n",
    "        the_tiff_fname = os.path.join(spe_fname['fname'].replace('.spe','.tif'))\n",
    "        # create the name of the tiff file\n",
    "        single_walk_dictionary[trajectory_index] = the_tiff_fname\n",
    "    experiment['data'].append(single_walk_dictionary)\n",
    "    bell()"
   ]
  },
  {
   "cell_type": "code",
   "execution_count": 34,
   "metadata": {},
   "outputs": [
    {
     "name": "stdout",
     "output_type": "stream",
     "text": [
      "time: 0 ns (started: 2023-03-30 14:30:47 -04:00)\n"
     ]
    }
   ],
   "source": [
    "pickle.dump(experiment, open('rando500-wigglycam.pkl','wb'))"
   ]
  },
  {
   "cell_type": "code",
   "execution_count": null,
   "metadata": {},
   "outputs": [],
   "source": [
    "# pickle.load(open('rando-walks-wigglycam.pkl','rb'))"
   ]
  },
  {
   "cell_type": "code",
   "execution_count": null,
   "metadata": {},
   "outputs": [
    {
     "name": "stdout",
     "output_type": "stream",
     "text": [
      "time: 0 ns (started: 2023-03-29 15:33:03 -04:00)\n"
     ]
    }
   ],
   "source": [
    "imgdir = 'C:/Users/glitteri/Desktop/rando_walks'"
   ]
  },
  {
   "cell_type": "code",
   "execution_count": null,
   "metadata": {},
   "outputs": [
    {
     "name": "stdout",
     "output_type": "stream",
     "text": [
      "time: 1.44 s (started: 2023-03-29 15:37:21 -04:00)\n"
     ]
    }
   ],
   "source": [
    "for fname in [f for f in os.listdir(imgdir) if f.endswith('.tif') and 'rando' in f]:\n",
    "    fullFname = os.path.join(imgdir,fname)\n",
    "    newName = [None,None,None]\n",
    "    newName = fname.split('-')\n",
    "    newName = ('-'.join(newName[:3]))+'.tif'\n",
    "    newName = os.path.join(imgdir,newName)\n",
    "    os.rename(fullFname, newName)"
   ]
  },
  {
   "cell_type": "code",
   "execution_count": null,
   "metadata": {},
   "outputs": [
    {
     "name": "stdout",
     "output_type": "stream",
     "text": [
      "time: 63 ms (started: 2023-03-29 15:42:25 -04:00)\n"
     ]
    }
   ],
   "source": [
    "lines = []\n",
    "for idx in range(10):\n",
    "    bigs = ','.join(list(map(str,list(experiment['walk_trajectories_in_int'][idx]))))\n",
    "    lines.append(bigs)"
   ]
  },
  {
   "cell_type": "code",
   "execution_count": null,
   "metadata": {},
   "outputs": [
    {
     "name": "stdout",
     "output_type": "stream",
     "text": [
      "time: 0 ns (started: 2023-03-29 15:43:21 -04:00)\n"
     ]
    }
   ],
   "source": [
    "with open('recorded_trajectories.txt','w') as file:\n",
    "    for line in lines:\n",
    "        file.write(line+'\\n')"
   ]
  },
  {
   "cell_type": "code",
   "execution_count": null,
   "metadata": {},
   "outputs": [
    {
     "name": "stdout",
     "output_type": "stream",
     "text": [
      "time: 140 ms (started: 2023-03-29 16:04:16 -04:00)\n"
     ]
    }
   ],
   "source": [
    "stage.close()"
   ]
  },
  {
   "cell_type": "code",
   "execution_count": 26,
   "metadata": {},
   "outputs": [
    {
     "data": {
      "text/plain": [
       "[[[0, 0],\n",
       "  [1, 0],\n",
       "  [1, -1],\n",
       "  [2, -1],\n",
       "  [2, -2],\n",
       "  [2, -1],\n",
       "  [1, -1],\n",
       "  [0, -1],\n",
       "  [0, -2],\n",
       "  [1, -2],\n",
       "  [1, -1],\n",
       "  [2, -1],\n",
       "  [3, -1],\n",
       "  [3, -2],\n",
       "  [4, -2],\n",
       "  [3, -2],\n",
       "  [3, -1],\n",
       "  [2, -1],\n",
       "  [3, -1],\n",
       "  [3, 0],\n",
       "  [2, 0],\n",
       "  [1, 0],\n",
       "  [2, 0],\n",
       "  [3, 0],\n",
       "  [2, 0],\n",
       "  [1, 0],\n",
       "  [0, 0],\n",
       "  [0, 1],\n",
       "  [-1, 1],\n",
       "  [-1, 2],\n",
       "  [-1, 3],\n",
       "  [-2, 3],\n",
       "  [-2, 4],\n",
       "  [-1, 4],\n",
       "  [-1, 3],\n",
       "  [0, 3],\n",
       "  [-1, 3],\n",
       "  [-1, 2],\n",
       "  [-1, 1],\n",
       "  [-1, 0],\n",
       "  [-2, 0],\n",
       "  [-2, -1],\n",
       "  [-2, 0],\n",
       "  [-2, -1],\n",
       "  [-3, -1],\n",
       "  [-2, -1],\n",
       "  [-3, -1],\n",
       "  [-3, -2],\n",
       "  [-3, -1],\n",
       "  [-3, 0],\n",
       "  [-3, -1],\n",
       "  [-2, -1],\n",
       "  [-1, -1],\n",
       "  [-1, -2],\n",
       "  [-2, -2],\n",
       "  [-1, -2],\n",
       "  [-1, -3],\n",
       "  [0, -3],\n",
       "  [1, -3],\n",
       "  [1, -4],\n",
       "  [1, -5],\n",
       "  [1, -6],\n",
       "  [0, -6],\n",
       "  [1, -6],\n",
       "  [2, -6],\n",
       "  [2, -5],\n",
       "  [1, -5],\n",
       "  [1, -4],\n",
       "  [1, -5],\n",
       "  [1, -4],\n",
       "  [1, -3],\n",
       "  [2, -3],\n",
       "  [2, -2],\n",
       "  [1, -2],\n",
       "  [1, -1],\n",
       "  [2, -1],\n",
       "  [3, -1],\n",
       "  [2, -1],\n",
       "  [3, -1],\n",
       "  [3, 0],\n",
       "  [4, 0],\n",
       "  [3, 0],\n",
       "  [3, -1],\n",
       "  [3, 0],\n",
       "  [3, 1],\n",
       "  [3, 2],\n",
       "  [2, 2],\n",
       "  [2, 1],\n",
       "  [1, 1],\n",
       "  [1, 2],\n",
       "  [1, 3],\n",
       "  [1, 4],\n",
       "  [0, 4],\n",
       "  [0, 5],\n",
       "  [0, 4],\n",
       "  [1, 4],\n",
       "  [1, 5],\n",
       "  [1, 4],\n",
       "  [0, 4],\n",
       "  [0, 5],\n",
       "  [-1, 5],\n",
       "  [-2, 5],\n",
       "  [-1, 5],\n",
       "  [-1, 6],\n",
       "  [-2, 6],\n",
       "  [-2, 5],\n",
       "  [-2, 4],\n",
       "  [-2, 5],\n",
       "  [-2, 4],\n",
       "  [-3, 4],\n",
       "  [-2, 4],\n",
       "  [-3, 4],\n",
       "  [-3, 3],\n",
       "  [-2, 3],\n",
       "  [-2, 4],\n",
       "  [-2, 5],\n",
       "  [-2, 6],\n",
       "  [-1, 6],\n",
       "  [-1, 7],\n",
       "  [-1, 6],\n",
       "  [-1, 7],\n",
       "  [-1, 6],\n",
       "  [-1, 5],\n",
       "  [0, 5],\n",
       "  [0, 6],\n",
       "  [0, 5],\n",
       "  [-1, 5],\n",
       "  [-2, 5],\n",
       "  [-1, 5],\n",
       "  [-2, 5],\n",
       "  [-1, 5],\n",
       "  [-2, 5],\n",
       "  [-2, 6],\n",
       "  [-3, 6],\n",
       "  [-3, 5],\n",
       "  [-2, 5],\n",
       "  [-2, 6],\n",
       "  [-2, 5],\n",
       "  [-2, 6],\n",
       "  [-3, 6],\n",
       "  [-4, 6],\n",
       "  [-3, 6],\n",
       "  [-2, 6],\n",
       "  [-3, 6],\n",
       "  [-2, 6],\n",
       "  [-2, 7],\n",
       "  [-1, 7],\n",
       "  [-2, 7],\n",
       "  [-1, 7],\n",
       "  [-1, 8],\n",
       "  [-1, 7],\n",
       "  [-1, 6],\n",
       "  [0, 6],\n",
       "  [1, 6],\n",
       "  [0, 6],\n",
       "  [-1, 6],\n",
       "  [-2, 6],\n",
       "  [-2, 5],\n",
       "  [-2, 6],\n",
       "  [-2, 5],\n",
       "  [-2, 6],\n",
       "  [-2, 5],\n",
       "  [-1, 5],\n",
       "  [-2, 5],\n",
       "  [-1, 5],\n",
       "  [-2, 5],\n",
       "  [-2, 6],\n",
       "  [-3, 6],\n",
       "  [-3, 5],\n",
       "  [-3, 4],\n",
       "  [-4, 4],\n",
       "  [-4, 5],\n",
       "  [-5, 5],\n",
       "  [-6, 5],\n",
       "  [-5, 5],\n",
       "  [-4, 5],\n",
       "  [-5, 5],\n",
       "  [-5, 4],\n",
       "  [-5, 5],\n",
       "  [-5, 6],\n",
       "  [-6, 6],\n",
       "  [-7, 6],\n",
       "  [-7, 7],\n",
       "  [-8, 7],\n",
       "  [-8, 6],\n",
       "  [-7, 6],\n",
       "  [-8, 6],\n",
       "  [-8, 7],\n",
       "  [-9, 7],\n",
       "  [-9, 6],\n",
       "  [-9, 5],\n",
       "  [-9, 4],\n",
       "  [-10, 4],\n",
       "  [-11, 4],\n",
       "  [-11, 5],\n",
       "  [-11, 4],\n",
       "  [-12, 4],\n",
       "  [-11, 4],\n",
       "  [-11, 3],\n",
       "  [-11, 2],\n",
       "  [-11, 1],\n",
       "  [-10, 1],\n",
       "  [-10, 2],\n",
       "  [-10, 1],\n",
       "  [-10, 2],\n",
       "  [-11, 2],\n",
       "  [-11, 3],\n",
       "  [-12, 3],\n",
       "  [-13, 3],\n",
       "  [-13, 4],\n",
       "  [-13, 3],\n",
       "  [-12, 3],\n",
       "  [-11, 3],\n",
       "  [-10, 3],\n",
       "  [-10, 4],\n",
       "  [-9, 4],\n",
       "  [-10, 4],\n",
       "  [-10, 3],\n",
       "  [-11, 3],\n",
       "  [-12, 3],\n",
       "  [-13, 3],\n",
       "  [-14, 3],\n",
       "  [-15, 3],\n",
       "  [-15, 2],\n",
       "  [-15, 3],\n",
       "  [-16, 3],\n",
       "  [-16, 4],\n",
       "  [-16, 3],\n",
       "  [-16, 2],\n",
       "  [-16, 1],\n",
       "  [-15, 1],\n",
       "  [-15, 2],\n",
       "  [-15, 3],\n",
       "  [-15, 2],\n",
       "  [-16, 2],\n",
       "  [-17, 2],\n",
       "  [-17, 3],\n",
       "  [-18, 3],\n",
       "  [-17, 3],\n",
       "  [-16, 3],\n",
       "  [-17, 3],\n",
       "  [-17, 2],\n",
       "  [-17, 3],\n",
       "  [-16, 3],\n",
       "  [-17, 3],\n",
       "  [-18, 3],\n",
       "  [-18, 4],\n",
       "  [-18, 5],\n",
       "  [-17, 5],\n",
       "  [-17, 4],\n",
       "  [-18, 4],\n",
       "  [-18, 5],\n",
       "  [-19, 5],\n",
       "  [-18, 5],\n",
       "  [-18, 4],\n",
       "  [-17, 4],\n",
       "  [-17, 5],\n",
       "  [-18, 5],\n",
       "  [-19, 5],\n",
       "  [-19, 4],\n",
       "  [-20, 4],\n",
       "  [-21, 4],\n",
       "  [-21, 3],\n",
       "  [-21, 4],\n",
       "  [-21, 5],\n",
       "  [-21, 6],\n",
       "  [-21, 7],\n",
       "  [-22, 7],\n",
       "  [-22, 6],\n",
       "  [-22, 5],\n",
       "  [-22, 4],\n",
       "  [-22, 5],\n",
       "  [-22, 4],\n",
       "  [-22, 5],\n",
       "  [-21, 5],\n",
       "  [-21, 6],\n",
       "  [-21, 7],\n",
       "  [-21, 6],\n",
       "  [-21, 5],\n",
       "  [-21, 6],\n",
       "  [-21, 7],\n",
       "  [-21, 6],\n",
       "  [-21, 5],\n",
       "  [-21, 4],\n",
       "  [-21, 5],\n",
       "  [-22, 5],\n",
       "  [-22, 4],\n",
       "  [-21, 4],\n",
       "  [-21, 5],\n",
       "  [-21, 6],\n",
       "  [-20, 6],\n",
       "  [-19, 6],\n",
       "  [-19, 7],\n",
       "  [-19, 6],\n",
       "  [-19, 5],\n",
       "  [-18, 5],\n",
       "  [-19, 5],\n",
       "  [-19, 4],\n",
       "  [-19, 5],\n",
       "  [-19, 6],\n",
       "  [-20, 6],\n",
       "  [-20, 5],\n",
       "  [-19, 5],\n",
       "  [-18, 5],\n",
       "  [-17, 5],\n",
       "  [-18, 5],\n",
       "  [-18, 6],\n",
       "  [-19, 6],\n",
       "  [-20, 6],\n",
       "  [-20, 5],\n",
       "  [-19, 5],\n",
       "  [-18, 5],\n",
       "  [-18, 6],\n",
       "  [-19, 6],\n",
       "  [-19, 5],\n",
       "  [-19, 6],\n",
       "  [-18, 6],\n",
       "  [-18, 7],\n",
       "  [-19, 7],\n",
       "  [-19, 8],\n",
       "  [-18, 8],\n",
       "  [-19, 8],\n",
       "  [-20, 8],\n",
       "  [-20, 9],\n",
       "  [-20, 10],\n",
       "  [-20, 11],\n",
       "  [-20, 10],\n",
       "  [-19, 10],\n",
       "  [-18, 10],\n",
       "  [-18, 9],\n",
       "  [-19, 9],\n",
       "  [-19, 8],\n",
       "  [-19, 7],\n",
       "  [-18, 7],\n",
       "  [-18, 6],\n",
       "  [-19, 6],\n",
       "  [-20, 6],\n",
       "  [-19, 6],\n",
       "  [-20, 6],\n",
       "  [-20, 5],\n",
       "  [-19, 5],\n",
       "  [-19, 6],\n",
       "  [-20, 6],\n",
       "  [-21, 6],\n",
       "  [-21, 7],\n",
       "  [-20, 7],\n",
       "  [-19, 7],\n",
       "  [-20, 7],\n",
       "  [-21, 7],\n",
       "  [-21, 6],\n",
       "  [-21, 5],\n",
       "  [-21, 4],\n",
       "  [-21, 3],\n",
       "  [-21, 2],\n",
       "  [-21, 1],\n",
       "  [-21, 2],\n",
       "  [-21, 1],\n",
       "  [-21, 2],\n",
       "  [-22, 2],\n",
       "  [-23, 2],\n",
       "  [-24, 2],\n",
       "  [-23, 2],\n",
       "  [-24, 2],\n",
       "  [-24, 1],\n",
       "  [-24, 2],\n",
       "  [-23, 2],\n",
       "  [-24, 2],\n",
       "  [-24, 3],\n",
       "  [-23, 3],\n",
       "  [-24, 3],\n",
       "  [-24, 4],\n",
       "  [-24, 3],\n",
       "  [-24, 4],\n",
       "  [-24, 3],\n",
       "  [-24, 4],\n",
       "  [-23, 4],\n",
       "  [-22, 4],\n",
       "  [-23, 4],\n",
       "  [-24, 4],\n",
       "  [-23, 4],\n",
       "  [-23, 5],\n",
       "  [-24, 5],\n",
       "  [-24, 4],\n",
       "  [-23, 4],\n",
       "  [-22, 4],\n",
       "  [-22, 5],\n",
       "  [-22, 6],\n",
       "  [-22, 5],\n",
       "  [-21, 5],\n",
       "  [-21, 4],\n",
       "  [-22, 4],\n",
       "  [-22, 5],\n",
       "  [-22, 6],\n",
       "  [-23, 6],\n",
       "  [-23, 7],\n",
       "  [-23, 6],\n",
       "  [-23, 7],\n",
       "  [-23, 8],\n",
       "  [-24, 8],\n",
       "  [-25, 8],\n",
       "  [-26, 8],\n",
       "  [-26, 7],\n",
       "  [-26, 8],\n",
       "  [-26, 7],\n",
       "  [-27, 7],\n",
       "  [-26, 7],\n",
       "  [-26, 6],\n",
       "  [-25, 6],\n",
       "  [-26, 6],\n",
       "  [-26, 5],\n",
       "  [-27, 5],\n",
       "  [-28, 5],\n",
       "  [-29, 5],\n",
       "  [-29, 6],\n",
       "  [-29, 5],\n",
       "  [-29, 6],\n",
       "  [-29, 5],\n",
       "  [-29, 4],\n",
       "  [-29, 5],\n",
       "  [-28, 5],\n",
       "  [-29, 5],\n",
       "  [-28, 5],\n",
       "  [-29, 5],\n",
       "  [-29, 6],\n",
       "  [-29, 5],\n",
       "  [-29, 4],\n",
       "  [-29, 5],\n",
       "  [-30, 5],\n",
       "  [-30, 4],\n",
       "  [-30, 5],\n",
       "  [-31, 5],\n",
       "  [-30, 5],\n",
       "  [-30, 4],\n",
       "  [-29, 4],\n",
       "  [-30, 4],\n",
       "  [-30, 3],\n",
       "  [-30, 2],\n",
       "  [-30, 3],\n",
       "  [-30, 4],\n",
       "  [-30, 5],\n",
       "  [-31, 5],\n",
       "  [-32, 5],\n",
       "  [-32, 6],\n",
       "  [-32, 7],\n",
       "  [-33, 7],\n",
       "  [-33, 6],\n",
       "  [-32, 6],\n",
       "  [-32, 7],\n",
       "  [-32, 6],\n",
       "  [-33, 6],\n",
       "  [-33, 7],\n",
       "  [-33, 6],\n",
       "  [-33, 5],\n",
       "  [-32, 5],\n",
       "  [-31, 5],\n",
       "  [-32, 5],\n",
       "  [-32, 4],\n",
       "  [-31, 4],\n",
       "  [-30, 4],\n",
       "  [-29, 4],\n",
       "  [-29, 5],\n",
       "  [-28, 5],\n",
       "  [-29, 5],\n",
       "  [-30, 5],\n",
       "  [-31, 5],\n",
       "  [-30, 5],\n",
       "  [-30, 6],\n",
       "  [-31, 6],\n",
       "  [-31, 5],\n",
       "  [-30, 5],\n",
       "  [-30, 4],\n",
       "  [-30, 5],\n",
       "  [-30, 6],\n",
       "  [-31, 6],\n",
       "  [-31, 7],\n",
       "  [-31, 8],\n",
       "  [-32, 8],\n",
       "  [-32, 9],\n",
       "  [-31, 9],\n",
       "  [-31, 8],\n",
       "  [-31, 7],\n",
       "  [-31, 8],\n",
       "  [-32, 8],\n",
       "  [-31, 8],\n",
       "  [-32, 8],\n",
       "  [-32, 9],\n",
       "  [-33, 9],\n",
       "  [-34, 9],\n",
       "  [-34, 10],\n",
       "  [-35, 10],\n",
       "  [-35, 9],\n",
       "  [-35, 10],\n",
       "  [-35, 11],\n",
       "  [-34, 11],\n",
       "  [-33, 11],\n",
       "  [-34, 11],\n",
       "  [-34, 10],\n",
       "  [-34, 9],\n",
       "  [-34, 8],\n",
       "  [-34, 7]],\n",
       " [[0, 0],\n",
       "  [0, 1],\n",
       "  [0, 2],\n",
       "  [-1, 2],\n",
       "  [-2, 2],\n",
       "  [-1, 2],\n",
       "  [-2, 2],\n",
       "  [-3, 2],\n",
       "  [-2, 2],\n",
       "  [-3, 2],\n",
       "  [-3, 3],\n",
       "  [-4, 3],\n",
       "  [-5, 3],\n",
       "  [-5, 4],\n",
       "  [-5, 3],\n",
       "  [-4, 3],\n",
       "  [-4, 4],\n",
       "  [-4, 5],\n",
       "  [-5, 5],\n",
       "  [-4, 5],\n",
       "  [-4, 6],\n",
       "  [-5, 6],\n",
       "  [-5, 5],\n",
       "  [-6, 5],\n",
       "  [-6, 4],\n",
       "  [-6, 5],\n",
       "  [-6, 6],\n",
       "  [-6, 7],\n",
       "  [-7, 7],\n",
       "  [-7, 6],\n",
       "  [-7, 7],\n",
       "  [-8, 7],\n",
       "  [-7, 7],\n",
       "  [-6, 7],\n",
       "  [-6, 6],\n",
       "  [-6, 5],\n",
       "  [-5, 5],\n",
       "  [-5, 6],\n",
       "  [-6, 6],\n",
       "  [-7, 6],\n",
       "  [-7, 7],\n",
       "  [-6, 7],\n",
       "  [-6, 8],\n",
       "  [-5, 8],\n",
       "  [-5, 9],\n",
       "  [-5, 10],\n",
       "  [-5, 9],\n",
       "  [-5, 10],\n",
       "  [-5, 11],\n",
       "  [-5, 12],\n",
       "  [-6, 12],\n",
       "  [-6, 13],\n",
       "  [-6, 14],\n",
       "  [-6, 13],\n",
       "  [-5, 13],\n",
       "  [-4, 13],\n",
       "  [-4, 12],\n",
       "  [-3, 12],\n",
       "  [-4, 12],\n",
       "  [-3, 12],\n",
       "  [-4, 12],\n",
       "  [-4, 13],\n",
       "  [-4, 14],\n",
       "  [-3, 14],\n",
       "  [-2, 14],\n",
       "  [-3, 14],\n",
       "  [-3, 13],\n",
       "  [-2, 13],\n",
       "  [-2, 14],\n",
       "  [-1, 14],\n",
       "  [-2, 14],\n",
       "  [-2, 15],\n",
       "  [-3, 15],\n",
       "  [-2, 15],\n",
       "  [-2, 14],\n",
       "  [-1, 14],\n",
       "  [-1, 13],\n",
       "  [-2, 13],\n",
       "  [-1, 13],\n",
       "  [-1, 14],\n",
       "  [-1, 15],\n",
       "  [-2, 15],\n",
       "  [-1, 15],\n",
       "  [0, 15],\n",
       "  [1, 15],\n",
       "  [1, 16],\n",
       "  [1, 17],\n",
       "  [2, 17],\n",
       "  [1, 17],\n",
       "  [2, 17],\n",
       "  [3, 17],\n",
       "  [2, 17],\n",
       "  [3, 17],\n",
       "  [3, 16],\n",
       "  [3, 15],\n",
       "  [3, 14],\n",
       "  [3, 13],\n",
       "  [2, 13],\n",
       "  [2, 12],\n",
       "  [2, 11],\n",
       "  [2, 12],\n",
       "  [2, 11],\n",
       "  [3, 11],\n",
       "  [4, 11],\n",
       "  [3, 11],\n",
       "  [2, 11],\n",
       "  [2, 12],\n",
       "  [1, 12],\n",
       "  [1, 13],\n",
       "  [0, 13],\n",
       "  [1, 13],\n",
       "  [1, 12],\n",
       "  [0, 12],\n",
       "  [0, 11],\n",
       "  [-1, 11],\n",
       "  [-1, 12],\n",
       "  [-1, 11],\n",
       "  [0, 11],\n",
       "  [-1, 11],\n",
       "  [-2, 11],\n",
       "  [-2, 12],\n",
       "  [-3, 12],\n",
       "  [-3, 11],\n",
       "  [-3, 12],\n",
       "  [-3, 13],\n",
       "  [-3, 12],\n",
       "  [-3, 11],\n",
       "  [-4, 11],\n",
       "  [-4, 12],\n",
       "  [-4, 13],\n",
       "  [-4, 12],\n",
       "  [-5, 12],\n",
       "  [-4, 12],\n",
       "  [-4, 11],\n",
       "  [-4, 10],\n",
       "  [-3, 10],\n",
       "  [-2, 10],\n",
       "  [-1, 10],\n",
       "  [-1, 9],\n",
       "  [0, 9],\n",
       "  [1, 9],\n",
       "  [0, 9],\n",
       "  [0, 10],\n",
       "  [-1, 10],\n",
       "  [0, 10],\n",
       "  [-1, 10],\n",
       "  [-1, 11],\n",
       "  [-1, 12],\n",
       "  [-2, 12],\n",
       "  [-2, 13],\n",
       "  [-1, 13],\n",
       "  [-2, 13],\n",
       "  [-2, 12],\n",
       "  [-2, 11],\n",
       "  [-1, 11],\n",
       "  [-2, 11],\n",
       "  [-1, 11],\n",
       "  [0, 11],\n",
       "  [1, 11],\n",
       "  [0, 11],\n",
       "  [-1, 11],\n",
       "  [-1, 10],\n",
       "  [-1, 9],\n",
       "  [-1, 8],\n",
       "  [0, 8],\n",
       "  [0, 9],\n",
       "  [-1, 9],\n",
       "  [-1, 10],\n",
       "  [-1, 11],\n",
       "  [-1, 12],\n",
       "  [-1, 11],\n",
       "  [-2, 11],\n",
       "  [-2, 10],\n",
       "  [-3, 10],\n",
       "  [-4, 10],\n",
       "  [-4, 11],\n",
       "  [-5, 11],\n",
       "  [-6, 11],\n",
       "  [-5, 11],\n",
       "  [-5, 10],\n",
       "  [-6, 10],\n",
       "  [-6, 9],\n",
       "  [-6, 10],\n",
       "  [-6, 9],\n",
       "  [-7, 9],\n",
       "  [-6, 9],\n",
       "  [-7, 9],\n",
       "  [-7, 8],\n",
       "  [-6, 8],\n",
       "  [-6, 7],\n",
       "  [-5, 7],\n",
       "  [-5, 6],\n",
       "  [-5, 5],\n",
       "  [-6, 5],\n",
       "  [-5, 5],\n",
       "  [-4, 5],\n",
       "  [-5, 5],\n",
       "  [-5, 4],\n",
       "  [-4, 4],\n",
       "  [-3, 4],\n",
       "  [-2, 4],\n",
       "  [-2, 5],\n",
       "  [-1, 5],\n",
       "  [-2, 5],\n",
       "  [-1, 5],\n",
       "  [-2, 5],\n",
       "  [-1, 5],\n",
       "  [0, 5],\n",
       "  [0, 4],\n",
       "  [-1, 4],\n",
       "  [-2, 4],\n",
       "  [-2, 5],\n",
       "  [-2, 6],\n",
       "  [-1, 6],\n",
       "  [-2, 6],\n",
       "  [-2, 5],\n",
       "  [-1, 5],\n",
       "  [0, 5],\n",
       "  [-1, 5],\n",
       "  [-2, 5],\n",
       "  [-3, 5],\n",
       "  [-3, 6],\n",
       "  [-3, 5],\n",
       "  [-3, 4],\n",
       "  [-4, 4],\n",
       "  [-4, 3],\n",
       "  [-5, 3],\n",
       "  [-5, 2],\n",
       "  [-4, 2],\n",
       "  [-5, 2],\n",
       "  [-4, 2],\n",
       "  [-3, 2],\n",
       "  [-4, 2],\n",
       "  [-5, 2],\n",
       "  [-6, 2],\n",
       "  [-5, 2],\n",
       "  [-5, 1],\n",
       "  [-5, 2],\n",
       "  [-4, 2],\n",
       "  [-4, 1],\n",
       "  [-4, 2],\n",
       "  [-5, 2],\n",
       "  [-5, 3],\n",
       "  [-5, 4],\n",
       "  [-5, 3],\n",
       "  [-4, 3],\n",
       "  [-3, 3],\n",
       "  [-4, 3],\n",
       "  [-3, 3],\n",
       "  [-4, 3],\n",
       "  [-4, 2],\n",
       "  [-4, 1],\n",
       "  [-3, 1],\n",
       "  [-3, 2],\n",
       "  [-4, 2],\n",
       "  [-4, 3],\n",
       "  [-3, 3],\n",
       "  [-4, 3],\n",
       "  [-3, 3],\n",
       "  [-3, 2],\n",
       "  [-4, 2],\n",
       "  [-4, 1],\n",
       "  [-4, 0],\n",
       "  [-3, 0],\n",
       "  [-3, -1],\n",
       "  [-4, -1],\n",
       "  [-5, -1],\n",
       "  [-6, -1],\n",
       "  [-7, -1],\n",
       "  [-8, -1],\n",
       "  [-7, -1],\n",
       "  [-8, -1],\n",
       "  [-9, -1],\n",
       "  [-9, 0],\n",
       "  [-9, -1],\n",
       "  [-10, -1],\n",
       "  [-11, -1],\n",
       "  [-11, 0],\n",
       "  [-11, 1],\n",
       "  [-12, 1],\n",
       "  [-11, 1],\n",
       "  [-11, 2],\n",
       "  [-11, 1],\n",
       "  [-10, 1],\n",
       "  [-11, 1],\n",
       "  [-11, 2],\n",
       "  [-12, 2],\n",
       "  [-12, 3],\n",
       "  [-12, 4],\n",
       "  [-12, 3],\n",
       "  [-12, 2],\n",
       "  [-13, 2],\n",
       "  [-13, 3],\n",
       "  [-13, 4],\n",
       "  [-14, 4],\n",
       "  [-15, 4],\n",
       "  [-15, 3],\n",
       "  [-15, 2],\n",
       "  [-15, 1],\n",
       "  [-15, 2],\n",
       "  [-16, 2],\n",
       "  [-16, 3],\n",
       "  [-17, 3],\n",
       "  [-17, 4],\n",
       "  [-17, 3],\n",
       "  [-16, 3],\n",
       "  [-17, 3],\n",
       "  [-17, 2],\n",
       "  [-16, 2],\n",
       "  [-16, 1],\n",
       "  [-16, 0],\n",
       "  [-17, 0],\n",
       "  [-17, -1],\n",
       "  [-16, -1],\n",
       "  [-16, -2],\n",
       "  [-17, -2],\n",
       "  [-18, -2],\n",
       "  [-18, -3],\n",
       "  [-18, -2],\n",
       "  [-17, -2],\n",
       "  [-17, -3],\n",
       "  [-18, -3],\n",
       "  [-18, -4],\n",
       "  [-17, -4],\n",
       "  [-17, -3],\n",
       "  [-17, -2],\n",
       "  [-17, -3],\n",
       "  [-17, -2],\n",
       "  [-16, -2],\n",
       "  [-17, -2],\n",
       "  [-17, -1],\n",
       "  [-16, -1],\n",
       "  [-17, -1],\n",
       "  [-17, -2],\n",
       "  [-16, -2],\n",
       "  [-15, -2],\n",
       "  [-15, -1],\n",
       "  [-14, -1],\n",
       "  [-14, -2],\n",
       "  [-14, -1],\n",
       "  [-13, -1],\n",
       "  [-13, -2],\n",
       "  [-13, -3],\n",
       "  [-13, -2],\n",
       "  [-13, -3],\n",
       "  [-13, -4],\n",
       "  [-14, -4],\n",
       "  [-14, -5],\n",
       "  [-14, -6],\n",
       "  [-13, -6],\n",
       "  [-13, -7],\n",
       "  [-13, -6],\n",
       "  [-13, -7],\n",
       "  [-13, -8],\n",
       "  [-13, -9],\n",
       "  [-13, -8],\n",
       "  [-14, -8],\n",
       "  [-14, -7],\n",
       "  [-13, -7],\n",
       "  [-14, -7],\n",
       "  [-14, -6],\n",
       "  [-14, -5],\n",
       "  [-15, -5],\n",
       "  [-16, -5],\n",
       "  [-16, -4],\n",
       "  [-15, -4],\n",
       "  [-15, -3],\n",
       "  [-15, -2],\n",
       "  [-15, -1],\n",
       "  [-14, -1],\n",
       "  [-14, 0],\n",
       "  [-14, 1],\n",
       "  [-13, 1],\n",
       "  [-13, 0],\n",
       "  [-13, -1],\n",
       "  [-14, -1],\n",
       "  [-15, -1],\n",
       "  [-15, 0],\n",
       "  [-14, 0],\n",
       "  [-13, 0],\n",
       "  [-12, 0],\n",
       "  [-11, 0],\n",
       "  [-12, 0],\n",
       "  [-12, 1],\n",
       "  [-13, 1],\n",
       "  [-12, 1],\n",
       "  [-12, 2],\n",
       "  [-12, 1],\n",
       "  [-12, 0],\n",
       "  [-12, -1],\n",
       "  [-12, 0],\n",
       "  [-13, 0],\n",
       "  [-12, 0],\n",
       "  [-12, 1],\n",
       "  [-13, 1],\n",
       "  [-13, 0],\n",
       "  [-13, 1],\n",
       "  [-13, 0],\n",
       "  [-13, 1],\n",
       "  [-13, 0],\n",
       "  [-12, 0],\n",
       "  [-13, 0],\n",
       "  [-14, 0],\n",
       "  [-15, 0],\n",
       "  [-16, 0],\n",
       "  [-17, 0],\n",
       "  [-16, 0],\n",
       "  [-16, -1],\n",
       "  [-15, -1],\n",
       "  [-16, -1],\n",
       "  [-16, -2],\n",
       "  [-16, -3],\n",
       "  [-17, -3],\n",
       "  [-17, -2],\n",
       "  [-17, -3],\n",
       "  [-17, -2],\n",
       "  [-16, -2],\n",
       "  [-17, -2],\n",
       "  [-18, -2],\n",
       "  [-18, -3],\n",
       "  [-19, -3],\n",
       "  [-19, -4],\n",
       "  [-19, -5],\n",
       "  [-18, -5],\n",
       "  [-17, -5],\n",
       "  [-16, -5],\n",
       "  [-16, -4],\n",
       "  [-17, -4],\n",
       "  [-18, -4],\n",
       "  [-18, -3],\n",
       "  [-19, -3],\n",
       "  [-18, -3],\n",
       "  [-18, -2],\n",
       "  [-18, -3],\n",
       "  [-17, -3],\n",
       "  [-16, -3],\n",
       "  [-16, -2],\n",
       "  [-15, -2],\n",
       "  [-14, -2],\n",
       "  [-14, -3],\n",
       "  [-13, -3],\n",
       "  [-12, -3],\n",
       "  [-11, -3],\n",
       "  [-11, -2],\n",
       "  [-10, -2],\n",
       "  [-9, -2],\n",
       "  [-9, -3],\n",
       "  [-8, -3],\n",
       "  [-8, -4],\n",
       "  [-9, -4],\n",
       "  [-9, -3],\n",
       "  [-9, -4],\n",
       "  [-9, -3],\n",
       "  [-8, -3],\n",
       "  [-7, -3],\n",
       "  [-8, -3],\n",
       "  [-8, -2],\n",
       "  [-8, -1],\n",
       "  [-7, -1],\n",
       "  [-7, -2],\n",
       "  [-6, -2],\n",
       "  [-6, -3],\n",
       "  [-6, -2],\n",
       "  [-6, -3],\n",
       "  [-7, -3],\n",
       "  [-8, -3],\n",
       "  [-7, -3],\n",
       "  [-6, -3],\n",
       "  [-6, -4],\n",
       "  [-6, -5],\n",
       "  [-6, -6],\n",
       "  [-5, -6],\n",
       "  [-5, -5],\n",
       "  [-4, -5],\n",
       "  [-4, -4],\n",
       "  [-5, -4],\n",
       "  [-6, -4],\n",
       "  [-7, -4],\n",
       "  [-7, -3],\n",
       "  [-6, -3],\n",
       "  [-5, -3],\n",
       "  [-4, -3],\n",
       "  [-4, -2],\n",
       "  [-5, -2],\n",
       "  [-6, -2],\n",
       "  [-6, -3],\n",
       "  [-6, -4],\n",
       "  [-5, -4],\n",
       "  [-6, -4],\n",
       "  [-7, -4],\n",
       "  [-6, -4],\n",
       "  [-6, -3],\n",
       "  [-5, -3],\n",
       "  [-6, -3],\n",
       "  [-7, -3],\n",
       "  [-6, -3],\n",
       "  [-6, -2],\n",
       "  [-7, -2],\n",
       "  [-8, -2],\n",
       "  [-9, -2]]]"
      ]
     },
     "execution_count": 26,
     "metadata": {},
     "output_type": "execute_result"
    },
    {
     "name": "stdout",
     "output_type": "stream",
     "text": [
      "time: 47 ms (started: 2023-03-30 13:59:43 -04:00)\n"
     ]
    }
   ],
   "source": []
  },
  {
   "cell_type": "code",
   "execution_count": 27,
   "metadata": {},
   "outputs": [
    {
     "name": "stdout",
     "output_type": "stream",
     "text": [
      "time: 15 ms (started: 2023-03-30 14:00:00 -04:00)\n"
     ]
    }
   ],
   "source": [
    "with open('rando_500_trajectories.py','w') as file:\n",
    "    file.write('rando500='+str(list(map(lambda x: x.tolist(), np.array(experiment['walk_trajectories_in_int'])))))"
   ]
  },
  {
   "cell_type": "code",
   "execution_count": 29,
   "metadata": {},
   "outputs": [
    {
     "name": "stdout",
     "output_type": "stream",
     "text": [
      "time: 15 ms (started: 2023-03-30 14:03:31 -04:00)\n"
     ]
    }
   ],
   "source": [
    "from rando_500_trajectories import rando500"
   ]
  },
  {
   "attachments": {},
   "cell_type": "markdown",
   "metadata": {},
   "source": [
    "### ###Loading spe files (example)"
   ]
  },
  {
   "cell_type": "code",
   "execution_count": 41,
   "metadata": {},
   "outputs": [
    {
     "name": "stdout",
     "output_type": "stream",
     "text": [
      "time: 0 ns (started: 2023-05-03 08:40:57 -04:00)\n"
     ]
    }
   ],
   "source": [
    "filedir, fname = ('C:/Users/glitteri/Documents/LightField','rando_wiggle-1-498.spe')"
   ]
  },
  {
   "cell_type": "code",
   "execution_count": 44,
   "metadata": {},
   "outputs": [
    {
     "name": "stdout",
     "output_type": "stream",
     "text": [
      "XML Footer was not loaded prior to calling _get_wavelength\n",
      "time: 15 ms (started: 2023-05-03 08:44:30 -04:00)\n"
     ]
    }
   ],
   "source": [
    "full_fname = os.path.join(filedir,fname)\n",
    "spe_data = spe2py.SpeFile(full_fname)"
   ]
  },
  {
   "cell_type": "code",
   "execution_count": 55,
   "metadata": {},
   "outputs": [
    {
     "data": {
      "image/png": "[encoded data removed]",
      "text/plain": [
       "<Figure size 432x288 with 1 Axes>"
      ]
     },
     "metadata": {
      "needs_background": "light"
     },
     "output_type": "display_data"
    },
    {
     "name": "stdout",
     "output_type": "stream",
     "text": [
      "time: 172 ms (started: 2023-05-03 08:47:53 -04:00)\n"
     ]
    }
   ],
   "source": [
    "data = (spe_data.data[0][0])\n",
    "plt.figure()\n",
    "plt.hist(data.flatten())\n",
    "plt.show()"
   ]
  },
  {
   "cell_type": "code",
   "execution_count": 59,
   "metadata": {},
   "outputs": [
    {
     "data": {
      "text/plain": [
       "(16, 16)"
      ]
     },
     "execution_count": 59,
     "metadata": {},
     "output_type": "execute_result"
    },
    {
     "name": "stdout",
     "output_type": "stream",
     "text": [
      "time: 0 ns (started: 2023-05-03 08:51:11 -04:00)\n"
     ]
    }
   ],
   "source": [
    "data.shape"
   ]
  },
  {
   "cell_type": "code",
   "execution_count": 63,
   "metadata": {},
   "outputs": [
    {
     "name": "stdout",
     "output_type": "stream",
     "text": [
      "time: 1.17 s (started: 2023-05-03 08:54:08 -04:00)\n"
     ]
    }
   ],
   "source": [
    "big_data = np.zeros((500,16,16))\n",
    "filedir = 'C:/Users/glitteri/Documents/LightField'\n",
    "for i in range(500):\n",
    "    fname = (f'rando_wiggle-1-{i}.spe')\n",
    "    full_fname = os.path.join(filedir,fname)\n",
    "    spe_data = spe2py.SpeFile(full_fname, skip_wavelength=True)\n",
    "    data = (spe_data.data[0][0])\n",
    "    big_data[i] = data"
   ]
  },
  {
   "cell_type": "code",
   "execution_count": 77,
   "metadata": {},
   "outputs": [
    {
     "name": "stdout",
     "output_type": "stream",
     "text": [
      "time: 0 ns (started: 2023-05-03 09:08:00 -04:00)\n"
     ]
    }
   ],
   "source": [
    "from zialab.misc.top_eclipse import nikoncalibrator"
   ]
  },
  {
   "cell_type": "code",
   "execution_count": 84,
   "metadata": {},
   "outputs": [
    {
     "ename": "AssertionError",
     "evalue": "Target intensity is too high, maximum is about 1. Consider increasing the overall brightness by other means.",
     "output_type": "error",
     "traceback": [
      "\u001b[1;31m---------------------------------------------------------------------------\u001b[0m",
      "\u001b[1;31mAssertionError\u001b[0m                            Traceback (most recent call last)",
      "\u001b[1;32m<ipython-input-84-f0e8db2c4ee9>\u001b[0m in \u001b[0;36m<module>\u001b[1;34m\u001b[0m\n\u001b[0;32m      5\u001b[0m \u001b[0mmax_count\u001b[0m \u001b[1;33m=\u001b[0m \u001b[0mnp\u001b[0m\u001b[1;33m.\u001b[0m\u001b[0mmax\u001b[0m\u001b[1;33m(\u001b[0m\u001b[0mbig_data\u001b[0m\u001b[1;33m)\u001b[0m\u001b[1;33m\u001b[0m\u001b[1;33m\u001b[0m\u001b[0m\n\u001b[0;32m      6\u001b[0m \u001b[0mest_max_count\u001b[0m \u001b[1;33m=\u001b[0m \u001b[1;36m0.0000001\u001b[0m \u001b[1;33m*\u001b[0m \u001b[1;33m(\u001b[0m\u001b[0mmax_count\u001b[0m\u001b[1;33m/\u001b[0m\u001b[0msingle_exposure_time\u001b[0m\u001b[1;33m)\u001b[0m \u001b[1;33m*\u001b[0m \u001b[0mtime_taken\u001b[0m\u001b[1;33m\u001b[0m\u001b[1;33m\u001b[0m\u001b[0m\n\u001b[1;32m----> 7\u001b[1;33m \u001b[0mnew_knob\u001b[0m \u001b[1;33m=\u001b[0m \u001b[0mnikoncalibrator\u001b[0m\u001b[1;33m(\u001b[0m\u001b[0mest_max_count\u001b[0m\u001b[1;33m,\u001b[0m \u001b[0mnikon_knob\u001b[0m\u001b[1;33m,\u001b[0m \u001b[0mmax_counts\u001b[0m\u001b[1;33m)\u001b[0m\u001b[1;33m\u001b[0m\u001b[1;33m\u001b[0m\u001b[0m\n\u001b[0m\u001b[0;32m      8\u001b[0m \u001b[0mprint\u001b[0m\u001b[1;33m(\u001b[0m\u001b[1;34mf\"Estimated max counts on long exposure is {est_max_count}.\"\u001b[0m\u001b[1;33m)\u001b[0m\u001b[1;33m\u001b[0m\u001b[1;33m\u001b[0m\u001b[0m\n\u001b[0;32m      9\u001b[0m \u001b[0mprint\u001b[0m\u001b[1;33m(\u001b[0m\u001b[1;34mf\"Change the illumination knob to {new_knob}.\"\u001b[0m\u001b[1;33m)\u001b[0m\u001b[1;33m\u001b[0m\u001b[1;33m\u001b[0m\u001b[0m\n",
      "\u001b[1;32mD:/ZiaLab/Codebase\\zialab\\misc\\top_eclipse.py\u001b[0m in \u001b[0;36mnikoncalibrator\u001b[1;34m(current_intensity, current_knob, target_intensity)\u001b[0m\n\u001b[0;32m     47\u001b[0m                                 scaled_niko[:,0]))\n\u001b[0;32m     48\u001b[0m     \u001b[1;32massert\u001b[0m \u001b[0mtarget_intensity\u001b[0m \u001b[1;33m>=\u001b[0m \u001b[0mmin_scaled\u001b[0m\u001b[1;33m,\u001b[0m \u001b[1;34mf\"Target intensity is too low, minimum is about {min_scaled}. Consider decreasing the overall brightness by other means\"\u001b[0m\u001b[1;33m\u001b[0m\u001b[1;33m\u001b[0m\u001b[0m\n\u001b[1;32m---> 49\u001b[1;33m     \u001b[1;32massert\u001b[0m \u001b[0mtarget_intensity\u001b[0m \u001b[1;33m<=\u001b[0m \u001b[0mmax_scaled\u001b[0m\u001b[1;33m,\u001b[0m \u001b[1;34mf\"Target intensity is too high, maximum is about {max_scaled}. Consider increasing the overall brightness by other means.\"\u001b[0m\u001b[1;33m\u001b[0m\u001b[1;33m\u001b[0m\u001b[0m\n\u001b[0m\u001b[0;32m     50\u001b[0m     \u001b[1;32mreturn\u001b[0m \u001b[0mtarget_knob\u001b[0m\u001b[1;33m\u001b[0m\u001b[1;33m\u001b[0m\u001b[0m\n",
      "\u001b[1;31mAssertionError\u001b[0m: Target intensity is too high, maximum is about 1. Consider increasing the overall brightness by other means."
     ]
    },
    {
     "name": "stdout",
     "output_type": "stream",
     "text": [
      "time: 15 ms (started: 2023-05-03 09:31:33 -04:00)\n"
     ]
    }
   ],
   "source": [
    "single_exposure_time = 0.200\n",
    "time_taken =  10\n",
    "nikon_knob = 50\n",
    "max_counts = 60000\n",
    "max_count = np.max(big_data)\n",
    "est_max_count = 0.0000001 * (max_count/single_exposure_time) * time_taken\n",
    "new_knob = nikoncalibrator(est_max_count, nikon_knob, max_counts)\n",
    "print(f\"Estimated max counts on long exposure is {est_max_count}.\")\n",
    "print(f\"Change the illumination knob to {new_knob}.\")\n",
    "input(\"Press Enter to continue.\")"
   ]
  },
  {
   "cell_type": "code",
   "execution_count": 75,
   "metadata": {},
   "outputs": [
    {
     "data": {
      "text/plain": [
       "256"
      ]
     },
     "execution_count": 75,
     "metadata": {},
     "output_type": "execute_result"
    },
    {
     "name": "stdout",
     "output_type": "stream",
     "text": [
      "time: 0 ns (started: 2023-05-03 09:02:51 -04:00)\n"
     ]
    }
   ],
   "source": [
    "16*16"
   ]
  },
  {
   "cell_type": "code",
   "execution_count": 70,
   "metadata": {},
   "outputs": [
    {
     "data": {
      "image/png": "[encoded data removed]",
      "text/plain": [
       "<Figure size 432x288 with 1 Axes>"
      ]
     },
     "metadata": {
      "needs_background": "light"
     },
     "output_type": "display_data"
    },
    {
     "name": "stdout",
     "output_type": "stream",
     "text": [
      "time: 219 ms (started: 2023-05-03 08:57:00 -04:00)\n"
     ]
    }
   ],
   "source": [
    "plt.figure()\n",
    "plt.hist(big_data.flatten())\n",
    "plt.show()"
   ]
  },
  {
   "attachments": {},
   "cell_type": "markdown",
   "metadata": {},
   "source": [
    "### ###Random Walk + Long Exposure - May 3 "
   ]
  },
  {
   "cell_type": "code",
   "execution_count": 1,
   "metadata": {},
   "outputs": [],
   "source": [
    "from tqdm import tqdm"
   ]
  },
  {
   "cell_type": "code",
   "execution_count": 145,
   "metadata": {},
   "outputs": [
    {
     "name": "stdout",
     "output_type": "stream",
     "text": [
      "time: 0 ns (started: 2023-05-03 11:58:01 -04:00)\n"
     ]
    }
   ],
   "source": [
    "experiment = {'num_random_walks': 1,\n",
    "              'step_size_in_um': 2.6 ,\n",
    "              'xy_origin_in_mm': (0.5390, 1.1998),\n",
    "              'condenser_aperture_diaphragm': 8,\n",
    "              'num_steps': 200,\n",
    "              'stepped_data': [],\n",
    "              'long_exp_data': [],\n",
    "              'walk_steps': [],\n",
    "              'walk_strings': [],\n",
    "              'single_exposure_time': 0.1,\n",
    "              'walk_trajectories_in_int': [],\n",
    "              'walk_trajectories_in_mm': []}\n",
    "for i in range(experiment['num_random_walks']):\n",
    "    walkSteps, walkString, walkTrajectory_in_mm, walkTrajectory_in_steps = rando_wiggle(experiment['step_size_in_um'],\n",
    "                                                         experiment['xy_origin_in_mm'],\n",
    "                                                         experiment['num_steps'])\n",
    "    experiment['walk_steps'].append(walkSteps)\n",
    "    experiment['walk_strings'].append(walkString)\n",
    "    experiment['walk_trajectories_in_mm'].append(walkTrajectory_in_mm)\n",
    "    experiment['walk_trajectories_in_int'].append(walkTrajectory_in_steps)"
   ]
  },
  {
   "cell_type": "code",
   "execution_count": 146,
   "metadata": {},
   "outputs": [
    {
     "name": "stderr",
     "output_type": "stream",
     "text": [
      "100%|██████████| 200/200 [05:20<00:00,  1.60s/it]\n"
     ]
    },
    {
     "name": "stdout",
     "output_type": "stream",
     "text": [
      "Estimated max counts on long exposure is 6270645.100364685.\n",
      "Change the illumination knob to 25.\n"
     ]
    },
    {
     "name": "stderr",
     "output_type": "stream",
     "text": [
      "100%|██████████| 200/200 [02:15<00:00,  1.48it/s]\n"
     ]
    },
    {
     "name": "stdout",
     "output_type": "stream",
     "text": [
      "time: 9min 4s (started: 2023-05-03 11:58:14 -04:00)\n"
     ]
    }
   ],
   "source": [
    "max_counts = 60000 # use to estimate correct exposure\n",
    "trajectories_in_mm = experiment['walk_trajectories_in_mm']\n",
    "trajectories_in_int = experiment['walk_trajectories_in_int']\n",
    "num_steps = experiment['num_steps']\n",
    "single_exposure_time = experiment['single_exposure_time']\n",
    "xorigin, yorigin = experiment['xy_origin_in_mm']\n",
    "nikon_knob = 50\n",
    "for rando_walk_index in range(experiment['num_random_walks']):\n",
    "    big_data = np.zeros((num_steps,16,16))\n",
    "    single_walk_dictionary = {}\n",
    "    trajectory_in_mm = trajectories_in_mm[rando_walk_index]\n",
    "    trajectory_in_int = trajectories_in_int[rando_walk_index]\n",
    "    move_and_wait(stage,'x',xorigin)\n",
    "    move_and_wait(stage,'y',yorigin)\n",
    "    lf.set_exposure(single_exposure_time*1000)\n",
    "    time_taken = 0\n",
    "    for trajectory_index in tqdm(range(experiment['num_steps'])):\n",
    "        commanded_position_in_mm = trajectory_in_mm[trajectory_index]\n",
    "        commanded_position_in_int = tuple(trajectory_in_int[trajectory_index])\n",
    "        # command the stage to move to commanded_position_in_mm\n",
    "        x, y = commanded_position_in_mm\n",
    "        start_time = time()\n",
    "        move_and_wait(stage,'x',x)\n",
    "        move_and_wait(stage,'y',y)\n",
    "        end_time = time()\n",
    "        time_taken += (end_time-start_time)\n",
    "        # tell lightfield to set the filename to blah\n",
    "        fname = 'long_wiggle-%d-%d' % (rando_walk_index, trajectory_index)\n",
    "        lf.set_filename(fname,timetag=False)\n",
    "        # take an exposure\n",
    "        lf.acquire_and_wait()\n",
    "        # grab the actual name of spe file\n",
    "        spe_fname = lightfield.get_latest_spe_fname(lf_dir)\n",
    "        the_tiff_fname = os.path.join(spe_fname['fname'].replace('.spe','.tif'))\n",
    "        # create the name of the tiff file\n",
    "        single_walk_dictionary[trajectory_index] = the_tiff_fname\n",
    "        # read the data and save it to array\n",
    "        full_fname = os.path.join(spe_fname['dir'], spe_fname['fname'])\n",
    "        spe_data = spe2py.SpeFile(full_fname, skip_wavelength=True)\n",
    "        data = (spe_data.data[0][0])\n",
    "        big_data[trajectory_index] = data\n",
    "    single_walk_dictionary['time_taken'] = time_taken\n",
    "    # find the max count to estimate the max count rate\n",
    "    max_count = np.max(big_data)\n",
    "    single_walk_dictionary['big_data'] = big_data\n",
    "    est_max_count = (max_count/single_exposure_time) * time_taken\n",
    "    if rando_walk_index == 0:\n",
    "        # this might fail on an assertion\n",
    "        new_knob = nikoncalibrator(est_max_count, nikon_knob, max_counts)\n",
    "        print(f\"Estimated max counts on long exposure is {est_max_count}.\")\n",
    "        print(f\"Change the illumination knob to {new_knob}.\")\n",
    "        # change illumination, if necessary\n",
    "        input(\"Change illumination if necessary, press Enter to continue.\")\n",
    "    experiment['stepped_data'].append(single_walk_dictionary)\n",
    "    # long exposure\n",
    "    # move back to the origin\n",
    "    move_and_wait(stage,'x',xorigin)\n",
    "    move_and_wait(stage,'y',yorigin)\n",
    "    # change the exposure to be equal to time_taken\n",
    "    lf.set_exposure(time_taken*1000)\n",
    "    fname = 'long_wiggle-%d-all' % (rando_walk_index)\n",
    "    lf.set_filename(fname, timetag=False)\n",
    "    lf.experiment.Acquire()\n",
    "    start_time = time()\n",
    "    for trajectory_index in tqdm(range(experiment['num_steps'])):\n",
    "        commanded_position_in_mm = trajectory_in_mm[trajectory_index]\n",
    "        commanded_position_in_int = tuple(trajectory_in_int[trajectory_index])\n",
    "        # command the stage to move to commanded_position_in_mm\n",
    "        x, y = commanded_position_in_mm\n",
    "        move_and_wait(stage,'x',x)\n",
    "        move_and_wait(stage,'y',y)\n",
    "    end_time = time()\n",
    "    time_actual_walk = end_time - start_time\n",
    "    single_walk_dictionary['time_long_exp_actual'] = time_actual_walk\n",
    "    # to be sure that the acquisition has actually ended\n",
    "    extra_time = time_taken - time_actual_walk\n",
    "    if extra_time > 0:\n",
    "        sleep(extra_time*1.2)\n",
    "    spe_fname = lightfield.get_latest_spe_fname(lf_dir)\n",
    "    the_tiff_fname = os.path.join(spe_fname['fname'].replace('.spe','.tif'))\n",
    "    spe_data = spe2py.SpeFile(full_fname, skip_wavelength=True)\n",
    "    long_exposure_data = (spe_data.data[0][0])\n",
    "    experiment['long_exp_data'].append(long_exposure_data)\n",
    "    bell()\n"
   ]
  },
  {
   "cell_type": "code",
   "execution_count": 150,
   "metadata": {},
   "outputs": [
    {
     "data": {
      "text/plain": [
       "135.43450045585632"
      ]
     },
     "execution_count": 150,
     "metadata": {},
     "output_type": "execute_result"
    },
    {
     "name": "stdout",
     "output_type": "stream",
     "text": [
      "time: 15 ms (started: 2023-05-03 12:13:08 -04:00)\n"
     ]
    }
   ],
   "source": [
    "# time_actual_walk 135.43450045585632"
   ]
  },
  {
   "cell_type": "code",
   "execution_count": 151,
   "metadata": {},
   "outputs": [
    {
     "name": "stderr",
     "output_type": "stream",
     "text": [
      "100%|██████████| 200/200 [02:32<00:00,  1.31it/s]"
     ]
    },
    {
     "name": "stdout",
     "output_type": "stream",
     "text": [
      "time: 2min 34s (started: 2023-05-03 12:15:58 -04:00)\n"
     ]
    },
    {
     "name": "stderr",
     "output_type": "stream",
     "text": [
      "\n"
     ]
    }
   ],
   "source": [
    "# max_counts = 60000 # use to estimate correct exposure\n",
    "# trajectories_in_mm = experiment['walk_trajectories_in_mm']\n",
    "# trajectories_in_int = experiment['walk_trajectories_in_int']\n",
    "# num_steps = experiment['num_steps']\n",
    "# single_exposure_time = experiment['single_exposure_time']\n",
    "# xorigin, yorigin = experiment['xy_origin_in_mm']\n",
    "# nikon_knob = 50\n",
    "# man_override = True\n",
    "# for rando_walk_index in range(experiment['num_random_walks']):\n",
    "#     big_data = np.zeros((num_steps,16,16))\n",
    "#     single_walk_dictionary = {}\n",
    "#     trajectory_in_mm = trajectories_in_mm[rando_walk_index]\n",
    "#     trajectory_in_int = trajectories_in_int[rando_walk_index]\n",
    "#     if not man_override:\n",
    "#         move_and_wait(stage,'x',xorigin)\n",
    "#         move_and_wait(stage,'y',yorigin)\n",
    "#         lf.set_exposure(single_exposure_time*1000)\n",
    "#         time_taken = 0\n",
    "#         for trajectory_index in tqdm(range(experiment['num_steps'])):\n",
    "#             commanded_position_in_mm = trajectory_in_mm[trajectory_index]\n",
    "#             commanded_position_in_int = tuple(trajectory_in_int[trajectory_index])\n",
    "#             # command the stage to move to commanded_position_in_mm\n",
    "#             x, y = commanded_position_in_mm\n",
    "#             start_time = time()\n",
    "#             move_and_wait(stage,'x',x)\n",
    "#             move_and_wait(stage,'y',y)\n",
    "#             end_time = time()\n",
    "#             time_taken += (end_time-start_time)\n",
    "#             # tell lightfield to set the filename to blah\n",
    "#             fname = 'long_wiggle-%d-%d' % (rando_walk_index, trajectory_index)\n",
    "#             lf.set_filename(fname,timetag=False)\n",
    "#             # take an exposure\n",
    "#             lf.acquire_and_wait()\n",
    "#             # grab the actual name of spe file\n",
    "#             spe_fname = lightfield.get_latest_spe_fname(lf_dir)\n",
    "#             the_tiff_fname = os.path.join(spe_fname['fname'].replace('.spe','.tif'))\n",
    "#             # create the name of the tiff file\n",
    "#             single_walk_dictionary[trajectory_index] = the_tiff_fname\n",
    "#             # read the data and save it to array\n",
    "#             full_fname = os.path.join(spe_fname['dir'], spe_fname['fname'])\n",
    "#             spe_data = spe2py.SpeFile(full_fname, skip_wavelength=True)\n",
    "#             data = (spe_data.data[0][0])\n",
    "#             big_data[trajectory_index] = data\n",
    "#         single_walk_dictionary['time_taken'] = time_taken\n",
    "#         # find the max count to estimate the max count rate\n",
    "#         max_count = np.max(big_data)\n",
    "#         single_walk_dictionary['big_data'] = big_data\n",
    "#         est_max_count = (max_count/single_exposure_time) * time_taken\n",
    "#         if rando_walk_index == 0:\n",
    "#             # this might fail on an assertion\n",
    "#             new_knob = nikoncalibrator(est_max_count, nikon_knob, max_counts)\n",
    "#             print(f\"Estimated max counts on long exposure is {est_max_count}.\")\n",
    "#             print(f\"Change the illumination knob to {new_knob}.\")\n",
    "#             # change illumination, if necessary\n",
    "#             input(\"Change illumination if necessary, press Enter to continue.\")\n",
    "#         experiment['stepped_data'].append(single_walk_dictionary)\n",
    "#     else:\n",
    "#         time_taken = 135.43450\n",
    "#     # long exposure\n",
    "#     # move back to the origin\n",
    "#     move_and_wait(stage,'x',xorigin)\n",
    "#     move_and_wait(stage,'y',yorigin)\n",
    "#     # change the exposure to be equal to time_taken\n",
    "#     lf.set_exposure(time_taken*1000)\n",
    "#     fname = 'long_wiggle-%d-all-override' % (rando_walk_index)\n",
    "#     lf.set_filename(fname, timetag=False)\n",
    "#     lf.experiment.Acquire()\n",
    "#     start_time = time()\n",
    "#     for trajectory_index in tqdm(range(experiment['num_steps'])):\n",
    "#         commanded_position_in_mm = trajectory_in_mm[trajectory_index]\n",
    "#         commanded_position_in_int = tuple(trajectory_in_int[trajectory_index])\n",
    "#         # command the stage to move to commanded_position_in_mm\n",
    "#         x, y = commanded_position_in_mm\n",
    "#         move_and_wait(stage,'x',x)\n",
    "#         move_and_wait(stage,'y',y)\n",
    "#     end_time = time()\n",
    "#     time_actual_walk = end_time - start_time\n",
    "#     single_walk_dictionary['time_long_exp_actual_override'] = time_actual_walk\n",
    "#     # to be sure that the acquisition has actually ended\n",
    "#     extra_time = time_taken - time_actual_walk\n",
    "#     if extra_time > 0:\n",
    "#         sleep(extra_time*1.2)\n",
    "#     spe_fname = lightfield.get_latest_spe_fname(lf_dir)\n",
    "#     the_tiff_fname = os.path.join(spe_fname['fname'].replace('.spe','.tif'))\n",
    "#     spe_data = spe2py.SpeFile(full_fname, skip_wavelength=True)\n",
    "#     long_exposure_data = (spe_data.data[0][0])\n",
    "#     experiment['long_exp_data'].append(long_exposure_data)\n",
    "#     bell()\n"
   ]
  },
  {
   "attachments": {},
   "cell_type": "markdown",
   "metadata": {},
   "source": [
    "### ###Random Walk + Long Exposure + Manual stop of motion - May 3 "
   ]
  },
  {
   "cell_type": "code",
   "execution_count": null,
   "metadata": {},
   "outputs": [],
   "source": [
    "from tqdm import tqdm"
   ]
  },
  {
   "cell_type": "code",
   "execution_count": 176,
   "metadata": {},
   "outputs": [
    {
     "name": "stdout",
     "output_type": "stream",
     "text": [
      "time: 16 ms (started: 2023-05-03 12:49:28 -04:00)\n"
     ]
    }
   ],
   "source": [
    "experiment = {'num_random_walks': 1,\n",
    "              'step_size_in_um': 2.6 ,\n",
    "              'xy_origin_in_mm': (0.5390, 1.1998),\n",
    "              'condenser_aperture_diaphragm': 8,\n",
    "              'num_steps': 200,\n",
    "              'stepped_data': [],\n",
    "              'long_exp_data': [],\n",
    "              'walk_steps': [],\n",
    "              'walk_strings': [],\n",
    "              'single_exposure_time': 0.1,\n",
    "              'walk_trajectories_in_int': [],\n",
    "              'walk_trajectories_in_mm': []}\n",
    "for i in range(experiment['num_random_walks']):\n",
    "    walkSteps, walkString, walkTrajectory_in_mm, walkTrajectory_in_steps = rando_wiggle(experiment['step_size_in_um'],\n",
    "                                                         experiment['xy_origin_in_mm'],\n",
    "                                                         experiment['num_steps'])\n",
    "    experiment['walk_steps'].append(walkSteps)\n",
    "    experiment['walk_strings'].append(walkString)\n",
    "    experiment['walk_trajectories_in_mm'].append(walkTrajectory_in_mm)\n",
    "    experiment['walk_trajectories_in_int'].append(walkTrajectory_in_steps)"
   ]
  },
  {
   "cell_type": "code",
   "execution_count": 177,
   "metadata": {},
   "outputs": [
    {
     "name": "stderr",
     "output_type": "stream",
     "text": [
      "100%|██████████| 200/200 [05:47<00:00,  1.74s/it]\n"
     ]
    },
    {
     "name": "stdout",
     "output_type": "stream",
     "text": [
      "Estimated max counts on long exposure is 6432120.486488342.\n",
      "Change the illumination knob to 25.\n"
     ]
    },
    {
     "name": "stderr",
     "output_type": "stream",
     "text": [
      " 90%|█████████ | 181/200 [02:16<00:14,  1.32it/s]"
     ]
    },
    {
     "name": "stdout",
     "output_type": "stream",
     "text": [
      "Exposure has ended, stopping motion ...\n",
      "Last motion index was 180\n",
      "time: 8min 29s (started: 2023-05-03 12:49:29 -04:00)\n"
     ]
    },
    {
     "name": "stderr",
     "output_type": "stream",
     "text": [
      "\n"
     ]
    }
   ],
   "source": [
    "max_counts = 60000 # use to estimate correct exposure\n",
    "trajectories_in_mm = experiment['walk_trajectories_in_mm']\n",
    "trajectories_in_int = experiment['walk_trajectories_in_int']\n",
    "num_steps = experiment['num_steps']\n",
    "single_exposure_time = experiment['single_exposure_time']\n",
    "xorigin, yorigin = experiment['xy_origin_in_mm']\n",
    "nikon_knob = 50\n",
    "magical_chop = 0.35\n",
    "for rando_walk_index in range(experiment['num_random_walks']):\n",
    "    big_data = np.zeros((num_steps,16,16))\n",
    "    single_walk_dictionary = {}\n",
    "    trajectory_in_mm = trajectories_in_mm[rando_walk_index]\n",
    "    trajectory_in_int = trajectories_in_int[rando_walk_index]\n",
    "    move_and_wait(stage,'x',xorigin)\n",
    "    move_and_wait(stage,'y',yorigin)\n",
    "    lf.set_exposure(single_exposure_time*1000)\n",
    "    time_taken = 0\n",
    "    for trajectory_index in tqdm(range(experiment['num_steps'])):\n",
    "        commanded_position_in_mm = trajectory_in_mm[trajectory_index]\n",
    "        commanded_position_in_int = tuple(trajectory_in_int[trajectory_index])\n",
    "        # command the stage to move to commanded_position_in_mm\n",
    "        x, y = commanded_position_in_mm\n",
    "        start_time = time()\n",
    "        move_and_wait(stage,'x',x)\n",
    "        move_and_wait(stage,'y',y)\n",
    "        end_time = time()\n",
    "        time_taken += (end_time-start_time)\n",
    "        # tell lightfield to set the filename to blah\n",
    "        fname = 'long_wiggle-%d-%d' % (rando_walk_index, trajectory_index)\n",
    "        lf.set_filename(fname,timetag=False)\n",
    "        # take an exposure\n",
    "        lf.acquire_and_wait()\n",
    "        # grab the actual name of spe file\n",
    "        spe_fname = lightfield.get_latest_spe_fname(lf_dir)\n",
    "        the_tiff_fname = os.path.join(spe_fname['fname'].replace('.spe','.tif'))\n",
    "        # create the name of the tiff file\n",
    "        single_walk_dictionary[trajectory_index] = the_tiff_fname\n",
    "        # read the data and save it to array\n",
    "        full_fname = os.path.join(spe_fname['dir'], spe_fname['fname'])\n",
    "        spe_data = spe2py.SpeFile(full_fname, skip_wavelength=True)\n",
    "        data = (spe_data.data[0][0])\n",
    "        big_data[trajectory_index] = data\n",
    "    single_walk_dictionary['time_taken'] = time_taken\n",
    "    # find the max count to estimate the max count rate\n",
    "    max_count = np.max(big_data)\n",
    "    single_walk_dictionary['big_data'] = big_data\n",
    "    est_max_count = (max_count/single_exposure_time) * time_taken\n",
    "    if rando_walk_index == 0:\n",
    "        # this might fail on an assertion\n",
    "        new_knob = nikoncalibrator(est_max_count, nikon_knob, max_counts)\n",
    "        print(f\"Estimated max counts on long exposure is {est_max_count}.\")\n",
    "        print(f\"Change the illumination knob to {new_knob}.\")\n",
    "        # change illumination, if necessary\n",
    "        input(\"Change illumination if necessary, press Enter to continue.\")\n",
    "    # long exposure\n",
    "    # move back to the origin\n",
    "    move_and_wait(stage,'x',xorigin)\n",
    "    move_and_wait(stage,'y',yorigin)\n",
    "    # change the exposure to be equal to time_taken\n",
    "    time_taken = (1-magical_chop) * time_taken\n",
    "    lf.set_exposure(time_taken*1000)\n",
    "    fname = 'long_wiggle-%d-all' % (rando_walk_index)\n",
    "    lf.set_filename(fname, timetag=False)\n",
    "    lf.experiment.Acquire()\n",
    "    start_time = time()\n",
    "    for trajectory_index in tqdm(range(experiment['num_steps'])):\n",
    "        if lf.experiment.IsRunning == False:\n",
    "            exit_index = trajectory_index - 1\n",
    "            print(\"Exposure has ended, stopping motion ...\")\n",
    "            print(f\"Last motion index was {exit_index}\")\n",
    "            break\n",
    "        commanded_position_in_mm = trajectory_in_mm[trajectory_index]\n",
    "        commanded_position_in_int = tuple(trajectory_in_int[trajectory_index])\n",
    "        # command the stage to move to commanded_position_in_mm\n",
    "        x, y = commanded_position_in_mm\n",
    "        move_and_wait(stage,'x',x)\n",
    "        move_and_wait(stage,'y',y)\n",
    "    else:\n",
    "        assert False, \"Exposure was too long.\"\n",
    "    end_time = time()\n",
    "    time_actual_walk = end_time - start_time\n",
    "    single_walk_dictionary['time_long_exp_actual'] = time_actual_walk\n",
    "    single_walk_dictionary['exit_index'] = exit_index\n",
    "    spe_fname = lightfield.get_latest_spe_fname(lf_dir)\n",
    "    the_tiff_fname = os.path.join(spe_fname['fname'].replace('.spe','.tif'))\n",
    "    spe_data = spe2py.SpeFile(full_fname, skip_wavelength=True)\n",
    "    long_exposure_data = (spe_data.data[0][0])\n",
    "    experiment['long_exp_data'].append(long_exposure_data)\n",
    "    experiment['stepped_data'].append(single_walk_dictionary)\n",
    "    bell()\n"
   ]
  },
  {
   "cell_type": "code",
   "execution_count": 178,
   "metadata": {},
   "outputs": [
    {
     "data": {
      "text/plain": [
       "'[[[0, 0], [1, 0], [1, -1], [2, -1], [2, 0], [2, 1], [1, 1], [1, 0], [1, -1], [2, -1], [1, -1], [2, -1], [3, -1], [2, -1], [2, 0], [1, 0], [1, -1], [1, 0], [2, 0], [1, 0], [1, -1], [1, 0], [1, -1], [0, -1], [0, -2], [-1, -2], [-2, -2], [-3, -2], [-4, -2], [-3, -2], [-2, -2], [-1, -2], [0, -2], [1, -2], [1, -3], [1, -2], [1, -1], [2, -1], [2, 0], [3, 0], [4, 0], [4, 1], [3, 1], [2, 1], [2, 2], [1, 2], [1, 3], [1, 2], [2, 2], [1, 2], [1, 1], [2, 1], [3, 1], [4, 1], [4, 0], [3, 0], [2, 0], [1, 0], [1, -1], [1, -2], [0, -2], [-1, -2], [-1, -3], [0, -3], [1, -3], [2, -3], [1, -3], [1, -2], [0, -2], [0, -3], [0, -4], [0, -3], [-1, -3], [0, -3], [1, -3], [0, -3], [0, -4], [0, -5], [0, -4], [1, -4], [1, -5], [1, -4], [2, -4], [2, -5], [2, -4], [3, -4], [4, -4], [3, -4], [4, -4], [4, -5], [4, -4], [4, -3], [5, -3], [5, -2], [5, -1], [4, -1], [4, -2], [4, -1], [4, 0], [5, 0], [5, 1], [5, 2], [5, 1], [6, 1], [6, 2], [6, 3], [6, 4], [7, 4], [6, 4], [6, 3], [5, 3], [4, 3], [5, 3], [5, 2], [4, 2], [4, 3], [3, 3], [2, 3], [2, 4], [2, 5], [3, 5], [4, 5], [5, 5], [6, 5], [5, 5], [6, 5], [7, 5], [7, 4], [6, 4], [6, 5], [7, 5], [6, 5], [7, 5], [8, 5], [8, 6], [8, 7], [8, 8], [8, 9], [8, 8], [9, 8], [8, 8], [8, 9], [9, 9], [10, 9], [10, 8], [9, 8], [9, 9], [9, 10], [10, 10], [10, 9], [10, 10], [10, 11], [10, 12], [11, 12], [11, 11], [11, 12], [10, 12], [9, 12], [8, 12], [9, 12], [9, 11], [10, 11], [10, 10], [10, 9], [10, 8], [9, 8], [9, 9], [9, 8], [9, 9], [9, 8], [9, 7], [8, 7], [9, 7], [10, 7], [11, 7], [12, 7], [11, 7], [11, 8], [11, 7], [12, 7], [11, 7], [11, 6], [11, 5], [11, 6], [11, 5], [11, 4], [11, 3], [11, 2], [12, 2], [11, 2], [11, 3], [11, 2], [11, 3], [12, 3], [11, 3], [12, 3], [11, 3], [11, 2], [11, 1], [11, 0]]]'"
      ]
     },
     "execution_count": 178,
     "metadata": {},
     "output_type": "execute_result"
    },
    {
     "name": "stdout",
     "output_type": "stream",
     "text": [
      "time: 0 ns (started: 2023-05-03 12:58:43 -04:00)\n"
     ]
    }
   ],
   "source": [
    "str(list(map(lambda x: x.tolist(), np.array(experiment['walk_trajectories_in_int']))))"
   ]
  },
  {
   "cell_type": "code",
   "execution_count": 179,
   "metadata": {},
   "outputs": [
    {
     "name": "stdout",
     "output_type": "stream",
     "text": [
      "time: 0 ns (started: 2023-05-03 12:59:34 -04:00)\n"
     ]
    }
   ],
   "source": [
    "with open('rando_200_trajectories_only_take_till_180.py','w') as file:\n",
    "    file.write('randomotion='+str(list(map(lambda x: x.tolist(), np.array(experiment['walk_trajectories_in_int'])))))"
   ]
  },
  {
   "cell_type": "code",
   "execution_count": 181,
   "metadata": {},
   "outputs": [
    {
     "name": "stdout",
     "output_type": "stream",
     "text": [
      "time: 0 ns (started: 2023-05-03 13:03:43 -04:00)\n"
     ]
    }
   ],
   "source": [
    "import pickle"
   ]
  },
  {
   "cell_type": "code",
   "execution_count": 182,
   "metadata": {},
   "outputs": [
    {
     "name": "stdout",
     "output_type": "stream",
     "text": [
      "time: 16 ms (started: 2023-05-03 13:03:43 -04:00)\n"
     ]
    }
   ],
   "source": [
    "pickle.dump(experiment,open(\"long_wiggle.pkl\",'wb'))"
   ]
  },
  {
   "cell_type": "code",
   "execution_count": null,
   "metadata": {},
   "outputs": [
    {
     "data": {
      "text/plain": [
       "135.43450045585632"
      ]
     },
     "metadata": {},
     "output_type": "display_data"
    },
    {
     "name": "stdout",
     "output_type": "stream",
     "text": [
      "time: 15 ms (started: 2023-05-03 12:13:08 -04:00)\n"
     ]
    }
   ],
   "source": [
    "# time_actual_walk 135.43450045585632"
   ]
  },
  {
   "cell_type": "code",
   "execution_count": null,
   "metadata": {},
   "outputs": [
    {
     "name": "stderr",
     "output_type": "stream",
     "text": [
      "100%|██████████| 200/200 [02:32<00:00,  1.31it/s]"
     ]
    },
    {
     "name": "stdout",
     "output_type": "stream",
     "text": [
      "time: 2min 34s (started: 2023-05-03 12:15:58 -04:00)\n"
     ]
    },
    {
     "name": "stderr",
     "output_type": "stream",
     "text": [
      "\n"
     ]
    }
   ],
   "source": [
    "# max_counts = 60000 # use to estimate correct exposure\n",
    "# trajectories_in_mm = experiment['walk_trajectories_in_mm']\n",
    "# trajectories_in_int = experiment['walk_trajectories_in_int']\n",
    "# num_steps = experiment['num_steps']\n",
    "# single_exposure_time = experiment['single_exposure_time']\n",
    "# xorigin, yorigin = experiment['xy_origin_in_mm']\n",
    "# nikon_knob = 50\n",
    "# man_override = True\n",
    "# for rando_walk_index in range(experiment['num_random_walks']):\n",
    "#     big_data = np.zeros((num_steps,16,16))\n",
    "#     single_walk_dictionary = {}\n",
    "#     trajectory_in_mm = trajectories_in_mm[rando_walk_index]\n",
    "#     trajectory_in_int = trajectories_in_int[rando_walk_index]\n",
    "#     if not man_override:\n",
    "#         move_and_wait(stage,'x',xorigin)\n",
    "#         move_and_wait(stage,'y',yorigin)\n",
    "#         lf.set_exposure(single_exposure_time*1000)\n",
    "#         time_taken = 0\n",
    "#         for trajectory_index in tqdm(range(experiment['num_steps'])):\n",
    "#             commanded_position_in_mm = trajectory_in_mm[trajectory_index]\n",
    "#             commanded_position_in_int = tuple(trajectory_in_int[trajectory_index])\n",
    "#             # command the stage to move to commanded_position_in_mm\n",
    "#             x, y = commanded_position_in_mm\n",
    "#             start_time = time()\n",
    "#             move_and_wait(stage,'x',x)\n",
    "#             move_and_wait(stage,'y',y)\n",
    "#             end_time = time()\n",
    "#             time_taken += (end_time-start_time)\n",
    "#             # tell lightfield to set the filename to blah\n",
    "#             fname = 'long_wiggle-%d-%d' % (rando_walk_index, trajectory_index)\n",
    "#             lf.set_filename(fname,timetag=False)\n",
    "#             # take an exposure\n",
    "#             lf.acquire_and_wait()\n",
    "#             # grab the actual name of spe file\n",
    "#             spe_fname = lightfield.get_latest_spe_fname(lf_dir)\n",
    "#             the_tiff_fname = os.path.join(spe_fname['fname'].replace('.spe','.tif'))\n",
    "#             # create the name of the tiff file\n",
    "#             single_walk_dictionary[trajectory_index] = the_tiff_fname\n",
    "#             # read the data and save it to array\n",
    "#             full_fname = os.path.join(spe_fname['dir'], spe_fname['fname'])\n",
    "#             spe_data = spe2py.SpeFile(full_fname, skip_wavelength=True)\n",
    "#             data = (spe_data.data[0][0])\n",
    "#             big_data[trajectory_index] = data\n",
    "#         single_walk_dictionary['time_taken'] = time_taken\n",
    "#         # find the max count to estimate the max count rate\n",
    "#         max_count = np.max(big_data)\n",
    "#         single_walk_dictionary['big_data'] = big_data\n",
    "#         est_max_count = (max_count/single_exposure_time) * time_taken\n",
    "#         if rando_walk_index == 0:\n",
    "#             # this might fail on an assertion\n",
    "#             new_knob = nikoncalibrator(est_max_count, nikon_knob, max_counts)\n",
    "#             print(f\"Estimated max counts on long exposure is {est_max_count}.\")\n",
    "#             print(f\"Change the illumination knob to {new_knob}.\")\n",
    "#             # change illumination, if necessary\n",
    "#             input(\"Change illumination if necessary, press Enter to continue.\")\n",
    "#         experiment['stepped_data'].append(single_walk_dictionary)\n",
    "#     else:\n",
    "#         time_taken = 135.43450\n",
    "#     # long exposure\n",
    "#     # move back to the origin\n",
    "#     move_and_wait(stage,'x',xorigin)\n",
    "#     move_and_wait(stage,'y',yorigin)\n",
    "#     # change the exposure to be equal to time_taken\n",
    "#     lf.set_exposure(time_taken*1000)\n",
    "#     fname = 'long_wiggle-%d-all-override' % (rando_walk_index)\n",
    "#     lf.set_filename(fname, timetag=False)\n",
    "#     lf.experiment.Acquire()\n",
    "#     start_time = time()\n",
    "#     for trajectory_index in tqdm(range(experiment['num_steps'])):\n",
    "#         commanded_position_in_mm = trajectory_in_mm[trajectory_index]\n",
    "#         commanded_position_in_int = tuple(trajectory_in_int[trajectory_index])\n",
    "#         # command the stage to move to commanded_position_in_mm\n",
    "#         x, y = commanded_position_in_mm\n",
    "#         move_and_wait(stage,'x',x)\n",
    "#         move_and_wait(stage,'y',y)\n",
    "#     end_time = time()\n",
    "#     time_actual_walk = end_time - start_time\n",
    "#     single_walk_dictionary['time_long_exp_actual_override'] = time_actual_walk\n",
    "#     # to be sure that the acquisition has actually ended\n",
    "#     extra_time = time_taken - time_actual_walk\n",
    "#     if extra_time > 0:\n",
    "#         sleep(extra_time*1.2)\n",
    "#     spe_fname = lightfield.get_latest_spe_fname(lf_dir)\n",
    "#     the_tiff_fname = os.path.join(spe_fname['fname'].replace('.spe','.tif'))\n",
    "#     spe_data = spe2py.SpeFile(full_fname, skip_wavelength=True)\n",
    "#     long_exposure_data = (spe_data.data[0][0])\n",
    "#     experiment['long_exp_data'].append(long_exposure_data)\n",
    "#     bell()\n"
   ]
  }
 ],
 "metadata": {
  "kernelspec": {
   "display_name": "base",
   "language": "python",
   "name": "python3"
  },
  "language_info": {
   "codemirror_mode": {
    "name": "ipython",
    "version": 3
   },
   "file_extension": ".py",
   "mimetype": "text/x-python",
   "name": "python",
   "nbconvert_exporter": "python",
   "pygments_lexer": "ipython3",
   "version": "3.8.5"
  },
  "orig_nbformat": 4
 },
 "nbformat": 4,
 "nbformat_minor": 2
}
